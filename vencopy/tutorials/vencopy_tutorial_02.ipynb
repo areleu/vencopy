{
 "cells": [
  {
   "cell_type": "markdown",
   "metadata": {},
   "source": [
    "# VencoPy Tutorial 2"
   ]
  },
  {
   "cell_type": "markdown",
   "metadata": {},
   "source": [
    "This tutorial aims to give a more in depth overview into the DataParser class and showcases some features that can be customised."
   ]
  },
  {
   "cell_type": "code",
   "execution_count": 1,
   "metadata": {},
   "outputs": [
    {
     "name": "stdout",
     "output_type": "stream",
     "text": [
      "Current working directory: c:\\Users\\mior_fa\\Documents\\7_Work\\vencopy\\vencopy_internal\\vencopy\\vencopy\\tutorials\n"
     ]
    }
   ],
   "source": [
    "import sys\n",
    "import os\n",
    "from os import path\n",
    "from pathlib import Path\n",
    "\n",
    "sys.path.append((path.dirname(path.dirname(Path.cwd()))))\n",
    "\n",
    "from vencopy.core.dataparsers import parse_data\n",
    "from vencopy.utils.utils import load_configs, create_output_folders\n",
    "\n",
    "print(\"Current working directory: {0}\".format(os.getcwd()))"
   ]
  },
  {
   "cell_type": "code",
   "execution_count": 2,
   "metadata": {},
   "outputs": [],
   "source": [
    "base_path = Path.cwd().parent\n",
    "configs = load_configs(base_path)\n",
    "create_output_folders(configs=configs)\n",
    "    \n",
    "# Adapt relative paths in config for tutorials\n",
    "configs['dev_config']['global']['relative_path']['parse_output'] = Path.cwd().parent.parent / configs['dev_config']['global']['relative_path']['parse_output']\n",
    "configs['dev_config']['global']['relative_path']['diary_output'] = Path.cwd().parent.parent / configs['dev_config']['global']['relative_path']['diary_output']\n",
    "configs['dev_config']['global']['relative_path']['grid_output'] = Path.cwd().parent.parent / configs['dev_config']['global']['relative_path']['grid_output']\n",
    "configs['dev_config']['global']['relative_path']['flex_output'] = Path.cwd().parent.parent / configs['dev_config']['global']['relative_path']['flex_output']\n",
    "configs['dev_config']['global']['relative_path']['aggregator_output'] = Path.cwd().parent.parent / configs['dev_config']['global']['relative_path']['aggregator_output']\n",
    "configs['dev_config']['global']['relative_path']['processor_output'] = Path.cwd().parent.parent / configs['dev_config']['global']['relative_path']['processor_output']\n",
    "\n",
    "# Set reference dataset\n",
    "datasetID = 'MiD17'\n",
    "\n",
    "# Modify the localPathConfig file to point to the .csv file in the sampling folder in the tutorials directory where the dataset for the tutorials lies.\n",
    "configs['user_config']['global']['absolute_path'][datasetID] = Path.cwd() /'data_sampling'\n",
    "\n",
    "# Similarly we modify the datasetID in the global config file\n",
    "configs['dev_config']['global']['files'][datasetID]['trips_data_raw'] = datasetID + '.csv'\n",
    "\n",
    "# We also modify the parseConfig by removing some of the columns that are normally parsed from the MiD, which are not available in our semplified test dataframe\n",
    "del configs['dev_config']['dataparsers']['data_variables']['household_id']\n",
    "del configs['dev_config']['dataparsers']['data_variables']['person_id']\n"
   ]
  },
  {
   "cell_type": "markdown",
   "metadata": {},
   "source": [
    "## DataParser config file"
   ]
  },
  {
   "cell_type": "markdown",
   "metadata": {},
   "source": [
    "The DataParser config file defines which variables are to be parsed (i.e. the ones needed to create trip diaries and calculate fleet flexibility) and sets some filtering options, such as the conditions for trips to be included of excluded from the parsing."
   ]
  },
  {
   "cell_type": "markdown",
   "metadata": {},
   "source": [
    "<div class=\"alert alert-block alert-danger\"><b>Warning:</b> The list is very long.</div>"
   ]
  },
  {
   "cell_type": "code",
   "execution_count": 3,
   "metadata": {},
   "outputs": [
    {
     "data": {
      "text/plain": [
       "{'global': {'relative_path': {'parse_output': WindowsPath('c:/Users/mior_fa/Documents/7_Work/vencopy/vencopy_internal/vencopy/output/dataparser'),\n",
       "   'diary_output': WindowsPath('c:/Users/mior_fa/Documents/7_Work/vencopy/vencopy_internal/vencopy/output/diarybuilder'),\n",
       "   'grid_output': WindowsPath('c:/Users/mior_fa/Documents/7_Work/vencopy/vencopy_internal/vencopy/output/gridmodeller'),\n",
       "   'flex_output': WindowsPath('c:/Users/mior_fa/Documents/7_Work/vencopy/vencopy_internal/vencopy/output/flexestimator'),\n",
       "   'aggregator_output': WindowsPath('c:/Users/mior_fa/Documents/7_Work/vencopy/vencopy_internal/vencopy/output/profileaggregator'),\n",
       "   'processor_output': WindowsPath('c:/Users/mior_fa/Documents/7_Work/vencopy/vencopy_internal/vencopy/output/postprocessor'),\n",
       "   'config': './config/'},\n",
       "  'files': {'MiD17': {'enrypted_zip_file_B1': 'B1_Standard-DatensatzpaketEncrypted.zip',\n",
       "    'enrypted_zip_file_B2': 'B2_Regional-DatensatzpaketEncrypted.zip',\n",
       "    'households_data_raw': 'MiD2017_Regional_Haushalte.csv',\n",
       "    'persons_data_raw': 'MiD2017_Regional_Personen.csv',\n",
       "    'trips_data_raw': 'MiD17.csv'},\n",
       "   'MiD08': {'households_data_raw': 'MiD2008_PUF_Haushalte.dta',\n",
       "    'person_data_raw': 'MiD2008_PUF_Personen.dta',\n",
       "    'trips_data_raw': 'MiD2008_PUF_Wege.dta'},\n",
       "   'KiD': {'trips_data_raw': 'KiD2010-Fahrten-Datei-puf.dta',\n",
       "    'vehicles_data_raw': 'KiD2010-Fahrzeug-Datei-puf.dta'},\n",
       "   'VF': {'trips_data_raw': 'MiD2017_Wege.dta',\n",
       "    'vehicles_data_raw': 'tripDataMergedWVehicleData.csv'}},\n",
       "  'disk_file_names': {'output_dataparser': 'vencopy_output_dataparser',\n",
       "   'output_gridmodeller': 'vencopy_output_gridmodeller',\n",
       "   'output_flexestimator': 'vencopy_output_flexestimator',\n",
       "   'output_diarybuilder': 'vencopy_output_diarybuilder',\n",
       "   'output_profileaggregator': 'vencopy_output_profileaggregator',\n",
       "   'output_postprocessor_annual': 'vencopy_output_postprocessor_annual',\n",
       "   'output_postprocessor_normalised': 'vencopy_output_postprocessor_normalized'}},\n",
       " 'dataparsers': {'data_variables': {'dataset': ['MiD08', 'MiD17', 'KiD', 'VF'],\n",
       "   'is_driver': ['pkw_f', 'W_VM_G', 'NA', 'NA'],\n",
       "   'vehicle_id': ['NA', 'NA', 'k00', 'A_ID'],\n",
       "   'vehicle_segment': ['NA', 'NA', 'k01', 'seg_kba_gr'],\n",
       "   'drivetrain': ['NA', 'NA', 'NA', 'A_ANTRIEB'],\n",
       "   'household_person_id': ['NA', 'HP_ID_Reg', 'NA', 'HP_ID'],\n",
       "   'trip_id': ['wid', 'W_ID', 'f00', 'W_ID'],\n",
       "   'trip_weight': ['w_gew', 'W_GEW', 'k93', 'W_GEW'],\n",
       "   'trip_scale_factor': ['NA', 'W_HOCH', 'k90', 'W_HOCH'],\n",
       "   'trip_start_clock': ['st_time', 'W_SZ', 'f04', 'W_SZ'],\n",
       "   'trip_end_clock': ['en_time', 'W_AZ', 'f10a', 'W_AZ'],\n",
       "   'trip_purpose': ['w04', 'zweck', 'f07a', 'zweck'],\n",
       "   'trip_distance': ['wegkm_k', 'wegkm', 'f14', 'wegkm_imp'],\n",
       "   'travel_time': ['wegmin_k', 'wegmin_imp1', 'f15', 'wegmin_imp1'],\n",
       "   'trip_start_year': ['stich_j', 'ST_JAHR', 'NA', 'ST_JAHR'],\n",
       "   'trip_start_month': ['stich_m', 'ST_MONAT', 'NA', 'ST_MONAT'],\n",
       "   'trip_start_week': ['stichwo', 'ST_WOCHE', 'NA', 'ST_WOCHE'],\n",
       "   'trip_start_weekday': ['stichtag', 'ST_WOTAG', 'NA', 'ST_WOTAG'],\n",
       "   'trip_start_hour': ['st_std', 'W_SZS', 'NA', 'W_SZS'],\n",
       "   'trip_start_minute': ['st_min', 'W_SZM', 'NA', 'W_SZM'],\n",
       "   'trip_start_date': ['NA', 'NA', 'k22d', 'NA'],\n",
       "   'trip_end_hour': ['en_std', 'W_AZS', 'NA', 'W_AZS'],\n",
       "   'trip_end_minute': ['en_min', 'W_AZM', 'NA', 'W_AZM'],\n",
       "   'trip_end_next_day': ['en_dat', 'W_FOLGETAG', 'NA', 'W_FOLGETAG'],\n",
       "   'trip_is_intermodal': ['NA', 'weg_intermod', 'NA', 'weg_intermod']},\n",
       "  'id_variables_names': {'MiD08': 'household_person_id',\n",
       "   'MiD17': 'household_person_id',\n",
       "   'KiD': 'vehicle_id',\n",
       "   'VF': 'household_person_id'},\n",
       "  'input_data_types': {'MiD17': {'is_driver': 'bool',\n",
       "    'household_person_id': 'int',\n",
       "    'trip_id': 'int',\n",
       "    'trip_weight': 'float',\n",
       "    'trip_purpose': 'int',\n",
       "    'trip_distance': 'float',\n",
       "    'trip_start_year': 'int',\n",
       "    'trip_start_month': 'int',\n",
       "    'trip_start_week': 'int',\n",
       "    'trip_start_weekday': 'int',\n",
       "    'trip_start_hour': 'int',\n",
       "    'trip_start_minute': 'int',\n",
       "    'trip_end_hour': 'int',\n",
       "    'trip_end_minute': 'int',\n",
       "    'trip_end_next_day': 'bool',\n",
       "    'trip_is_intermodal': 'int',\n",
       "    'weather': 'int',\n",
       "    'economic_status': 'int',\n",
       "    'household_type': 'int',\n",
       "    'hhStatus': 'int',\n",
       "    'household_person_age': 'int',\n",
       "    'household_person_job': 'int',\n",
       "    'bundesland': 'int',\n",
       "    'area_type': 'int',\n",
       "    'garage': 'int'},\n",
       "   'MiD08': {'is_driver': 'bool',\n",
       "    'household_person_id': 'int',\n",
       "    'trip_id': 'int',\n",
       "    'trip_weight': 'float',\n",
       "    'trip_purpose': 'int',\n",
       "    'trip_distance': 'float',\n",
       "    'trip_start_year': 'int',\n",
       "    'trip_start_month': 'int',\n",
       "    'trip_start_week': 'int',\n",
       "    'trip_start_weekday': 'int',\n",
       "    'trip_start_hour': 'int',\n",
       "    'trip_start_minute': 'int',\n",
       "    'trip_end_hour': 'int',\n",
       "    'trip_end_minute': 'int',\n",
       "    'trip_end_next_day': 'bool',\n",
       "    'trip_is_intermodal': 'int'},\n",
       "   'KiD': {'vehicle_id': 'int',\n",
       "    'trip_id': 'int',\n",
       "    'trip_weight': 'float',\n",
       "    'trip_start_clock': 'str',\n",
       "    'trip_end_clock': 'str',\n",
       "    'trip_purpose': 'int',\n",
       "    'trip_distance': 'float',\n",
       "    'travel_time': 'int',\n",
       "    'trip_start_date': 'str',\n",
       "    'area_type': 'int'},\n",
       "   'VF': {'is_driver': 'bool',\n",
       "    'vehicle_id': 'int',\n",
       "    'drivetrain': 'str',\n",
       "    'household_person_id': 'int',\n",
       "    'trip_id': 'int',\n",
       "    'trip_weight': 'float',\n",
       "    'trip_purpose': 'int',\n",
       "    'trip_distance': 'float',\n",
       "    'trip_start_year': 'int',\n",
       "    'trip_start_month': 'int',\n",
       "    'trip_start_week': 'int',\n",
       "    'trip_start_weekday': 'int',\n",
       "    'trip_start_hour': 'int',\n",
       "    'trip_start_minute': 'int',\n",
       "    'trip_end_hour': 'int',\n",
       "    'trip_end_minute': 'int',\n",
       "    'trip_end_next_day': 'bool',\n",
       "    'trip_is_intermodal': 'int',\n",
       "    'weather': 'int'}},\n",
       "  'filters': {'lower_speed_threshold': 10,\n",
       "   'higher_speed_threshold': 200,\n",
       "   'MiD08': {'include': {'is_driver': [1]},\n",
       "    'exclude': {'trip_start_hour': [301],\n",
       "     'trip_start_minute': [301],\n",
       "     'trip_end_hour': [301],\n",
       "     'trip_end_minute': [301],\n",
       "     'trip_start_clock': ['301:00'],\n",
       "     'trip_end_clock': ['301:00'],\n",
       "     'trip_purpose': [97, 98]},\n",
       "    'greater_than': None,\n",
       "    'smaller_than': {'trip_distance': [1000]}},\n",
       "   'MiD17': {'include': {'is_driver': [1]},\n",
       "    'exclude': {'trip_start_hour': [99, 701],\n",
       "     'trip_end_hour': [99, 701],\n",
       "     'trip_start_clock': [' '],\n",
       "     'trip_end_clock': [' '],\n",
       "     'trip_purpose': [99],\n",
       "     'trip_is_intermodal': [1, 703, 708]},\n",
       "    'greater_than': None,\n",
       "    'smaller_than': {'trip_distance': [1000]}},\n",
       "   'KiD': {'include': None,\n",
       "    'exclude': {'trip_start_date': ['-1'],\n",
       "     'trip_start_clock': ['-1:-1'],\n",
       "     'trip_purpose': [-1]},\n",
       "    'greater_than': None,\n",
       "    'smaller_than': {'trip_distance': [3000]}},\n",
       "   'VF': {'include': None,\n",
       "    'exclude': {'trip_start_hour': [99, 701],\n",
       "     'trip_end_hour': [99, 701],\n",
       "     'trip_start_clock': [' '],\n",
       "     'trip_end_clock': [' '],\n",
       "     'trip_purpose': [99]},\n",
       "    'greater_than': None,\n",
       "    'smaller_than': {'trip_distance': [1000]}}},\n",
       "  'replacements': {'MiD08': {'trip_start_weekday': {1: 'MON',\n",
       "     2: 'TUE',\n",
       "     3: 'WED',\n",
       "     4: 'THU',\n",
       "     5: 'FRI',\n",
       "     6: 'SAT',\n",
       "     7: 'SUN'},\n",
       "    'trip_purpose': {1: 'WORK',\n",
       "     2: 'WORK',\n",
       "     3: 'SCHOOL',\n",
       "     4: 'SHOPPING',\n",
       "     5: 'SHOPPING',\n",
       "     6: 'LEISURE',\n",
       "     7: 'LEISURE',\n",
       "     8: 'HOME',\n",
       "     9: 'HOME',\n",
       "     10: 'OTHER',\n",
       "     11: 'HOME',\n",
       "     31: 'SCHOOL',\n",
       "     32: 'SCHOOL',\n",
       "     99: 'NA'}},\n",
       "   'MiD17': {'trip_start_weekday': {1: 'MON',\n",
       "     2: 'TUE',\n",
       "     3: 'WED',\n",
       "     4: 'THU',\n",
       "     5: 'FRI',\n",
       "     6: 'SAT',\n",
       "     7: 'SUN'},\n",
       "    'trip_purpose': {1: 'WORK',\n",
       "     2: 'WORK',\n",
       "     3: 'SCHOOL',\n",
       "     4: 'SHOPPING',\n",
       "     5: 'SHOPPING',\n",
       "     6: 'LEISURE',\n",
       "     7: 'LEISURE',\n",
       "     8: 'HOME',\n",
       "     9: 'HOME',\n",
       "     10: 'OTHER',\n",
       "     11: 'HOME',\n",
       "     31: 'SCHOOL',\n",
       "     32: 'SCHOOL',\n",
       "     99: 'NA'}},\n",
       "   'KiD': {'trip_start_weekday': {0: 'MON',\n",
       "     1: 'TUE',\n",
       "     2: 'WED',\n",
       "     3: 'THU',\n",
       "     4: 'FRI',\n",
       "     5: 'SAT',\n",
       "     6: 'SUN'},\n",
       "    'trip_purpose': {1: 'TRANSPORT',\n",
       "     2: 'SERVICES',\n",
       "     3: 'PEOPLE_MOBILITY',\n",
       "     4: 'WORK',\n",
       "     5: 'WORK',\n",
       "     6: 'WORK',\n",
       "     7: 'SCHOOL',\n",
       "     8: 'SHOPPING',\n",
       "     9: 'LEISURE',\n",
       "     10: 'PEOPLE_MOBILITY',\n",
       "     11: 'OTHER',\n",
       "     12: 'HOME'},\n",
       "    'vehicle_segment': {1: 'Light motorised vehicle',\n",
       "     2: 'Car',\n",
       "     3: 'Van',\n",
       "     4: 'Truck',\n",
       "     5: 'Tractor unit',\n",
       "     6: 'Coach',\n",
       "     7: 'City bus',\n",
       "     8: 'Other tractor unit',\n",
       "     9: 'Agriculture and forestry tractor unit',\n",
       "     11: 'Other'}},\n",
       "   'VF': {'trip_start_weekday': {1: 'MON',\n",
       "     2: 'TUE',\n",
       "     3: 'WED',\n",
       "     4: 'THU',\n",
       "     5: 'FRI',\n",
       "     6: 'SAT',\n",
       "     7: 'SUN'},\n",
       "    'trip_purpose': {1: 'WORK',\n",
       "     2: 'WORK',\n",
       "     3: 'SCHOOL',\n",
       "     4: 'SHOPPING',\n",
       "     5: 'SHOPPING',\n",
       "     6: 'LEISURE',\n",
       "     7: 'LEISURE',\n",
       "     8: 'HOME',\n",
       "     9: 'HOME',\n",
       "     10: 'OTHER',\n",
       "     11: 'HOME',\n",
       "     31: 'SCHOOL',\n",
       "     32: 'SCHOOL',\n",
       "     99: 'NA'},\n",
       "    'vehicle_segment': {'klein': 'S',\n",
       "     'kompakt': 'S',\n",
       "     'mittel': 'M',\n",
       "     'gross': 'L'}}}}}"
      ]
     },
     "execution_count": 3,
     "metadata": {},
     "output_type": "execute_result"
    }
   ],
   "source": [
    "configs['dev_config']"
   ]
  },
  {
   "cell_type": "markdown",
   "metadata": {},
   "source": [
    "## _DataParser_ class"
   ]
  },
  {
   "cell_type": "markdown",
   "metadata": {},
   "source": [
    "Let's first run the class and see the outputs we get."
   ]
  },
  {
   "cell_type": "code",
   "execution_count": 4,
   "metadata": {},
   "outputs": [
    {
     "name": "stdout",
     "output_type": "stream",
     "text": [
      "Generic file parsing properties set up.\n",
      "Starting to retrieve local data file from c:\\Users\\mior_fa\\Documents\\7_Work\\vencopy\\vencopy_internal\\vencopy\\vencopy\\tutorials\\data_sampling\\MiD17.csv.\n",
      "Finished loading 2124 rows of raw data of type .csv.\n",
      "Running in debug mode.\n",
      "Finished harmonization of variables.\n",
      "Finished harmonization of ID variables.\n",
      "Starting filtering, applying 8 filters.\n",
      "All filters combined yielded that a total of 241 trips are taken into account.\n",
      "This corresponds to 40.166666666666664 percent of the original data.\n",
      "Completed park timestamp adjustments.\n",
      "Finished activity composition with 240 trips and 240 parking activites.\n"
     ]
    },
    {
     "ename": "OSError",
     "evalue": "Cannot save file into a non-existent directory: 'c:\\Users\\mior_fa\\Documents\\7_Work\\vencopy\\vencopy_internal\\vencopy\\output\\dataparser'",
     "output_type": "error",
     "traceback": [
      "\u001b[1;31m---------------------------------------------------------------------------\u001b[0m",
      "\u001b[1;31mOSError\u001b[0m                                   Traceback (most recent call last)",
      "\u001b[1;32mc:\\Users\\mior_fa\\Documents\\7_Work\\vencopy\\vencopy_internal\\vencopy\\vencopy\\tutorials\\vencopy_tutorial_02.ipynb Cell 11\u001b[0m line \u001b[0;36m2\n\u001b[0;32m      <a href='vscode-notebook-cell:/c%3A/Users/mior_fa/Documents/7_Work/vencopy/vencopy_internal/vencopy/vencopy/tutorials/vencopy_tutorial_02.ipynb#X13sZmlsZQ%3D%3D?line=0'>1</a>\u001b[0m data \u001b[39m=\u001b[39m parse_data(configs\u001b[39m=\u001b[39mconfigs)\n\u001b[1;32m----> <a href='vscode-notebook-cell:/c%3A/Users/mior_fa/Documents/7_Work/vencopy/vencopy_internal/vencopy/vencopy/tutorials/vencopy_tutorial_02.ipynb#X13sZmlsZQ%3D%3D?line=1'>2</a>\u001b[0m data\u001b[39m.\u001b[39;49mprocess()\n",
      "File \u001b[1;32mc:\\Users\\mior_fa\\Documents\\7_Work\\vencopy\\vencopy_internal\\vencopy\\vencopy\\core\\dataparsers\\parseMiD.py:77\u001b[0m, in \u001b[0;36mParseMiD.process\u001b[1;34m(self)\u001b[0m\n\u001b[0;32m     75\u001b[0m \u001b[39mself\u001b[39m\u001b[39m.\u001b[39m_filter(filters\u001b[39m=\u001b[39m\u001b[39mself\u001b[39m\u001b[39m.\u001b[39mfilters)\n\u001b[0;32m     76\u001b[0m \u001b[39mself\u001b[39m\u001b[39m.\u001b[39mactivities \u001b[39m=\u001b[39m \u001b[39mself\u001b[39m\u001b[39m.\u001b[39mpark_inference\u001b[39m.\u001b[39madd_parking_rows(trips\u001b[39m=\u001b[39m\u001b[39mself\u001b[39m\u001b[39m.\u001b[39mtrips)\n\u001b[1;32m---> 77\u001b[0m \u001b[39mself\u001b[39;49m\u001b[39m.\u001b[39;49mwrite_output()\n\u001b[0;32m     78\u001b[0m \u001b[39mprint\u001b[39m(\u001b[39m\"\u001b[39m\u001b[39mParsing MiD dataset completed.\u001b[39m\u001b[39m\"\u001b[39m)\n\u001b[0;32m     79\u001b[0m \u001b[39mreturn\u001b[39;00m \u001b[39mself\u001b[39m\u001b[39m.\u001b[39mactivities\n",
      "File \u001b[1;32mc:\\Users\\mior_fa\\Documents\\7_Work\\vencopy\\vencopy_internal\\vencopy\\vencopy\\core\\dataparsers\\dataparsers.py:493\u001b[0m, in \u001b[0;36mDataParser.write_output\u001b[1;34m(self)\u001b[0m\n\u001b[0;32m    485\u001b[0m folder \u001b[39m=\u001b[39m \u001b[39mself\u001b[39m\u001b[39m.\u001b[39mdev_config[\u001b[39m\"\u001b[39m\u001b[39mglobal\u001b[39m\u001b[39m\"\u001b[39m][\u001b[39m\"\u001b[39m\u001b[39mrelative_path\u001b[39m\u001b[39m\"\u001b[39m][\u001b[39m\"\u001b[39m\u001b[39mparse_output\u001b[39m\u001b[39m\"\u001b[39m]\n\u001b[0;32m    486\u001b[0m file_name \u001b[39m=\u001b[39m create_file_name(\n\u001b[0;32m    487\u001b[0m     dev_config\u001b[39m=\u001b[39m\u001b[39mself\u001b[39m\u001b[39m.\u001b[39mdev_config,\n\u001b[0;32m    488\u001b[0m     user_config\u001b[39m=\u001b[39m\u001b[39mself\u001b[39m\u001b[39m.\u001b[39muser_config,\n\u001b[1;32m   (...)\u001b[0m\n\u001b[0;32m    491\u001b[0m     manual_label\u001b[39m=\u001b[39m\u001b[39m\"\u001b[39m\u001b[39m\"\u001b[39m,\n\u001b[0;32m    492\u001b[0m )\n\u001b[1;32m--> 493\u001b[0m write_out(data\u001b[39m=\u001b[39;49m\u001b[39mself\u001b[39;49m\u001b[39m.\u001b[39;49mactivities, path\u001b[39m=\u001b[39;49mroot \u001b[39m/\u001b[39;49m folder \u001b[39m/\u001b[39;49m file_name)\n",
      "File \u001b[1;32mc:\\Users\\mior_fa\\Documents\\7_Work\\vencopy\\vencopy_internal\\vencopy\\vencopy\\utils\\utils.py:159\u001b[0m, in \u001b[0;36mwrite_out\u001b[1;34m(data, path)\u001b[0m\n\u001b[0;32m    151\u001b[0m \u001b[39mdef\u001b[39;00m \u001b[39mwrite_out\u001b[39m(data: pd\u001b[39m.\u001b[39mDataFrame, path: Path):\n\u001b[0;32m    152\u001b[0m \u001b[39m    \u001b[39m\u001b[39m\"\"\"\u001b[39;00m\n\u001b[0;32m    153\u001b[0m \u001b[39m    _summary_\u001b[39;00m\n\u001b[0;32m    154\u001b[0m \n\u001b[1;32m   (...)\u001b[0m\n\u001b[0;32m    157\u001b[0m \u001b[39m        path (Path): _description_\u001b[39;00m\n\u001b[0;32m    158\u001b[0m \u001b[39m    \"\"\"\u001b[39;00m\n\u001b[1;32m--> 159\u001b[0m     data\u001b[39m.\u001b[39;49mto_csv(path)\n\u001b[0;32m    160\u001b[0m     \u001b[39mprint\u001b[39m(\u001b[39mf\u001b[39m\u001b[39m\"\u001b[39m\u001b[39mDataset written to \u001b[39m\u001b[39m{\u001b[39;00mpath\u001b[39m}\u001b[39;00m\u001b[39m.\u001b[39m\u001b[39m\"\u001b[39m)\n",
      "File \u001b[1;32mc:\\Users\\mior_fa\\.conda\\envs\\vencopy\\Lib\\site-packages\\pandas\\core\\generic.py:3772\u001b[0m, in \u001b[0;36mNDFrame.to_csv\u001b[1;34m(self, path_or_buf, sep, na_rep, float_format, columns, header, index, index_label, mode, encoding, compression, quoting, quotechar, lineterminator, chunksize, date_format, doublequote, escapechar, decimal, errors, storage_options)\u001b[0m\n\u001b[0;32m   3761\u001b[0m df \u001b[39m=\u001b[39m \u001b[39mself\u001b[39m \u001b[39mif\u001b[39;00m \u001b[39misinstance\u001b[39m(\u001b[39mself\u001b[39m, ABCDataFrame) \u001b[39melse\u001b[39;00m \u001b[39mself\u001b[39m\u001b[39m.\u001b[39mto_frame()\n\u001b[0;32m   3763\u001b[0m formatter \u001b[39m=\u001b[39m DataFrameFormatter(\n\u001b[0;32m   3764\u001b[0m     frame\u001b[39m=\u001b[39mdf,\n\u001b[0;32m   3765\u001b[0m     header\u001b[39m=\u001b[39mheader,\n\u001b[1;32m   (...)\u001b[0m\n\u001b[0;32m   3769\u001b[0m     decimal\u001b[39m=\u001b[39mdecimal,\n\u001b[0;32m   3770\u001b[0m )\n\u001b[1;32m-> 3772\u001b[0m \u001b[39mreturn\u001b[39;00m DataFrameRenderer(formatter)\u001b[39m.\u001b[39;49mto_csv(\n\u001b[0;32m   3773\u001b[0m     path_or_buf,\n\u001b[0;32m   3774\u001b[0m     lineterminator\u001b[39m=\u001b[39;49mlineterminator,\n\u001b[0;32m   3775\u001b[0m     sep\u001b[39m=\u001b[39;49msep,\n\u001b[0;32m   3776\u001b[0m     encoding\u001b[39m=\u001b[39;49mencoding,\n\u001b[0;32m   3777\u001b[0m     errors\u001b[39m=\u001b[39;49merrors,\n\u001b[0;32m   3778\u001b[0m     compression\u001b[39m=\u001b[39;49mcompression,\n\u001b[0;32m   3779\u001b[0m     quoting\u001b[39m=\u001b[39;49mquoting,\n\u001b[0;32m   3780\u001b[0m     columns\u001b[39m=\u001b[39;49mcolumns,\n\u001b[0;32m   3781\u001b[0m     index_label\u001b[39m=\u001b[39;49mindex_label,\n\u001b[0;32m   3782\u001b[0m     mode\u001b[39m=\u001b[39;49mmode,\n\u001b[0;32m   3783\u001b[0m     chunksize\u001b[39m=\u001b[39;49mchunksize,\n\u001b[0;32m   3784\u001b[0m     quotechar\u001b[39m=\u001b[39;49mquotechar,\n\u001b[0;32m   3785\u001b[0m     date_format\u001b[39m=\u001b[39;49mdate_format,\n\u001b[0;32m   3786\u001b[0m     doublequote\u001b[39m=\u001b[39;49mdoublequote,\n\u001b[0;32m   3787\u001b[0m     escapechar\u001b[39m=\u001b[39;49mescapechar,\n\u001b[0;32m   3788\u001b[0m     storage_options\u001b[39m=\u001b[39;49mstorage_options,\n\u001b[0;32m   3789\u001b[0m )\n",
      "File \u001b[1;32mc:\\Users\\mior_fa\\.conda\\envs\\vencopy\\Lib\\site-packages\\pandas\\io\\formats\\format.py:1186\u001b[0m, in \u001b[0;36mDataFrameRenderer.to_csv\u001b[1;34m(self, path_or_buf, encoding, sep, columns, index_label, mode, compression, quoting, quotechar, lineterminator, chunksize, date_format, doublequote, escapechar, errors, storage_options)\u001b[0m\n\u001b[0;32m   1165\u001b[0m     created_buffer \u001b[39m=\u001b[39m \u001b[39mFalse\u001b[39;00m\n\u001b[0;32m   1167\u001b[0m csv_formatter \u001b[39m=\u001b[39m CSVFormatter(\n\u001b[0;32m   1168\u001b[0m     path_or_buf\u001b[39m=\u001b[39mpath_or_buf,\n\u001b[0;32m   1169\u001b[0m     lineterminator\u001b[39m=\u001b[39mlineterminator,\n\u001b[1;32m   (...)\u001b[0m\n\u001b[0;32m   1184\u001b[0m     formatter\u001b[39m=\u001b[39m\u001b[39mself\u001b[39m\u001b[39m.\u001b[39mfmt,\n\u001b[0;32m   1185\u001b[0m )\n\u001b[1;32m-> 1186\u001b[0m csv_formatter\u001b[39m.\u001b[39;49msave()\n\u001b[0;32m   1188\u001b[0m \u001b[39mif\u001b[39;00m created_buffer:\n\u001b[0;32m   1189\u001b[0m     \u001b[39massert\u001b[39;00m \u001b[39misinstance\u001b[39m(path_or_buf, StringIO)\n",
      "File \u001b[1;32mc:\\Users\\mior_fa\\.conda\\envs\\vencopy\\Lib\\site-packages\\pandas\\io\\formats\\csvs.py:240\u001b[0m, in \u001b[0;36mCSVFormatter.save\u001b[1;34m(self)\u001b[0m\n\u001b[0;32m    236\u001b[0m \u001b[39m\u001b[39m\u001b[39m\"\"\"\u001b[39;00m\n\u001b[0;32m    237\u001b[0m \u001b[39mCreate the writer & save.\u001b[39;00m\n\u001b[0;32m    238\u001b[0m \u001b[39m\"\"\"\u001b[39;00m\n\u001b[0;32m    239\u001b[0m \u001b[39m# apply compression and byte/text conversion\u001b[39;00m\n\u001b[1;32m--> 240\u001b[0m \u001b[39mwith\u001b[39;00m get_handle(\n\u001b[0;32m    241\u001b[0m     \u001b[39mself\u001b[39;49m\u001b[39m.\u001b[39;49mfilepath_or_buffer,\n\u001b[0;32m    242\u001b[0m     \u001b[39mself\u001b[39;49m\u001b[39m.\u001b[39;49mmode,\n\u001b[0;32m    243\u001b[0m     encoding\u001b[39m=\u001b[39;49m\u001b[39mself\u001b[39;49m\u001b[39m.\u001b[39;49mencoding,\n\u001b[0;32m    244\u001b[0m     errors\u001b[39m=\u001b[39;49m\u001b[39mself\u001b[39;49m\u001b[39m.\u001b[39;49merrors,\n\u001b[0;32m    245\u001b[0m     compression\u001b[39m=\u001b[39;49m\u001b[39mself\u001b[39;49m\u001b[39m.\u001b[39;49mcompression,\n\u001b[0;32m    246\u001b[0m     storage_options\u001b[39m=\u001b[39;49m\u001b[39mself\u001b[39;49m\u001b[39m.\u001b[39;49mstorage_options,\n\u001b[0;32m    247\u001b[0m ) \u001b[39mas\u001b[39;00m handles:\n\u001b[0;32m    248\u001b[0m     \u001b[39m# Note: self.encoding is irrelevant here\u001b[39;00m\n\u001b[0;32m    249\u001b[0m     \u001b[39mself\u001b[39m\u001b[39m.\u001b[39mwriter \u001b[39m=\u001b[39m csvlib\u001b[39m.\u001b[39mwriter(\n\u001b[0;32m    250\u001b[0m         handles\u001b[39m.\u001b[39mhandle,\n\u001b[0;32m    251\u001b[0m         lineterminator\u001b[39m=\u001b[39m\u001b[39mself\u001b[39m\u001b[39m.\u001b[39mlineterminator,\n\u001b[1;32m   (...)\u001b[0m\n\u001b[0;32m    256\u001b[0m         quotechar\u001b[39m=\u001b[39m\u001b[39mself\u001b[39m\u001b[39m.\u001b[39mquotechar,\n\u001b[0;32m    257\u001b[0m     )\n\u001b[0;32m    259\u001b[0m     \u001b[39mself\u001b[39m\u001b[39m.\u001b[39m_save()\n",
      "File \u001b[1;32mc:\\Users\\mior_fa\\.conda\\envs\\vencopy\\Lib\\site-packages\\pandas\\io\\common.py:737\u001b[0m, in \u001b[0;36mget_handle\u001b[1;34m(path_or_buf, mode, encoding, compression, memory_map, is_text, errors, storage_options)\u001b[0m\n\u001b[0;32m    735\u001b[0m \u001b[39m# Only for write methods\u001b[39;00m\n\u001b[0;32m    736\u001b[0m \u001b[39mif\u001b[39;00m \u001b[39m\"\u001b[39m\u001b[39mr\u001b[39m\u001b[39m\"\u001b[39m \u001b[39mnot\u001b[39;00m \u001b[39min\u001b[39;00m mode \u001b[39mand\u001b[39;00m is_path:\n\u001b[1;32m--> 737\u001b[0m     check_parent_directory(\u001b[39mstr\u001b[39;49m(handle))\n\u001b[0;32m    739\u001b[0m \u001b[39mif\u001b[39;00m compression:\n\u001b[0;32m    740\u001b[0m     \u001b[39mif\u001b[39;00m compression \u001b[39m!=\u001b[39m \u001b[39m\"\u001b[39m\u001b[39mzstd\u001b[39m\u001b[39m\"\u001b[39m:\n\u001b[0;32m    741\u001b[0m         \u001b[39m# compression libraries do not like an explicit text-mode\u001b[39;00m\n",
      "File \u001b[1;32mc:\\Users\\mior_fa\\.conda\\envs\\vencopy\\Lib\\site-packages\\pandas\\io\\common.py:600\u001b[0m, in \u001b[0;36mcheck_parent_directory\u001b[1;34m(path)\u001b[0m\n\u001b[0;32m    598\u001b[0m parent \u001b[39m=\u001b[39m Path(path)\u001b[39m.\u001b[39mparent\n\u001b[0;32m    599\u001b[0m \u001b[39mif\u001b[39;00m \u001b[39mnot\u001b[39;00m parent\u001b[39m.\u001b[39mis_dir():\n\u001b[1;32m--> 600\u001b[0m     \u001b[39mraise\u001b[39;00m \u001b[39mOSError\u001b[39;00m(\u001b[39mrf\u001b[39m\u001b[39m\"\u001b[39m\u001b[39mCannot save file into a non-existent directory: \u001b[39m\u001b[39m'\u001b[39m\u001b[39m{\u001b[39;00mparent\u001b[39m}\u001b[39;00m\u001b[39m'\u001b[39m\u001b[39m\"\u001b[39m)\n",
      "\u001b[1;31mOSError\u001b[0m: Cannot save file into a non-existent directory: 'c:\\Users\\mior_fa\\Documents\\7_Work\\vencopy\\vencopy_internal\\vencopy\\output\\dataparser'"
     ]
    }
   ],
   "source": [
    "data = parse_data(configs=configs)\n",
    "data.process()"
   ]
  },
  {
   "cell_type": "markdown",
   "metadata": {},
   "source": [
    "We can see from the print statements in the class that after reading in the initial dataset, which contained 2124 rows, and applying 8 filters, we end up with a database containing 1980 suitable entries, which corresponds to about 93% of the initial sample.\n",
    "These trip respect the condition that they all need to be shorter than 1000km, which is set in the parseConfig under the 'filterDict' key."
   ]
  },
  {
   "cell_type": "markdown",
   "metadata": {},
   "source": [
    "Now we can, for example, change in the filters the maximum allowed trip distance from 1000km to 50km and see how this affects the resulting available trips (the extreme case of 50km is only used for the tutorial purpose)."
   ]
  },
  {
   "cell_type": "code",
   "execution_count": 5,
   "metadata": {},
   "outputs": [],
   "source": [
    "configs['dev_config']['dataparsers']['filters'][datasetID]['smaller_than']['trip_distance'] = [50]"
   ]
  },
  {
   "cell_type": "code",
   "execution_count": 6,
   "metadata": {},
   "outputs": [
    {
     "name": "stdout",
     "output_type": "stream",
     "text": [
      "Generic file parsing properties set up.\n",
      "Starting to retrieve local data file from c:\\Users\\mior_fa\\Documents\\7_Work\\vencopy\\vencopy_internal\\vencopy\\vencopy\\tutorials\\data_sampling\\MiD17.csv.\n",
      "Finished loading 2124 rows of raw data of type .csv.\n",
      "Running in debug mode.\n",
      "Finished harmonization of variables.\n",
      "Finished harmonization of ID variables.\n",
      "Starting filtering, applying 8 filters.\n",
      "All filters combined yielded that a total of 233 trips are taken into account.\n",
      "This corresponds to 38.83333333333333 percent of the original data.\n",
      "Completed park timestamp adjustments.\n",
      "Finished activity composition with 232 trips and 232 parking activites.\n"
     ]
    },
    {
     "ename": "OSError",
     "evalue": "Cannot save file into a non-existent directory: 'c:\\Users\\mior_fa\\Documents\\7_Work\\vencopy\\vencopy_internal\\vencopy\\output\\dataparser'",
     "output_type": "error",
     "traceback": [
      "\u001b[1;31m---------------------------------------------------------------------------\u001b[0m",
      "\u001b[1;31mOSError\u001b[0m                                   Traceback (most recent call last)",
      "\u001b[1;32mc:\\Users\\mior_fa\\Documents\\7_Work\\vencopy\\vencopy_internal\\vencopy\\vencopy\\tutorials\\vencopy_tutorial_02.ipynb Cell 15\u001b[0m line \u001b[0;36m2\n\u001b[0;32m      <a href='vscode-notebook-cell:/c%3A/Users/mior_fa/Documents/7_Work/vencopy/vencopy_internal/vencopy/vencopy/tutorials/vencopy_tutorial_02.ipynb#X20sZmlsZQ%3D%3D?line=0'>1</a>\u001b[0m data \u001b[39m=\u001b[39m parse_data(configs\u001b[39m=\u001b[39mconfigs)\n\u001b[1;32m----> <a href='vscode-notebook-cell:/c%3A/Users/mior_fa/Documents/7_Work/vencopy/vencopy_internal/vencopy/vencopy/tutorials/vencopy_tutorial_02.ipynb#X20sZmlsZQ%3D%3D?line=1'>2</a>\u001b[0m data\u001b[39m.\u001b[39;49mprocess()\n",
      "File \u001b[1;32mc:\\Users\\mior_fa\\Documents\\7_Work\\vencopy\\vencopy_internal\\vencopy\\vencopy\\core\\dataparsers\\parseMiD.py:77\u001b[0m, in \u001b[0;36mParseMiD.process\u001b[1;34m(self)\u001b[0m\n\u001b[0;32m     75\u001b[0m \u001b[39mself\u001b[39m\u001b[39m.\u001b[39m_filter(filters\u001b[39m=\u001b[39m\u001b[39mself\u001b[39m\u001b[39m.\u001b[39mfilters)\n\u001b[0;32m     76\u001b[0m \u001b[39mself\u001b[39m\u001b[39m.\u001b[39mactivities \u001b[39m=\u001b[39m \u001b[39mself\u001b[39m\u001b[39m.\u001b[39mpark_inference\u001b[39m.\u001b[39madd_parking_rows(trips\u001b[39m=\u001b[39m\u001b[39mself\u001b[39m\u001b[39m.\u001b[39mtrips)\n\u001b[1;32m---> 77\u001b[0m \u001b[39mself\u001b[39;49m\u001b[39m.\u001b[39;49mwrite_output()\n\u001b[0;32m     78\u001b[0m \u001b[39mprint\u001b[39m(\u001b[39m\"\u001b[39m\u001b[39mParsing MiD dataset completed.\u001b[39m\u001b[39m\"\u001b[39m)\n\u001b[0;32m     79\u001b[0m \u001b[39mreturn\u001b[39;00m \u001b[39mself\u001b[39m\u001b[39m.\u001b[39mactivities\n",
      "File \u001b[1;32mc:\\Users\\mior_fa\\Documents\\7_Work\\vencopy\\vencopy_internal\\vencopy\\vencopy\\core\\dataparsers\\dataparsers.py:493\u001b[0m, in \u001b[0;36mDataParser.write_output\u001b[1;34m(self)\u001b[0m\n\u001b[0;32m    485\u001b[0m folder \u001b[39m=\u001b[39m \u001b[39mself\u001b[39m\u001b[39m.\u001b[39mdev_config[\u001b[39m\"\u001b[39m\u001b[39mglobal\u001b[39m\u001b[39m\"\u001b[39m][\u001b[39m\"\u001b[39m\u001b[39mrelative_path\u001b[39m\u001b[39m\"\u001b[39m][\u001b[39m\"\u001b[39m\u001b[39mparse_output\u001b[39m\u001b[39m\"\u001b[39m]\n\u001b[0;32m    486\u001b[0m file_name \u001b[39m=\u001b[39m create_file_name(\n\u001b[0;32m    487\u001b[0m     dev_config\u001b[39m=\u001b[39m\u001b[39mself\u001b[39m\u001b[39m.\u001b[39mdev_config,\n\u001b[0;32m    488\u001b[0m     user_config\u001b[39m=\u001b[39m\u001b[39mself\u001b[39m\u001b[39m.\u001b[39muser_config,\n\u001b[1;32m   (...)\u001b[0m\n\u001b[0;32m    491\u001b[0m     manual_label\u001b[39m=\u001b[39m\u001b[39m\"\u001b[39m\u001b[39m\"\u001b[39m,\n\u001b[0;32m    492\u001b[0m )\n\u001b[1;32m--> 493\u001b[0m write_out(data\u001b[39m=\u001b[39;49m\u001b[39mself\u001b[39;49m\u001b[39m.\u001b[39;49mactivities, path\u001b[39m=\u001b[39;49mroot \u001b[39m/\u001b[39;49m folder \u001b[39m/\u001b[39;49m file_name)\n",
      "File \u001b[1;32mc:\\Users\\mior_fa\\Documents\\7_Work\\vencopy\\vencopy_internal\\vencopy\\vencopy\\utils\\utils.py:159\u001b[0m, in \u001b[0;36mwrite_out\u001b[1;34m(data, path)\u001b[0m\n\u001b[0;32m    151\u001b[0m \u001b[39mdef\u001b[39;00m \u001b[39mwrite_out\u001b[39m(data: pd\u001b[39m.\u001b[39mDataFrame, path: Path):\n\u001b[0;32m    152\u001b[0m \u001b[39m    \u001b[39m\u001b[39m\"\"\"\u001b[39;00m\n\u001b[0;32m    153\u001b[0m \u001b[39m    _summary_\u001b[39;00m\n\u001b[0;32m    154\u001b[0m \n\u001b[1;32m   (...)\u001b[0m\n\u001b[0;32m    157\u001b[0m \u001b[39m        path (Path): _description_\u001b[39;00m\n\u001b[0;32m    158\u001b[0m \u001b[39m    \"\"\"\u001b[39;00m\n\u001b[1;32m--> 159\u001b[0m     data\u001b[39m.\u001b[39;49mto_csv(path)\n\u001b[0;32m    160\u001b[0m     \u001b[39mprint\u001b[39m(\u001b[39mf\u001b[39m\u001b[39m\"\u001b[39m\u001b[39mDataset written to \u001b[39m\u001b[39m{\u001b[39;00mpath\u001b[39m}\u001b[39;00m\u001b[39m.\u001b[39m\u001b[39m\"\u001b[39m)\n",
      "File \u001b[1;32mc:\\Users\\mior_fa\\.conda\\envs\\vencopy\\Lib\\site-packages\\pandas\\core\\generic.py:3772\u001b[0m, in \u001b[0;36mNDFrame.to_csv\u001b[1;34m(self, path_or_buf, sep, na_rep, float_format, columns, header, index, index_label, mode, encoding, compression, quoting, quotechar, lineterminator, chunksize, date_format, doublequote, escapechar, decimal, errors, storage_options)\u001b[0m\n\u001b[0;32m   3761\u001b[0m df \u001b[39m=\u001b[39m \u001b[39mself\u001b[39m \u001b[39mif\u001b[39;00m \u001b[39misinstance\u001b[39m(\u001b[39mself\u001b[39m, ABCDataFrame) \u001b[39melse\u001b[39;00m \u001b[39mself\u001b[39m\u001b[39m.\u001b[39mto_frame()\n\u001b[0;32m   3763\u001b[0m formatter \u001b[39m=\u001b[39m DataFrameFormatter(\n\u001b[0;32m   3764\u001b[0m     frame\u001b[39m=\u001b[39mdf,\n\u001b[0;32m   3765\u001b[0m     header\u001b[39m=\u001b[39mheader,\n\u001b[1;32m   (...)\u001b[0m\n\u001b[0;32m   3769\u001b[0m     decimal\u001b[39m=\u001b[39mdecimal,\n\u001b[0;32m   3770\u001b[0m )\n\u001b[1;32m-> 3772\u001b[0m \u001b[39mreturn\u001b[39;00m DataFrameRenderer(formatter)\u001b[39m.\u001b[39;49mto_csv(\n\u001b[0;32m   3773\u001b[0m     path_or_buf,\n\u001b[0;32m   3774\u001b[0m     lineterminator\u001b[39m=\u001b[39;49mlineterminator,\n\u001b[0;32m   3775\u001b[0m     sep\u001b[39m=\u001b[39;49msep,\n\u001b[0;32m   3776\u001b[0m     encoding\u001b[39m=\u001b[39;49mencoding,\n\u001b[0;32m   3777\u001b[0m     errors\u001b[39m=\u001b[39;49merrors,\n\u001b[0;32m   3778\u001b[0m     compression\u001b[39m=\u001b[39;49mcompression,\n\u001b[0;32m   3779\u001b[0m     quoting\u001b[39m=\u001b[39;49mquoting,\n\u001b[0;32m   3780\u001b[0m     columns\u001b[39m=\u001b[39;49mcolumns,\n\u001b[0;32m   3781\u001b[0m     index_label\u001b[39m=\u001b[39;49mindex_label,\n\u001b[0;32m   3782\u001b[0m     mode\u001b[39m=\u001b[39;49mmode,\n\u001b[0;32m   3783\u001b[0m     chunksize\u001b[39m=\u001b[39;49mchunksize,\n\u001b[0;32m   3784\u001b[0m     quotechar\u001b[39m=\u001b[39;49mquotechar,\n\u001b[0;32m   3785\u001b[0m     date_format\u001b[39m=\u001b[39;49mdate_format,\n\u001b[0;32m   3786\u001b[0m     doublequote\u001b[39m=\u001b[39;49mdoublequote,\n\u001b[0;32m   3787\u001b[0m     escapechar\u001b[39m=\u001b[39;49mescapechar,\n\u001b[0;32m   3788\u001b[0m     storage_options\u001b[39m=\u001b[39;49mstorage_options,\n\u001b[0;32m   3789\u001b[0m )\n",
      "File \u001b[1;32mc:\\Users\\mior_fa\\.conda\\envs\\vencopy\\Lib\\site-packages\\pandas\\io\\formats\\format.py:1186\u001b[0m, in \u001b[0;36mDataFrameRenderer.to_csv\u001b[1;34m(self, path_or_buf, encoding, sep, columns, index_label, mode, compression, quoting, quotechar, lineterminator, chunksize, date_format, doublequote, escapechar, errors, storage_options)\u001b[0m\n\u001b[0;32m   1165\u001b[0m     created_buffer \u001b[39m=\u001b[39m \u001b[39mFalse\u001b[39;00m\n\u001b[0;32m   1167\u001b[0m csv_formatter \u001b[39m=\u001b[39m CSVFormatter(\n\u001b[0;32m   1168\u001b[0m     path_or_buf\u001b[39m=\u001b[39mpath_or_buf,\n\u001b[0;32m   1169\u001b[0m     lineterminator\u001b[39m=\u001b[39mlineterminator,\n\u001b[1;32m   (...)\u001b[0m\n\u001b[0;32m   1184\u001b[0m     formatter\u001b[39m=\u001b[39m\u001b[39mself\u001b[39m\u001b[39m.\u001b[39mfmt,\n\u001b[0;32m   1185\u001b[0m )\n\u001b[1;32m-> 1186\u001b[0m csv_formatter\u001b[39m.\u001b[39;49msave()\n\u001b[0;32m   1188\u001b[0m \u001b[39mif\u001b[39;00m created_buffer:\n\u001b[0;32m   1189\u001b[0m     \u001b[39massert\u001b[39;00m \u001b[39misinstance\u001b[39m(path_or_buf, StringIO)\n",
      "File \u001b[1;32mc:\\Users\\mior_fa\\.conda\\envs\\vencopy\\Lib\\site-packages\\pandas\\io\\formats\\csvs.py:240\u001b[0m, in \u001b[0;36mCSVFormatter.save\u001b[1;34m(self)\u001b[0m\n\u001b[0;32m    236\u001b[0m \u001b[39m\u001b[39m\u001b[39m\"\"\"\u001b[39;00m\n\u001b[0;32m    237\u001b[0m \u001b[39mCreate the writer & save.\u001b[39;00m\n\u001b[0;32m    238\u001b[0m \u001b[39m\"\"\"\u001b[39;00m\n\u001b[0;32m    239\u001b[0m \u001b[39m# apply compression and byte/text conversion\u001b[39;00m\n\u001b[1;32m--> 240\u001b[0m \u001b[39mwith\u001b[39;00m get_handle(\n\u001b[0;32m    241\u001b[0m     \u001b[39mself\u001b[39;49m\u001b[39m.\u001b[39;49mfilepath_or_buffer,\n\u001b[0;32m    242\u001b[0m     \u001b[39mself\u001b[39;49m\u001b[39m.\u001b[39;49mmode,\n\u001b[0;32m    243\u001b[0m     encoding\u001b[39m=\u001b[39;49m\u001b[39mself\u001b[39;49m\u001b[39m.\u001b[39;49mencoding,\n\u001b[0;32m    244\u001b[0m     errors\u001b[39m=\u001b[39;49m\u001b[39mself\u001b[39;49m\u001b[39m.\u001b[39;49merrors,\n\u001b[0;32m    245\u001b[0m     compression\u001b[39m=\u001b[39;49m\u001b[39mself\u001b[39;49m\u001b[39m.\u001b[39;49mcompression,\n\u001b[0;32m    246\u001b[0m     storage_options\u001b[39m=\u001b[39;49m\u001b[39mself\u001b[39;49m\u001b[39m.\u001b[39;49mstorage_options,\n\u001b[0;32m    247\u001b[0m ) \u001b[39mas\u001b[39;00m handles:\n\u001b[0;32m    248\u001b[0m     \u001b[39m# Note: self.encoding is irrelevant here\u001b[39;00m\n\u001b[0;32m    249\u001b[0m     \u001b[39mself\u001b[39m\u001b[39m.\u001b[39mwriter \u001b[39m=\u001b[39m csvlib\u001b[39m.\u001b[39mwriter(\n\u001b[0;32m    250\u001b[0m         handles\u001b[39m.\u001b[39mhandle,\n\u001b[0;32m    251\u001b[0m         lineterminator\u001b[39m=\u001b[39m\u001b[39mself\u001b[39m\u001b[39m.\u001b[39mlineterminator,\n\u001b[1;32m   (...)\u001b[0m\n\u001b[0;32m    256\u001b[0m         quotechar\u001b[39m=\u001b[39m\u001b[39mself\u001b[39m\u001b[39m.\u001b[39mquotechar,\n\u001b[0;32m    257\u001b[0m     )\n\u001b[0;32m    259\u001b[0m     \u001b[39mself\u001b[39m\u001b[39m.\u001b[39m_save()\n",
      "File \u001b[1;32mc:\\Users\\mior_fa\\.conda\\envs\\vencopy\\Lib\\site-packages\\pandas\\io\\common.py:737\u001b[0m, in \u001b[0;36mget_handle\u001b[1;34m(path_or_buf, mode, encoding, compression, memory_map, is_text, errors, storage_options)\u001b[0m\n\u001b[0;32m    735\u001b[0m \u001b[39m# Only for write methods\u001b[39;00m\n\u001b[0;32m    736\u001b[0m \u001b[39mif\u001b[39;00m \u001b[39m\"\u001b[39m\u001b[39mr\u001b[39m\u001b[39m\"\u001b[39m \u001b[39mnot\u001b[39;00m \u001b[39min\u001b[39;00m mode \u001b[39mand\u001b[39;00m is_path:\n\u001b[1;32m--> 737\u001b[0m     check_parent_directory(\u001b[39mstr\u001b[39;49m(handle))\n\u001b[0;32m    739\u001b[0m \u001b[39mif\u001b[39;00m compression:\n\u001b[0;32m    740\u001b[0m     \u001b[39mif\u001b[39;00m compression \u001b[39m!=\u001b[39m \u001b[39m\"\u001b[39m\u001b[39mzstd\u001b[39m\u001b[39m\"\u001b[39m:\n\u001b[0;32m    741\u001b[0m         \u001b[39m# compression libraries do not like an explicit text-mode\u001b[39;00m\n",
      "File \u001b[1;32mc:\\Users\\mior_fa\\.conda\\envs\\vencopy\\Lib\\site-packages\\pandas\\io\\common.py:600\u001b[0m, in \u001b[0;36mcheck_parent_directory\u001b[1;34m(path)\u001b[0m\n\u001b[0;32m    598\u001b[0m parent \u001b[39m=\u001b[39m Path(path)\u001b[39m.\u001b[39mparent\n\u001b[0;32m    599\u001b[0m \u001b[39mif\u001b[39;00m \u001b[39mnot\u001b[39;00m parent\u001b[39m.\u001b[39mis_dir():\n\u001b[1;32m--> 600\u001b[0m     \u001b[39mraise\u001b[39;00m \u001b[39mOSError\u001b[39;00m(\u001b[39mrf\u001b[39m\u001b[39m\"\u001b[39m\u001b[39mCannot save file into a non-existent directory: \u001b[39m\u001b[39m'\u001b[39m\u001b[39m{\u001b[39;00mparent\u001b[39m}\u001b[39;00m\u001b[39m'\u001b[39m\u001b[39m\"\u001b[39m)\n",
      "\u001b[1;31mOSError\u001b[0m: Cannot save file into a non-existent directory: 'c:\\Users\\mior_fa\\Documents\\7_Work\\vencopy\\vencopy_internal\\vencopy\\output\\dataparser'"
     ]
    }
   ],
   "source": [
    "data = parse_data(configs=configs)\n",
    "data.process()"
   ]
  },
  {
   "cell_type": "markdown",
   "metadata": {},
   "source": [
    "We can see how with a maximum trip distance of 1000km, all filters combined yielded a total of 1980 trips, which corresponds to about 93% of the original dataset. By changing this values to 50km, additional 82 trips have been excluded, resulting in 1898 trips (89% ofthe initial dataset)."
   ]
  },
  {
   "cell_type": "markdown",
   "metadata": {},
   "source": [
    "## Next Steps"
   ]
  },
  {
   "cell_type": "markdown",
   "metadata": {},
   "source": [
    "In the next tutorial, you will learn more in detail the internal workings of the FlexEstimator class and how to customise some settings."
   ]
  },
  {
   "cell_type": "markdown",
   "metadata": {},
   "source": []
  }
 ],
 "metadata": {
  "kernelspec": {
   "display_name": "Python 3",
   "language": "python",
   "name": "python3"
  },
  "language_info": {
   "codemirror_mode": {
    "name": "ipython",
    "version": 3
   },
   "file_extension": ".py",
   "mimetype": "text/x-python",
   "name": "python",
   "nbconvert_exporter": "python",
   "pygments_lexer": "ipython3",
   "version": "3.11.4"
  }
 },
 "nbformat": 4,
 "nbformat_minor": 4
}
