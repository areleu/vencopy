{
 "cells": [
  {
   "cell_type": "markdown",
   "metadata": {},
   "source": [
    "# VencoPy Tutorial 1"
   ]
  },
  {
   "cell_type": "markdown",
   "metadata": {},
   "source": [
    "This tutorial showcases the general structure and workflow of VencoPy, as well as some basic features of its 4 main classes:\n",
    "- dataParsers\n",
    "- tripDiaryBuilder\n",
    "- gridModeler\n",
    "- flexEstimator"
   ]
  },
  {
   "cell_type": "markdown",
   "metadata": {},
   "source": [
    "## Setting up the working space"
   ]
  },
  {
   "cell_type": "code",
   "execution_count": null,
   "metadata": {},
   "outputs": [],
   "source": []
  },
  {
   "cell_type": "code",
   "execution_count": 1,
   "metadata": {},
   "outputs": [],
   "source": [
    "import os, sys\n",
    "import pandas as pd\n",
    "import numpy as np\n",
    "import yaml\n",
    "import pathlib\n",
    "\n",
    "path = '../..'\n",
    "os.chdir(path)\n",
    "\n",
    "#sys.path.append(\"../../classes\")\n",
    "#sys.path.append(\"../../../vencopy\")\n",
    "\n",
    "from classes.dataParsers import DataParser\n",
    "from classes.tripDiaryBuilders import TripDiaryBuilder\n",
    "from classes.gridModelers import GridModeler\n",
    "from classes.flexEstimators import FlexEstimator"
   ]
  },
  {
   "cell_type": "code",
   "execution_count": null,
   "metadata": {},
   "outputs": [],
   "source": []
  },
  {
   "cell_type": "code",
   "execution_count": 3,
   "metadata": {},
   "outputs": [],
   "source": [
    "datasetID = 'MiD17'\n",
    "\n",
    "pathGlobalConfig = pathlib.Path.cwd() / 'config' / 'globalConfig.yaml'\n",
    "with open(pathGlobalConfig) as ipf:\n",
    "    globalConfig = yaml.load(ipf, Loader=yaml.SafeLoader)\n",
    "pathLocalPathConfig = pathlib.Path.cwd()  / 'config' / 'localPathConfig.yaml'\n",
    "with open(pathLocalPathConfig) as ipf:\n",
    "    localPathConfig = yaml.load(ipf, Loader=yaml.SafeLoader)\n",
    "pathParseConfig = pathlib.Path.cwd()  / 'config' / 'parseConfig.yaml'\n",
    "with open(pathParseConfig) as ipf:\n",
    "    parseConfig = yaml.load(ipf, Loader=yaml.SafeLoader)\n",
    "pathTripConfig = pathlib.Path.cwd()  / 'config' / 'tripConfig.yaml'\n",
    "with open(pathTripConfig) as ipf:\n",
    "    tripConfig = yaml.load(ipf, Loader=yaml.SafeLoader)\n",
    "pathGridConfig = pathlib.Path.cwd()  / 'config' / 'gridConfig.yaml'\n",
    "with open(pathGridConfig) as ipf:\n",
    "    gridConfig = yaml.load(ipf, Loader=yaml.SafeLoader)\n",
    "pathEvaluatorConfig = pathlib.Path.cwd()  / 'config' / 'evaluatorConfig.yaml'\n",
    "with open(pathEvaluatorConfig) as ipf:\n",
    "    evaluatorConfig = yaml.load(ipf, Loader=yaml.SafeLoader)\n",
    "pathFlexConfig = pathlib.Path.cwd()  / 'config' / 'flexConfig.yaml'\n",
    "with open(pathFlexConfig) as ipf:\n",
    "    flexConfig = yaml.load(ipf, Loader=yaml.SafeLoader)"
   ]
  },
  {
   "cell_type": "code",
   "execution_count": null,
   "metadata": {},
   "outputs": [],
   "source": []
  },
  {
   "cell_type": "code",
   "execution_count": 3,
   "metadata": {},
   "outputs": [
    {
     "data": {
      "text/plain": [
       "{'pathRelative': {'input': './inputData/',\n",
       "  'plots': './output/plots/',\n",
       "  'dataOutput': './output/data/',\n",
       "  'scripts': './scripts/',\n",
       "  'config': './config/'},\n",
       " 'numberOfHours': 24,\n",
       " 'files': {'inputDataScalars': 'VencoPy_scalarInput.xlsx',\n",
       "  'MiD17': {'enryptedZipFileB1': 'B1_Standard-DatensatzpaketEncrypted.zip',\n",
       "   'enryptedZipFileB2': 'B2_Regional-DatensatzpaketEncrypted.zip',\n",
       "   'tripDataZipFileRaw': 'CSV/MiD2017_Regional_Wege.csv',\n",
       "   'householdsDataRaw': 'MiD2017_Regional_Haushalte.csv',\n",
       "   'personsDataRaw': 'MiD2017_Regional_Personen.csv',\n",
       "   'tripsDataRaw': 'MiD2017_Regional_Wege.dta',\n",
       "   'purposesProcessed': 'inputProfiles_Purpose',\n",
       "   'inputDataDriveProfiles': 'inputProfiles_Drive',\n",
       "   'inputDataPlugProfiles': 'inputProfiles_Plug',\n",
       "   'vencoPyOutput': 'vencoPyOutput',\n",
       "   'flexPlotName': 'flexProfileComparison'},\n",
       "  'MiD08': {'householdsDataRaw': 'MiD2008_PUF_Haushalte.dta',\n",
       "   'personDataRaw': 'MiD2008_PUF_Personen.dta',\n",
       "   'tripsDataRaw': 'MiD2008_PUF_Wege.dta',\n",
       "   'tripsProcessedOld': 'MiD_procCS_caseID-weekday-weight-activity.xlsx',\n",
       "   'purposesProcessedOld': 'MiD_procCS_caseID-weekday-weight-activity.xlsx',\n",
       "   'purposesProcessed': 'inputProfiles_Purpose',\n",
       "   'inputDataDriveProfiles': 'inputProfiles_Drive',\n",
       "   'inputDataPlugProfiles': 'inputProfiles_Plug',\n",
       "   'vencoPyOutput': 'vencoPyOutput',\n",
       "   'flexPlotName': 'flexProfileComparison'},\n",
       "  'vencoPyOutput': 'vencoPyOutput',\n",
       "  'aggPlotName': 'mobilityComparison',\n",
       "  'flexPlotName': 'flexProfileComparison',\n",
       "  'outputConfig': 'outputConfigREMix.yaml'},\n",
       " 'labels': {'runLabel': 'sesRepro',\n",
       "  'technologyLabel': 'BEV-S',\n",
       "  'outputFileName': 'VencoPy_MR1_alpha1_batCap40_cons15',\n",
       "  'strAdd': None}}"
      ]
     },
     "execution_count": 3,
     "metadata": {},
     "output_type": "execute_result"
    }
   ],
   "source": [
    "globalConfig"
   ]
  },
  {
   "cell_type": "markdown",
   "metadata": {},
   "source": [
    "## _dataParser_ class"
   ]
  },
  {
   "cell_type": "code",
   "execution_count": null,
   "metadata": {},
   "outputs": [],
   "source": []
  },
  {
   "cell_type": "code",
   "execution_count": null,
   "metadata": {},
   "outputs": [],
   "source": [
    "pathLocalPathConfig"
   ]
  },
  {
   "cell_type": "code",
   "execution_count": null,
   "metadata": {},
   "outputs": [],
   "source": []
  },
  {
   "cell_type": "code",
   "execution_count": 4,
   "metadata": {},
   "outputs": [
    {
     "name": "stdout",
     "output_type": "stream",
     "text": [
      "Parsing properties set up\n",
      "Starting to retrieve local data file from C:\\8_Work\\Data\\MiD17\\B2_Regional-DatensatzpaketEncrypted\\STATA\\MiD2017_Regional_Wege.dta\n",
      "Finished loading 960619 rows of raw data of type .dta\n",
      "Finished harmonization of variables\n",
      "Starting filtering, applying 8 filters.\n",
      "The following values were taken into account after filtering:\n",
      "{'isMIVDriver': 577155,\n",
      " 'tripDistance': 892627,\n",
      " 'tripEndClock': 960619,\n",
      " 'tripEndHour': 896186,\n",
      " 'tripIsIntermodal': 790421,\n",
      " 'tripPurpose': 958025,\n",
      " 'tripStartClock': 960619,\n",
      " 'tripStartHour': 898923}\n",
      "All filters combined yielded a total of 414683 was taken into account\n",
      "This corresponds to 43.16831126596497 percent of the original data\n",
      "Parsing completed\n"
     ]
    }
   ],
   "source": [
    "vpData = DataParser(datasetID=datasetID, parseConfig=parseConfig, globalConfig=globalConfig, localPathConfig=localPathConfig, loadEncrypted=False)"
   ]
  },
  {
   "cell_type": "markdown",
   "metadata": {},
   "source": [
    "## _tripDiaryBuilder_ class"
   ]
  },
  {
   "cell_type": "code",
   "execution_count": null,
   "metadata": {},
   "outputs": [],
   "source": []
  },
  {
   "cell_type": "code",
   "execution_count": 6,
   "metadata": {},
   "outputs": [
    {
     "name": "stdout",
     "output_type": "stream",
     "text": [
      "Calculating hourly shares\n",
      "Trip distance diary setup starting\n",
      "Starting trip purpose diary setup\n",
      "Finished purpose replacements\n",
      "There are 318 daily trip diaries.\n",
      "Drive data and trip purposes written to files inputProfiles_Drive_sesRepro_MiD17.csv and inputProfiles_Purpose_sesRepro_MiD17.csv\n"
     ]
    }
   ],
   "source": [
    "# Trip distance and purpose diary compositions\n",
    "# FIX LOCAL PATHS IN GLOBAL CONFIG FOR XLSX FILES IN INPUTDATA FOLDER\n",
    "vpTripDiary = TripDiaryBuilder(datasetID=datasetID, tripConfig=tripConfig, globalConfig=globalConfig, ParseData=vpData)"
   ]
  },
  {
   "cell_type": "code",
   "execution_count": null,
   "metadata": {},
   "outputs": [],
   "source": [
    "# Evaluate drive and trip purpose profiles\n",
    "vpEval = Evaluator(globalConfig=globalConfig, evaluatorConfig=evaluatorConfig,\n",
    "                   parseData=pd.Series(data=vpData, index=[datasetID]), label='SESPaperTest')\n",
    "vpEval.hourlyAggregates = vpEval.calcVariableSpecAggregates(by=['tripStartWeekday'])\n",
    "vpEval.plotAggregates()"
   ]
  },
  {
   "cell_type": "markdown",
   "metadata": {},
   "source": [
    "## _gridModeler_ class"
   ]
  },
  {
   "cell_type": "code",
   "execution_count": null,
   "metadata": {},
   "outputs": [],
   "source": []
  },
  {
   "cell_type": "code",
   "execution_count": 7,
   "metadata": {},
   "outputs": [
    {
     "name": "stdout",
     "output_type": "stream",
     "text": [
      "Starting with charge connection replacement of location purposes\n",
      "Grid connection assignment complete\n"
     ]
    }
   ],
   "source": [
    "# Grid model applications\n",
    "vpGrid = GridModeler(gridConfig=gridConfig, globalConfig=globalConfig, datasetID=datasetID)\n",
    "vpGrid.assignSimpleGridViaPurposes()\n",
    "vpGrid.writeOutGridAvailability()"
   ]
  },
  {
   "cell_type": "markdown",
   "metadata": {},
   "source": [
    "## _flexEstimator_ class"
   ]
  },
  {
   "cell_type": "code",
   "execution_count": null,
   "metadata": {},
   "outputs": [],
   "source": []
  },
  {
   "cell_type": "code",
   "execution_count": 8,
   "metadata": {},
   "outputs": [
    {
     "name": "stdout",
     "output_type": "stream",
     "text": [
      "Reading Venco input scalars, drive profiles and boolean plug profiles\n"
     ]
    },
    {
     "ename": "ImportError",
     "evalue": "Missing optional dependency 'openpyxl'.  Use pip or conda to install openpyxl.",
     "output_type": "error",
     "traceback": [
      "\u001b[1;31m---------------------------------------------------------------------------\u001b[0m",
      "\u001b[1;31mImportError\u001b[0m                               Traceback (most recent call last)",
      "\u001b[1;32m<ipython-input-8-25d76e755244>\u001b[0m in \u001b[0;36m<module>\u001b[1;34m\u001b[0m\n\u001b[0;32m      1\u001b[0m \u001b[1;31m# Estimate charging flexibility based on driving profiles and charge connection\u001b[0m\u001b[1;33m\u001b[0m\u001b[1;33m\u001b[0m\u001b[1;33m\u001b[0m\u001b[0m\n\u001b[1;32m----> 2\u001b[1;33m \u001b[0mvpFlex\u001b[0m \u001b[1;33m=\u001b[0m \u001b[0mFlexEstimator\u001b[0m\u001b[1;33m(\u001b[0m\u001b[0mflexConfig\u001b[0m\u001b[1;33m=\u001b[0m\u001b[0mflexConfig\u001b[0m\u001b[1;33m,\u001b[0m \u001b[0mglobalConfig\u001b[0m\u001b[1;33m=\u001b[0m\u001b[0mglobalConfig\u001b[0m\u001b[1;33m,\u001b[0m \u001b[0mevaluatorConfig\u001b[0m\u001b[1;33m=\u001b[0m\u001b[0mevaluatorConfig\u001b[0m\u001b[1;33m,\u001b[0m \u001b[0mdatasetID\u001b[0m\u001b[1;33m=\u001b[0m\u001b[0mdatasetID\u001b[0m\u001b[1;33m,\u001b[0m \u001b[0mParseData\u001b[0m\u001b[1;33m=\u001b[0m\u001b[0mvpData\u001b[0m\u001b[1;33m)\u001b[0m\u001b[1;33m\u001b[0m\u001b[1;33m\u001b[0m\u001b[0m\n\u001b[0m\u001b[0;32m      3\u001b[0m \u001b[0mvpFlex\u001b[0m\u001b[1;33m.\u001b[0m\u001b[0mbaseProfileCalculation\u001b[0m\u001b[1;33m(\u001b[0m\u001b[1;33m)\u001b[0m\u001b[1;33m\u001b[0m\u001b[1;33m\u001b[0m\u001b[0m\n\u001b[0;32m      4\u001b[0m \u001b[0mvpFlex\u001b[0m\u001b[1;33m.\u001b[0m\u001b[0mfilter\u001b[0m\u001b[1;33m(\u001b[0m\u001b[1;33m)\u001b[0m\u001b[1;33m\u001b[0m\u001b[1;33m\u001b[0m\u001b[0m\n\u001b[0;32m      5\u001b[0m \u001b[0mvpFlex\u001b[0m\u001b[1;33m.\u001b[0m\u001b[0maggregate\u001b[0m\u001b[1;33m(\u001b[0m\u001b[1;33m)\u001b[0m\u001b[1;33m\u001b[0m\u001b[1;33m\u001b[0m\u001b[0m\n",
      "\u001b[1;32mC:\\8_Work\\VencoPy\\VencoPy_internal\\vencopy\\classes\\flexEstimators.py\u001b[0m in \u001b[0;36m__init__\u001b[1;34m(self, globalConfig, flexConfig, evaluatorConfig, ParseData, datasetID)\u001b[0m\n\u001b[0;32m     33\u001b[0m         \u001b[0mself\u001b[0m\u001b[1;33m.\u001b[0m\u001b[0mdatasetID\u001b[0m \u001b[1;33m=\u001b[0m \u001b[0mdatasetID\u001b[0m\u001b[1;33m\u001b[0m\u001b[1;33m\u001b[0m\u001b[0m\n\u001b[0;32m     34\u001b[0m         \u001b[0mself\u001b[0m\u001b[1;33m.\u001b[0m\u001b[0mscalars\u001b[0m\u001b[1;33m,\u001b[0m \u001b[0mself\u001b[0m\u001b[1;33m.\u001b[0m\u001b[0mdriveProfilesIn\u001b[0m\u001b[1;33m,\u001b[0m\u001b[0;31m \u001b[0m\u001b[0;31m\\\u001b[0m\u001b[1;33m\u001b[0m\u001b[1;33m\u001b[0m\u001b[0m\n\u001b[1;32m---> 35\u001b[1;33m             \u001b[0mself\u001b[0m\u001b[1;33m.\u001b[0m\u001b[0mplugProfilesIn\u001b[0m \u001b[1;33m=\u001b[0m \u001b[0mself\u001b[0m\u001b[1;33m.\u001b[0m\u001b[0mreadVencoInput\u001b[0m\u001b[1;33m(\u001b[0m\u001b[0mdatasetID\u001b[0m\u001b[1;33m=\u001b[0m\u001b[0mdatasetID\u001b[0m\u001b[1;33m)\u001b[0m\u001b[1;33m\u001b[0m\u001b[1;33m\u001b[0m\u001b[0m\n\u001b[0m\u001b[0;32m     36\u001b[0m         \u001b[0mself\u001b[0m\u001b[1;33m.\u001b[0m\u001b[0mmergeDataToWeightsAndDays\u001b[0m\u001b[1;33m(\u001b[0m\u001b[0mParseData\u001b[0m\u001b[1;33m)\u001b[0m\u001b[1;33m\u001b[0m\u001b[1;33m\u001b[0m\u001b[0m\n\u001b[0;32m     37\u001b[0m         \u001b[0mself\u001b[0m\u001b[1;33m.\u001b[0m\u001b[0mweights\u001b[0m \u001b[1;33m=\u001b[0m \u001b[0mself\u001b[0m\u001b[1;33m.\u001b[0m\u001b[0mindexWeights\u001b[0m\u001b[1;33m(\u001b[0m\u001b[0mself\u001b[0m\u001b[1;33m.\u001b[0m\u001b[0mdriveProfilesIn\u001b[0m\u001b[1;33m.\u001b[0m\u001b[0mloc\u001b[0m\u001b[1;33m[\u001b[0m\u001b[1;33m:\u001b[0m\u001b[1;33m,\u001b[0m \u001b[1;33m[\u001b[0m\u001b[1;34m'hhPersonID'\u001b[0m\u001b[1;33m,\u001b[0m \u001b[1;34m'tripStartWeekday'\u001b[0m\u001b[1;33m,\u001b[0m \u001b[1;34m'tripWeight'\u001b[0m\u001b[1;33m]\u001b[0m\u001b[1;33m]\u001b[0m\u001b[1;33m)\u001b[0m\u001b[1;33m\u001b[0m\u001b[1;33m\u001b[0m\u001b[0m\n",
      "\u001b[1;32mC:\\8_Work\\VencoPy\\VencoPy_internal\\vencopy\\classes\\flexEstimators.py\u001b[0m in \u001b[0;36mreadVencoInput\u001b[1;34m(self, datasetID)\u001b[0m\n\u001b[0;32m    168\u001b[0m \u001b[1;33m\u001b[0m\u001b[0m\n\u001b[0;32m    169\u001b[0m         scalars = self.readInputScalars(Path(self.globalConfig['pathRelative']['input']) /\n\u001b[1;32m--> 170\u001b[1;33m                                        self.globalConfig['files']['inputDataScalars'])\n\u001b[0m\u001b[0;32m    171\u001b[0m         driveProfiles_raw = self.readInputCSV(Path(self.globalConfig['pathRelative']['input']) /\n\u001b[0;32m    172\u001b[0m                                               createFileString(globalConfig=self.globalConfig,\n",
      "\u001b[1;32mC:\\8_Work\\VencoPy\\VencoPy_internal\\vencopy\\classes\\flexEstimators.py\u001b[0m in \u001b[0;36mreadInputScalars\u001b[1;34m(self, filePath)\u001b[0m\n\u001b[0;32m    113\u001b[0m                                  \u001b[0musecols\u001b[0m\u001b[1;33m=\u001b[0m\u001b[1;34m'A:C'\u001b[0m\u001b[1;33m,\u001b[0m\u001b[1;33m\u001b[0m\u001b[1;33m\u001b[0m\u001b[0m\n\u001b[0;32m    114\u001b[0m                                  \u001b[0mskiprows\u001b[0m\u001b[1;33m=\u001b[0m\u001b[1;36m0\u001b[0m\u001b[1;33m,\u001b[0m\u001b[1;33m\u001b[0m\u001b[1;33m\u001b[0m\u001b[0m\n\u001b[1;32m--> 115\u001b[1;33m                                  engine='openpyxl')\n\u001b[0m\u001b[0;32m    116\u001b[0m         \u001b[0mscalarsOut\u001b[0m \u001b[1;33m=\u001b[0m \u001b[0minputRaw\u001b[0m\u001b[1;33m.\u001b[0m\u001b[0mset_index\u001b[0m\u001b[1;33m(\u001b[0m\u001b[1;34m'parameter'\u001b[0m\u001b[1;33m)\u001b[0m\u001b[1;33m\u001b[0m\u001b[1;33m\u001b[0m\u001b[0m\n\u001b[0;32m    117\u001b[0m         \u001b[1;32mreturn\u001b[0m \u001b[0mscalarsOut\u001b[0m\u001b[1;33m\u001b[0m\u001b[1;33m\u001b[0m\u001b[0m\n",
      "\u001b[1;32m~\\.conda\\envs\\lab\\lib\\site-packages\\pandas\\util\\_decorators.py\u001b[0m in \u001b[0;36mwrapper\u001b[1;34m(*args, **kwargs)\u001b[0m\n\u001b[0;32m    294\u001b[0m                 )\n\u001b[0;32m    295\u001b[0m                 \u001b[0mwarnings\u001b[0m\u001b[1;33m.\u001b[0m\u001b[0mwarn\u001b[0m\u001b[1;33m(\u001b[0m\u001b[0mmsg\u001b[0m\u001b[1;33m,\u001b[0m \u001b[0mFutureWarning\u001b[0m\u001b[1;33m,\u001b[0m \u001b[0mstacklevel\u001b[0m\u001b[1;33m=\u001b[0m\u001b[0mstacklevel\u001b[0m\u001b[1;33m)\u001b[0m\u001b[1;33m\u001b[0m\u001b[1;33m\u001b[0m\u001b[0m\n\u001b[1;32m--> 296\u001b[1;33m             \u001b[1;32mreturn\u001b[0m \u001b[0mfunc\u001b[0m\u001b[1;33m(\u001b[0m\u001b[1;33m*\u001b[0m\u001b[0margs\u001b[0m\u001b[1;33m,\u001b[0m \u001b[1;33m**\u001b[0m\u001b[0mkwargs\u001b[0m\u001b[1;33m)\u001b[0m\u001b[1;33m\u001b[0m\u001b[1;33m\u001b[0m\u001b[0m\n\u001b[0m\u001b[0;32m    297\u001b[0m \u001b[1;33m\u001b[0m\u001b[0m\n\u001b[0;32m    298\u001b[0m         \u001b[1;32mreturn\u001b[0m \u001b[0mwrapper\u001b[0m\u001b[1;33m\u001b[0m\u001b[1;33m\u001b[0m\u001b[0m\n",
      "\u001b[1;32m~\\.conda\\envs\\lab\\lib\\site-packages\\pandas\\io\\excel\\_base.py\u001b[0m in \u001b[0;36mread_excel\u001b[1;34m(io, sheet_name, header, names, index_col, usecols, squeeze, dtype, engine, converters, true_values, false_values, skiprows, nrows, na_values, keep_default_na, na_filter, verbose, parse_dates, date_parser, thousands, comment, skipfooter, convert_float, mangle_dupe_cols)\u001b[0m\n\u001b[0;32m    302\u001b[0m \u001b[1;33m\u001b[0m\u001b[0m\n\u001b[0;32m    303\u001b[0m     \u001b[1;32mif\u001b[0m \u001b[1;32mnot\u001b[0m \u001b[0misinstance\u001b[0m\u001b[1;33m(\u001b[0m\u001b[0mio\u001b[0m\u001b[1;33m,\u001b[0m \u001b[0mExcelFile\u001b[0m\u001b[1;33m)\u001b[0m\u001b[1;33m:\u001b[0m\u001b[1;33m\u001b[0m\u001b[1;33m\u001b[0m\u001b[0m\n\u001b[1;32m--> 304\u001b[1;33m         \u001b[0mio\u001b[0m \u001b[1;33m=\u001b[0m \u001b[0mExcelFile\u001b[0m\u001b[1;33m(\u001b[0m\u001b[0mio\u001b[0m\u001b[1;33m,\u001b[0m \u001b[0mengine\u001b[0m\u001b[1;33m=\u001b[0m\u001b[0mengine\u001b[0m\u001b[1;33m)\u001b[0m\u001b[1;33m\u001b[0m\u001b[1;33m\u001b[0m\u001b[0m\n\u001b[0m\u001b[0;32m    305\u001b[0m     \u001b[1;32melif\u001b[0m \u001b[0mengine\u001b[0m \u001b[1;32mand\u001b[0m \u001b[0mengine\u001b[0m \u001b[1;33m!=\u001b[0m \u001b[0mio\u001b[0m\u001b[1;33m.\u001b[0m\u001b[0mengine\u001b[0m\u001b[1;33m:\u001b[0m\u001b[1;33m\u001b[0m\u001b[1;33m\u001b[0m\u001b[0m\n\u001b[0;32m    306\u001b[0m         raise ValueError(\n",
      "\u001b[1;32m~\\.conda\\envs\\lab\\lib\\site-packages\\pandas\\io\\excel\\_base.py\u001b[0m in \u001b[0;36m__init__\u001b[1;34m(self, path_or_buffer, engine)\u001b[0m\n\u001b[0;32m    865\u001b[0m         \u001b[0mself\u001b[0m\u001b[1;33m.\u001b[0m\u001b[0m_io\u001b[0m \u001b[1;33m=\u001b[0m \u001b[0mstringify_path\u001b[0m\u001b[1;33m(\u001b[0m\u001b[0mpath_or_buffer\u001b[0m\u001b[1;33m)\u001b[0m\u001b[1;33m\u001b[0m\u001b[1;33m\u001b[0m\u001b[0m\n\u001b[0;32m    866\u001b[0m \u001b[1;33m\u001b[0m\u001b[0m\n\u001b[1;32m--> 867\u001b[1;33m         \u001b[0mself\u001b[0m\u001b[1;33m.\u001b[0m\u001b[0m_reader\u001b[0m \u001b[1;33m=\u001b[0m \u001b[0mself\u001b[0m\u001b[1;33m.\u001b[0m\u001b[0m_engines\u001b[0m\u001b[1;33m[\u001b[0m\u001b[0mengine\u001b[0m\u001b[1;33m]\u001b[0m\u001b[1;33m(\u001b[0m\u001b[0mself\u001b[0m\u001b[1;33m.\u001b[0m\u001b[0m_io\u001b[0m\u001b[1;33m)\u001b[0m\u001b[1;33m\u001b[0m\u001b[1;33m\u001b[0m\u001b[0m\n\u001b[0m\u001b[0;32m    868\u001b[0m \u001b[1;33m\u001b[0m\u001b[0m\n\u001b[0;32m    869\u001b[0m     \u001b[1;32mdef\u001b[0m \u001b[0m__fspath__\u001b[0m\u001b[1;33m(\u001b[0m\u001b[0mself\u001b[0m\u001b[1;33m)\u001b[0m\u001b[1;33m:\u001b[0m\u001b[1;33m\u001b[0m\u001b[1;33m\u001b[0m\u001b[0m\n",
      "\u001b[1;32m~\\.conda\\envs\\lab\\lib\\site-packages\\pandas\\io\\excel\\_openpyxl.py\u001b[0m in \u001b[0;36m__init__\u001b[1;34m(self, filepath_or_buffer)\u001b[0m\n\u001b[0;32m    477\u001b[0m             \u001b[0mObject\u001b[0m \u001b[0mto\u001b[0m \u001b[0mbe\u001b[0m \u001b[0mparsed\u001b[0m\u001b[1;33m.\u001b[0m\u001b[1;33m\u001b[0m\u001b[1;33m\u001b[0m\u001b[0m\n\u001b[0;32m    478\u001b[0m         \"\"\"\n\u001b[1;32m--> 479\u001b[1;33m         \u001b[0mimport_optional_dependency\u001b[0m\u001b[1;33m(\u001b[0m\u001b[1;34m\"openpyxl\"\u001b[0m\u001b[1;33m)\u001b[0m\u001b[1;33m\u001b[0m\u001b[1;33m\u001b[0m\u001b[0m\n\u001b[0m\u001b[0;32m    480\u001b[0m         \u001b[0msuper\u001b[0m\u001b[1;33m(\u001b[0m\u001b[1;33m)\u001b[0m\u001b[1;33m.\u001b[0m\u001b[0m__init__\u001b[0m\u001b[1;33m(\u001b[0m\u001b[0mfilepath_or_buffer\u001b[0m\u001b[1;33m)\u001b[0m\u001b[1;33m\u001b[0m\u001b[1;33m\u001b[0m\u001b[0m\n\u001b[0;32m    481\u001b[0m \u001b[1;33m\u001b[0m\u001b[0m\n",
      "\u001b[1;32m~\\.conda\\envs\\lab\\lib\\site-packages\\pandas\\compat\\_optional.py\u001b[0m in \u001b[0;36mimport_optional_dependency\u001b[1;34m(name, extra, raise_on_missing, on_version)\u001b[0m\n\u001b[0;32m    108\u001b[0m     \u001b[1;32mexcept\u001b[0m \u001b[0mImportError\u001b[0m\u001b[1;33m:\u001b[0m\u001b[1;33m\u001b[0m\u001b[1;33m\u001b[0m\u001b[0m\n\u001b[0;32m    109\u001b[0m         \u001b[1;32mif\u001b[0m \u001b[0mraise_on_missing\u001b[0m\u001b[1;33m:\u001b[0m\u001b[1;33m\u001b[0m\u001b[1;33m\u001b[0m\u001b[0m\n\u001b[1;32m--> 110\u001b[1;33m             \u001b[1;32mraise\u001b[0m \u001b[0mImportError\u001b[0m\u001b[1;33m(\u001b[0m\u001b[0mmsg\u001b[0m\u001b[1;33m)\u001b[0m \u001b[1;32mfrom\u001b[0m \u001b[1;32mNone\u001b[0m\u001b[1;33m\u001b[0m\u001b[1;33m\u001b[0m\u001b[0m\n\u001b[0m\u001b[0;32m    111\u001b[0m         \u001b[1;32melse\u001b[0m\u001b[1;33m:\u001b[0m\u001b[1;33m\u001b[0m\u001b[1;33m\u001b[0m\u001b[0m\n\u001b[0;32m    112\u001b[0m             \u001b[1;32mreturn\u001b[0m \u001b[1;32mNone\u001b[0m\u001b[1;33m\u001b[0m\u001b[1;33m\u001b[0m\u001b[0m\n",
      "\u001b[1;31mImportError\u001b[0m: Missing optional dependency 'openpyxl'.  Use pip or conda to install openpyxl."
     ]
    }
   ],
   "source": [
    "# Estimate charging flexibility based on driving profiles and charge connection\n",
    "vpFlex = FlexEstimator(flexConfig=flexConfig, globalConfig=globalConfig, evaluatorConfig=evaluatorConfig, datasetID=datasetID, ParseData=vpData)\n",
    "vpFlex.baseProfileCalculation()\n",
    "vpFlex.filter()\n",
    "vpFlex.aggregate()\n",
    "vpFlex.correct()\n",
    "vpFlex.normalize()\n",
    "vpFlex.writeOut()\n",
    "\n",
    "vpEval.plotProfiles(flexEstimator=vpFlex)"
   ]
  },
  {
   "cell_type": "code",
   "execution_count": null,
   "metadata": {},
   "outputs": [],
   "source": []
  }
 ],
 "metadata": {
  "kernelspec": {
   "display_name": "Python 3",
   "language": "python",
   "name": "python3"
  },
  "language_info": {
   "codemirror_mode": {
    "name": "ipython",
    "version": 3
   },
   "file_extension": ".py",
   "mimetype": "text/x-python",
   "name": "python",
   "nbconvert_exporter": "python",
   "pygments_lexer": "ipython3",
   "version": "3.6.12"
  }
 },
 "nbformat": 4,
 "nbformat_minor": 4
}
