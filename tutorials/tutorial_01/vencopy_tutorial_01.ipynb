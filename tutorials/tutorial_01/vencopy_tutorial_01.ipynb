{
 "cells": [
  {
   "cell_type": "markdown",
   "metadata": {},
   "source": [
    "# VencoPy Tutorial 1"
   ]
  },
  {
   "cell_type": "markdown",
   "metadata": {},
   "source": [
    "This tutorial showcases the general structure and workflow of VencoPy, as well as some basic features of its 4 main classes:\n",
    "- dataParsers\n",
    "- tripDiaryBuilder\n",
    "- gridModeler\n",
    "- flexEstimator"
   ]
  },
  {
   "cell_type": "markdown",
   "metadata": {},
   "source": [
    "## Setting up the working space"
   ]
  },
  {
   "cell_type": "code",
   "execution_count": null,
   "metadata": {},
   "outputs": [],
   "source": []
  },
  {
   "cell_type": "code",
   "execution_count": 1,
   "metadata": {},
   "outputs": [],
   "source": [
    "import os, sys\n",
    "import pandas as pd\n",
    "import numpy as np\n",
    "import yaml\n",
    "import pathlib\n",
    "\n",
    "path = '../..'\n",
    "os.chdir(path)\n",
    "\n",
    "#sys.path.append(\"../../classes\")\n",
    "#sys.path.append(\"../../../vencopy\")\n",
    "\n",
    "from classes.dataParsers import DataParser\n",
    "from classes.tripDiaryBuilders import TripDiaryBuilder\n",
    "from classes.gridModelers import GridModeler\n",
    "from classes.flexEstimators import FlexEstimator\n",
    "from classes.evaluators import Evaluator"
   ]
  },
  {
   "cell_type": "code",
   "execution_count": null,
   "metadata": {},
   "outputs": [],
   "source": []
  },
  {
   "cell_type": "code",
   "execution_count": 2,
   "metadata": {},
   "outputs": [],
   "source": [
    "datasetID = 'MiD17'\n",
    "\n",
    "pathGlobalConfig = pathlib.Path.cwd() / 'config' / 'globalConfig.yaml'\n",
    "with open(pathGlobalConfig) as ipf:\n",
    "    globalConfig = yaml.load(ipf, Loader=yaml.SafeLoader)\n",
    "pathLocalPathConfig = pathlib.Path.cwd()  / 'config' / 'localPathConfig.yaml'\n",
    "with open(pathLocalPathConfig) as ipf:\n",
    "    localPathConfig = yaml.load(ipf, Loader=yaml.SafeLoader)\n",
    "pathParseConfig = pathlib.Path.cwd()  / 'config' / 'parseConfig.yaml'\n",
    "with open(pathParseConfig) as ipf:\n",
    "    parseConfig = yaml.load(ipf, Loader=yaml.SafeLoader)\n",
    "pathTripConfig = pathlib.Path.cwd()  / 'config' / 'tripConfig.yaml'\n",
    "with open(pathTripConfig) as ipf:\n",
    "    tripConfig = yaml.load(ipf, Loader=yaml.SafeLoader)\n",
    "pathGridConfig = pathlib.Path.cwd()  / 'config' / 'gridConfig.yaml'\n",
    "with open(pathGridConfig) as ipf:\n",
    "    gridConfig = yaml.load(ipf, Loader=yaml.SafeLoader)\n",
    "pathEvaluatorConfig = pathlib.Path.cwd()  / 'config' / 'evaluatorConfig.yaml'\n",
    "with open(pathEvaluatorConfig) as ipf:\n",
    "    evaluatorConfig = yaml.load(ipf, Loader=yaml.SafeLoader)\n",
    "pathFlexConfig = pathlib.Path.cwd()  / 'config' / 'flexConfig.yaml'\n",
    "with open(pathFlexConfig) as ipf:\n",
    "    flexConfig = yaml.load(ipf, Loader=yaml.SafeLoader)"
   ]
  },
  {
   "cell_type": "code",
   "execution_count": null,
   "metadata": {},
   "outputs": [],
   "source": []
  },
  {
   "cell_type": "code",
   "execution_count": 3,
   "metadata": {},
   "outputs": [
    {
     "data": {
      "text/plain": [
       "{'pathRelative': {'input': './inputData/',\n",
       "  'plots': './output/plots/',\n",
       "  'dataOutput': './output/data/',\n",
       "  'scripts': './scripts/',\n",
       "  'config': './config/'},\n",
       " 'numberOfHours': 24,\n",
       " 'files': {'inputDataScalars': 'VencoPy_scalarInput.xlsx',\n",
       "  'MiD17': {'enryptedZipFileB1': 'B1_Standard-DatensatzpaketEncrypted.zip',\n",
       "   'enryptedZipFileB2': 'B2_Regional-DatensatzpaketEncrypted.zip',\n",
       "   'tripDataZipFileRaw': 'CSV/MiD2017_Regional_Wege.csv',\n",
       "   'householdsDataRaw': 'MiD2017_Regional_Haushalte.csv',\n",
       "   'personsDataRaw': 'MiD2017_Regional_Personen.csv',\n",
       "   'tripsDataRaw': 'MiD2017_Regional_Wege.dta',\n",
       "   'purposesProcessed': 'inputProfiles_Purpose',\n",
       "   'inputDataDriveProfiles': 'inputProfiles_Drive',\n",
       "   'inputDataPlugProfiles': 'inputProfiles_Plug',\n",
       "   'vencoPyOutput': 'vencoPyOutput',\n",
       "   'flexPlotName': 'flexProfileComparison'},\n",
       "  'MiD08': {'householdsDataRaw': 'MiD2008_PUF_Haushalte.dta',\n",
       "   'personDataRaw': 'MiD2008_PUF_Personen.dta',\n",
       "   'tripsDataRaw': 'MiD2008_PUF_Wege.dta',\n",
       "   'tripsProcessedOld': 'MiD_procCS_caseID-weekday-weight-activity.xlsx',\n",
       "   'purposesProcessedOld': 'MiD_procCS_caseID-weekday-weight-activity.xlsx',\n",
       "   'purposesProcessed': 'inputProfiles_Purpose',\n",
       "   'inputDataDriveProfiles': 'inputProfiles_Drive',\n",
       "   'inputDataPlugProfiles': 'inputProfiles_Plug',\n",
       "   'vencoPyOutput': 'vencoPyOutput',\n",
       "   'flexPlotName': 'flexProfileComparison'},\n",
       "  'vencoPyOutput': 'vencoPyOutput',\n",
       "  'aggPlotName': 'mobilityComparison',\n",
       "  'flexPlotName': 'flexProfileComparison',\n",
       "  'outputConfig': 'outputConfigREMix.yaml'},\n",
       " 'labels': {'runLabel': 'sesRepro',\n",
       "  'technologyLabel': 'BEV-S',\n",
       "  'outputFileName': 'VencoPy_MR1_alpha1_batCap40_cons15',\n",
       "  'strAdd': None}}"
      ]
     },
     "execution_count": 3,
     "metadata": {},
     "output_type": "execute_result"
    }
   ],
   "source": [
    "globalConfig"
   ]
  },
  {
   "cell_type": "markdown",
   "metadata": {},
   "source": [
    "## _dataParser_ class"
   ]
  },
  {
   "cell_type": "code",
   "execution_count": null,
   "metadata": {},
   "outputs": [],
   "source": []
  },
  {
   "cell_type": "code",
   "execution_count": 4,
   "metadata": {},
   "outputs": [
    {
     "data": {
      "text/plain": [
       "WindowsPath('C:/8_Work/VencoPy/VencoPy_internal/vencopy/config/localPathConfig.yaml')"
      ]
     },
     "execution_count": 4,
     "metadata": {},
     "output_type": "execute_result"
    }
   ],
   "source": [
    "pathLocalPathConfig"
   ]
  },
  {
   "cell_type": "code",
   "execution_count": null,
   "metadata": {},
   "outputs": [],
   "source": []
  },
  {
   "cell_type": "code",
   "execution_count": 5,
   "metadata": {},
   "outputs": [
    {
     "name": "stdout",
     "output_type": "stream",
     "text": [
      "Parsing properties set up\n",
      "Starting to retrieve local data file from C:\\8_Work\\Data\\MiD17\\B2_Regional-DatensatzpaketEncrypted\\STATA\\MiD2017_Regional_Wege.dta\n",
      "Finished loading 960619 rows of raw data of type .dta\n",
      "Finished harmonization of variables\n",
      "Starting filtering, applying 8 filters.\n",
      "The following values were taken into account after filtering:\n",
      "{'isMIVDriver': 577155,\n",
      " 'tripDistance': 892627,\n",
      " 'tripEndClock': 960619,\n",
      " 'tripEndHour': 896186,\n",
      " 'tripIsIntermodal': 790421,\n",
      " 'tripPurpose': 958025,\n",
      " 'tripStartClock': 960619,\n",
      " 'tripStartHour': 898923}\n",
      "All filters combined yielded a total of 414683 was taken into account\n",
      "This corresponds to 43.16831126596497 percent of the original data\n",
      "Parsing completed\n"
     ]
    }
   ],
   "source": [
    "vpData = DataParser(datasetID=datasetID, parseConfig=parseConfig, globalConfig=globalConfig, localPathConfig=localPathConfig, loadEncrypted=False)"
   ]
  },
  {
   "cell_type": "markdown",
   "metadata": {},
   "source": [
    "## _tripDiaryBuilder_ class"
   ]
  },
  {
   "cell_type": "code",
   "execution_count": null,
   "metadata": {},
   "outputs": [],
   "source": []
  },
  {
   "cell_type": "code",
   "execution_count": 6,
   "metadata": {},
   "outputs": [
    {
     "name": "stdout",
     "output_type": "stream",
     "text": [
      "Calculating hourly shares\n",
      "Trip distance diary setup starting\n",
      "Starting trip purpose diary setup\n",
      "Finished purpose replacements\n",
      "There are 318 daily trip diaries.\n",
      "Drive data and trip purposes written to files inputProfiles_Drive_sesRepro_MiD17.csv and inputProfiles_Purpose_sesRepro_MiD17.csv\n"
     ]
    }
   ],
   "source": [
    "# Trip distance and purpose diary compositions\n",
    "# FIX LOCAL PATHS IN GLOBAL CONFIG FOR XLSX FILES IN INPUTDATA FOLDER\n",
    "vpTripDiary = TripDiaryBuilder(datasetID=datasetID, tripConfig=tripConfig, globalConfig=globalConfig, ParseData=vpData)"
   ]
  },
  {
   "cell_type": "code",
   "execution_count": 7,
   "metadata": {},
   "outputs": [],
   "source": [
    "# Evaluate drive and trip purpose profiles\n",
    "#vpEval = Evaluator(globalConfig=globalConfig, evaluatorConfig=evaluatorConfig,\n",
    "#                   parseData=pd.Series(data=vpData, index=[datasetID]), label='SESPaperTest')\n",
    "#vpEval.hourlyAggregates = vpEval.calcVariableSpecAggregates(by=['tripStartWeekday'])\n",
    "#vpEval.plotAggregates()"
   ]
  },
  {
   "cell_type": "markdown",
   "metadata": {},
   "source": [
    "## _gridModeler_ class"
   ]
  },
  {
   "cell_type": "code",
   "execution_count": null,
   "metadata": {},
   "outputs": [],
   "source": []
  },
  {
   "cell_type": "code",
   "execution_count": 8,
   "metadata": {},
   "outputs": [
    {
     "name": "stdout",
     "output_type": "stream",
     "text": [
      "Starting with charge connection replacement of location purposes\n",
      "Grid connection assignment complete\n"
     ]
    }
   ],
   "source": [
    "# Grid model applications\n",
    "vpGrid = GridModeler(gridConfig=gridConfig, globalConfig=globalConfig, datasetID=datasetID)\n",
    "vpGrid.assignSimpleGridViaPurposes()\n",
    "vpGrid.writeOutGridAvailability()"
   ]
  },
  {
   "cell_type": "markdown",
   "metadata": {},
   "source": [
    "## _flexEstimator_ class"
   ]
  },
  {
   "cell_type": "code",
   "execution_count": null,
   "metadata": {},
   "outputs": [],
   "source": []
  },
  {
   "cell_type": "code",
   "execution_count": null,
   "metadata": {},
   "outputs": [],
   "source": []
  },
  {
   "cell_type": "code",
   "execution_count": 9,
   "metadata": {},
   "outputs": [
    {
     "name": "stdout",
     "output_type": "stream",
     "text": [
      "Reading Venco input scalars, drive profiles and boolean plug profiles\n",
      "There are 318 drive profiles and 318 plug profiles.\n",
      "Flex Estimator initialization complete\n",
      "Starting with iteration 0\n",
      "10753.398007982298\n",
      "Starting with iteration 1\n",
      "168.81332603686678\n",
      "Starting with iteration 2\n",
      "4.162500000000364\n",
      "0.0\n",
      "0.0\n",
      "0.0\n",
      "Base profile calculation complete for dataset MiD17\n",
      "There are 310 considered profiles and 307 DSM eligible profiles.\n"
     ]
    }
   ],
   "source": [
    "# Estimate charging flexibility based on driving profiles and charge connection\n",
    "vpFlex = FlexEstimator(flexConfig=flexConfig, globalConfig=globalConfig, evaluatorConfig=evaluatorConfig, datasetID=datasetID, ParseData=vpData)\n",
    "vpFlex.baseProfileCalculation()\n",
    "vpFlex.filter()\n",
    "vpFlex.aggregate()\n",
    "vpFlex.correct()\n",
    "vpFlex.normalize()\n",
    "vpFlex.writeOut()"
   ]
  },
  {
   "cell_type": "code",
   "execution_count": 10,
   "metadata": {},
   "outputs": [],
   "source": [
    "#vpEval.plotProfiles(flexEstimator=vpFlex)"
   ]
  },
  {
   "cell_type": "code",
   "execution_count": null,
   "metadata": {},
   "outputs": [],
   "source": []
  }
 ],
 "metadata": {
  "kernelspec": {
   "display_name": "Python 3",
   "language": "python",
   "name": "python3"
  },
  "language_info": {
   "codemirror_mode": {
    "name": "ipython",
    "version": 3
   },
   "file_extension": ".py",
   "mimetype": "text/x-python",
   "name": "python",
   "nbconvert_exporter": "python",
   "pygments_lexer": "ipython3",
   "version": "3.6.12"
  }
 },
 "nbformat": 4,
 "nbformat_minor": 4
}
