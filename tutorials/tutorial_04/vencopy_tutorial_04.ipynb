{
 "cells": [
  {
   "cell_type": "markdown",
   "metadata": {},
   "source": [
    "# VencoPy Tutorial 4"
   ]
  },
  {
   "cell_type": "markdown",
   "metadata": {},
   "source": [
    "This tutorial aims to give a more in depth overview into the GridModeler class and showcases some features that can be customised."
   ]
  },
  {
   "cell_type": "code",
   "execution_count": 7,
   "metadata": {},
   "outputs": [
    {
     "name": "stdout",
     "output_type": "stream",
     "text": [
      "Current working directory: C:\\8_Work\\VencoPy\n"
     ]
    }
   ],
   "source": [
    "import os, sys\n",
    "import pandas as pd\n",
    "import numpy as np\n",
    "import yaml\n",
    "import pathlib\n",
    "from ruamel.yaml import YAML\n",
    "\n",
    "path = '../..'\n",
    "os.chdir(path)\n",
    "\n",
    "from classes.dataParsers import DataParser\n",
    "from classes.tripDiaryBuilders import TripDiaryBuilder\n",
    "from classes.gridModelers import GridModeler\n",
    "from classes.flexEstimators import FlexEstimator\n",
    "from classes.evaluators import Evaluator\n",
    "\n",
    "print(\"Current working directory: {0}\".format(os.getcwd()))"
   ]
  },
  {
   "cell_type": "code",
   "execution_count": 2,
   "metadata": {},
   "outputs": [],
   "source": [
    "pathGlobalConfig = pathlib.Path.cwd() / 'config' / 'globalConfig.yaml'\n",
    "with open(pathGlobalConfig) as ipf:\n",
    "    globalConfig = yaml.load(ipf, Loader=yaml.SafeLoader)\n",
    "pathLocalPathConfig = pathlib.Path.cwd()  / 'config' / 'localPathConfig.yaml'\n",
    "with open(pathLocalPathConfig) as ipf:\n",
    "    localPathConfig = yaml.load(ipf, Loader=yaml.SafeLoader)\n",
    "pathParseConfig = pathlib.Path.cwd()  / 'config' / 'parseConfig.yaml'\n",
    "with open(pathParseConfig) as ipf:\n",
    "    parseConfig = yaml.load(ipf, Loader=yaml.SafeLoader)\n",
    "pathTripConfig = pathlib.Path.cwd()  / 'config' / 'tripConfig.yaml'\n",
    "with open(pathTripConfig) as ipf:\n",
    "    tripConfig = yaml.load(ipf, Loader=yaml.SafeLoader)\n",
    "pathGridConfig = pathlib.Path.cwd()  / 'config' / 'gridConfig.yaml'\n",
    "with open(pathGridConfig) as ipf:\n",
    "    gridConfig = yaml.load(ipf, Loader=yaml.SafeLoader)\n",
    "pathEvaluatorConfig = pathlib.Path.cwd()  / 'config' / 'evaluatorConfig.yaml'\n",
    "with open(pathEvaluatorConfig) as ipf:\n",
    "    evaluatorConfig = yaml.load(ipf, Loader=yaml.SafeLoader)\n",
    "pathFlexConfig = pathlib.Path.cwd()  / 'config' / 'flexConfig.yaml'\n",
    "with open(pathFlexConfig) as ipf:\n",
    "    flexConfig = yaml.load(ipf, Loader=yaml.SafeLoader)\n",
    "    \n",
    "    \n",
    "# Set reference dataset \n",
    "datasetID = 'MiD17'\n",
    "\n",
    "# Modify the localPathConfig file to point to the .csv file in the sampling folder in the tutorials directory where the dataset for the tutorials lies.\n",
    "localPathConfig['pathAbsolute'][datasetID] = pathlib.Path.cwd() / 'tutorials' / 'data_sampling'\n",
    "\n",
    "# Assign to vencoPyRoot the folder in which you cloned your repository\n",
    "localPathConfig['pathAbsolute']['vencoPyRoot'] = pathlib.Path.cwd()\n",
    "\n",
    "# Similarly we modify the datasetID in the global config file\n",
    "globalConfig['files'][datasetID]['tripsDataRaw'] = datasetID + '.csv'\n",
    "\n",
    "# We also modify the parseConfig by removing some of the columns that are normally parsed from the MiD, which are not available in our semplified test dataframe\n",
    "del parseConfig['dataVariables']['hhID'] \n",
    "del parseConfig['dataVariables']['personID'] "
   ]
  },
  {
   "cell_type": "markdown",
   "metadata": {},
   "source": [
    "## GridModeler config file"
   ]
  },
  {
   "cell_type": "markdown",
   "metadata": {},
   "source": [
    "Let's print the GridModeler config file."
   ]
  },
  {
   "cell_type": "code",
   "execution_count": 3,
   "metadata": {},
   "outputs": [
    {
     "name": "stdout",
     "output_type": "stream",
     "text": [
      "chargingInfrastructureDistributions:\n",
      "  DRIVING:\n",
      "    1: 0\n",
      "  HOME:\n",
      "    0.7: 3.6\n",
      "  LEISURE:\n",
      "    0.5: 11\n",
      "  NA:\n",
      "    1: 0\n",
      "  OTHER:\n",
      "    0.5: 11\n",
      "  SCHOOL:\n",
      "    0.5: 11\n",
      "  SHOPPING:\n",
      "    0.5: 11\n",
      "  WORK:\n",
      "    0.5: 11\n",
      "chargingInfrastructureMappings:\n",
      "  DRIVING: false\n",
      "  HOME: true\n",
      "  LEISURE: false\n",
      "  NA: false\n",
      "  OTHER: false\n",
      "  SCHOOL: false\n",
      "  SHOPPING: false\n",
      "  WORK: false\n",
      "gridAvailabilityDistribution:\n",
      "  '0.0':\n",
      "    1: 0\n",
      "  DRIVING:\n",
      "    1: 0\n",
      "  HOME:\n",
      "    0.05: 22\n",
      "    0.2: 0\n",
      "    0.25: 11\n",
      "    0.5: 3.6\n",
      "  LEISURE:\n",
      "    0.2: 22\n",
      "    0.35: 11\n",
      "    0.45: 0\n",
      "  OTHER:\n",
      "    0.1: 22\n",
      "    0.2: 11\n",
      "    0.7: 0\n",
      "  SCHOOL:\n",
      "    0.2: 22\n",
      "    0.35: 11\n",
      "    0.45: 0\n",
      "  SHOPPING:\n",
      "    0.2: 22\n",
      "    0.35: 11\n",
      "    0.45: 0\n",
      "  WORK:\n",
      "    0.2: 22\n",
      "    0.3: 0\n",
      "    0.5: 11\n",
      "gridAvailabilityFastCharging:\n",
      "  '0.0':\n",
      "    1: 0\n",
      "  DRIVING:\n",
      "    1: 0\n",
      "  HOME:\n",
      "    0.05: 22\n",
      "    0.2: 0\n",
      "    0.25: 11\n",
      "    0.5: 3.6\n",
      "  LEISURE:\n",
      "    0.2: 50\n",
      "    0.35: 0\n",
      "    0.45: 75\n",
      "  OTHER:\n",
      "    0.1: 22\n",
      "    0.2: 11\n",
      "    0.7: 0\n",
      "  SCHOOL:\n",
      "    0.2: 22\n",
      "    0.35: 11\n",
      "    0.45: 0\n",
      "  SHOPPING:\n",
      "    0.2: 22\n",
      "    0.35: 11\n",
      "    0.45: 0\n",
      "  WORK:\n",
      "    0.2: 0\n",
      "    0.3: 50\n",
      "    0.5: 75\n"
     ]
    }
   ],
   "source": [
    "yaml.dump(gridConfig, sys.stdout)"
   ]
  },
  {
   "cell_type": "markdown",
   "metadata": {},
   "source": [
    "As we can see the GridModeler config file contains two keys: chargingInfrastructureMappings and chargingInfrastructureDistributions. The first one basically sets for which trip purpose the infrastructure availability should be considered, the second one specifies the probabilities given for each location (trip purpose) and the respective charging power."
   ]
  },
  {
   "cell_type": "markdown",
   "metadata": {},
   "source": [
    "## _GridModeler_ class"
   ]
  },
  {
   "cell_type": "markdown",
   "metadata": {},
   "source": [
    "The charging infrastructure allocation makes use of a basic charging infrastructure model, which assumes the availability of charging stations when vehicles are parked. Since the analytical focus of the framework lies on a regional level (NUTS1-NUTS0), the infrastructure model is kept simple in the current version.\n",
    "\n",
    "Charging availability is allocated based on a binary True–False mapping to a respective trip purpose in the VencoPy-config. Thus, different scenarios describing different charging availability scenarios, e.g., at home or at home and at work etc. can be distinguished, but neither a regional differentiation nor a charging availability probability or distribution are assumed.\n",
    "\n",
    "At the end of the execution of the GridModeler class, a given parking purpose diary parkingType(v,t) is transferred into a binary grid connection diary connectgrid(v,t) with the same format but consisting only of True–False values."
   ]
  },
  {
   "cell_type": "code",
   "execution_count": 4,
   "metadata": {},
   "outputs": [
    {
     "name": "stdout",
     "output_type": "stream",
     "text": [
      "Parsing properties set up\n",
      "Starting to retrieve local data file from C:\\8_Work\\VencoPy\\VencoPy_internal\\vencopy\\tutorials\\data_sampling\\MiD17.csv\n",
      "Finished loading 2124 rows of raw data of type .csv\n",
      "Finished harmonization of variables\n",
      "Starting filtering, applying 8 filters.\n",
      "The following values were taken into account after filtering:\n",
      "{'isMIVDriver': 1287,\n",
      " 'tripDistance': 1948,\n",
      " 'tripEndClock': 2124,\n",
      " 'tripEndHour': 2124,\n",
      " 'tripIsIntermodal': 1682,\n",
      " 'tripPurpose': 2115,\n",
      " 'tripStartClock': 2124,\n",
      " 'tripStartHour': 2124}\n",
      "All filters combined yielded a total of 950 was taken into account\n",
      "This corresponds to 44.72693032015066 percent of the original data\n",
      "Parsing completed\n",
      "Calculating hourly shares\n",
      "Trip distance diary setup starting\n",
      "Starting trip purpose diary setup\n",
      "Finished purpose replacements\n",
      "There are 267 daily trip diaries.\n",
      "Drive data and trip purposes written to files inputProfiles_Drive_masterBranch_MiD17.csv and inputProfiles_Purpose_masterBranch_MiD17.csv\n"
     ]
    }
   ],
   "source": [
    "# Run the first two classes to generate data\n",
    "vpData = DataParser(datasetID=datasetID, parseConfig=parseConfig, globalConfig=globalConfig, localPathConfig=localPathConfig, loadEncrypted=False)\n",
    "vpTripDiary = TripDiaryBuilder(datasetID=datasetID, tripConfig=tripConfig, globalConfig=globalConfig, ParseData=vpData)"
   ]
  },
  {
   "cell_type": "code",
   "execution_count": 5,
   "metadata": {},
   "outputs": [
    {
     "name": "stdout",
     "output_type": "stream",
     "text": [
      "Starting with charge connection replacement of location purposes\n",
      "Grid connection assignment complete\n"
     ]
    }
   ],
   "source": [
    "vpGrid = GridModeler(gridConfig=gridConfig, globalConfig=globalConfig, datasetID=datasetID)\n",
    "vpGrid.assignSimpleGridViaPurposes()\n",
    "vpGrid.writeOutGridAvailability()"
   ]
  },
  {
   "cell_type": "code",
   "execution_count": 6,
   "metadata": {},
   "outputs": [
    {
     "name": "stdout",
     "output_type": "stream",
     "text": [
      "Reading Venco input scalars, drive profiles and boolean plug profiles\n",
      "There are 267 drive profiles and 267 plug profiles.\n",
      "Flex Estimator initialization complete\n",
      "Starting with iteration 0\n",
      "9976.124148541114\n",
      "Starting with iteration 1\n",
      "0.0\n",
      "Starting with iteration 2\n",
      "0.0\n",
      "0.0\n",
      "0.0\n",
      "0.0\n",
      "Base profile calculation complete for dataset MiD17\n",
      "There are 262 considered profiles and 259 DSM eligible profiles.\n"
     ]
    }
   ],
   "source": [
    "vpFlex = FlexEstimator(flexConfig=flexConfig, globalConfig=globalConfig, evaluatorConfig=evaluatorConfig, datasetID=datasetID, ParseData=vpData)\n",
    "vpFlex.baseProfileCalculation()\n",
    "vpFlex.filter()\n",
    "vpFlex.aggregate()\n",
    "vpFlex.correct()\n",
    "vpFlex.normalize()\n",
    "vpFlex.writeOut()"
   ]
  },
  {
   "cell_type": "code",
   "execution_count": null,
   "metadata": {},
   "outputs": [],
   "source": [
    "vpEval = Evaluator(globalConfig=globalConfig, evaluatorConfig=evaluatorConfig, parseData=pd.Series(data=vpData, index=[datasetID]))\n",
    "vpEval.plotProfiles(flexEstimator=vpFlex)"
   ]
  },
  {
   "cell_type": "markdown",
   "metadata": {},
   "source": [
    "We can now change the grid availability from home to the workplace only and see how this affects the available charging flexibility."
   ]
  },
  {
   "cell_type": "code",
   "execution_count": null,
   "metadata": {},
   "outputs": [],
   "source": [
    "gridConfig['chargingInfrastructureMappings']['HOME'] = False\n",
    "gridConfig['chargingInfrastructureMappings']['WORK'] = True\n",
    "yaml.dump(gridConfig, sys.stdout)"
   ]
  },
  {
   "cell_type": "code",
   "execution_count": null,
   "metadata": {},
   "outputs": [],
   "source": [
    "vpGrid = GridModeler(gridConfig=gridConfig, globalConfig=globalConfig, datasetID=datasetID)\n",
    "vpGrid.assignSimpleGridViaPurposes()\n",
    "vpGrid.writeOutGridAvailability()"
   ]
  },
  {
   "cell_type": "code",
   "execution_count": null,
   "metadata": {},
   "outputs": [],
   "source": [
    "vpEval.plotProfiles(flexEstimator=vpFlex)"
   ]
  },
  {
   "cell_type": "markdown",
   "metadata": {},
   "source": [
    "From the plots we can see how in the case of home charging, the grid connenction share varies between 0.4 and 1 for the fleet and it is 'homogeneously' distributed throughout the week, whereas in the workplace charging scenario it is limited to working days. "
   ]
  },
  {
   "cell_type": "markdown",
   "metadata": {},
   "source": [
    "## Next Steps"
   ]
  },
  {
   "cell_type": "markdown",
   "metadata": {},
   "source": [
    "In the next tutorial, you will learn more in detail the internal workings of the FlexEstimator class and how to customise some settings."
   ]
  }
 ],
 "metadata": {
  "kernelspec": {
   "display_name": "Python 3",
   "language": "python",
   "name": "python3"
  },
  "language_info": {
   "codemirror_mode": {
    "name": "ipython",
    "version": 3
   },
   "file_extension": ".py",
   "mimetype": "text/x-python",
   "name": "python",
   "nbconvert_exporter": "python",
   "pygments_lexer": "ipython3",
   "version": "3.6.12"
  }
 },
 "nbformat": 4,
 "nbformat_minor": 4
}
