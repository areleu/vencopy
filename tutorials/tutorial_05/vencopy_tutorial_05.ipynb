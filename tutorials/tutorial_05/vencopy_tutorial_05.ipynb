{
 "cells": [
  {
   "cell_type": "markdown",
   "metadata": {},
   "source": [
    "# VencoPy Tutorial 5"
   ]
  },
  {
   "cell_type": "markdown",
   "metadata": {},
   "source": [
    "This tutorial aims to give a more in depth overview into the dataParser module and showcases some features that can be customised."
   ]
  },
  {
   "cell_type": "code",
   "execution_count": null,
   "metadata": {},
   "outputs": [],
   "source": [
    "import os, sys\n",
    "import pandas as pd\n",
    "import numpy as np\n",
    "import yaml\n",
    "import pathlib\n",
    "from ruamel.yaml import YAML\n",
    "\n",
    "path = '../..'\n",
    "os.chdir(path)\n",
    "\n",
    "from classes.dataParsers import DataParser\n",
    "from classes.tripDiaryBuilders import TripDiaryBuilder\n",
    "from classes.gridModelers import GridModeler\n",
    "from classes.flexEstimators import FlexEstimator\n",
    "from classes.evaluators import Evaluator\n",
    "\n",
    "print(\"Current working directory: {0}\".format(os.getcwd()))"
   ]
  },
  {
   "cell_type": "code",
   "execution_count": null,
   "metadata": {},
   "outputs": [],
   "source": [
    "pathGlobalConfig = pathlib.Path.cwd() / 'config' / 'globalConfig.yaml'\n",
    "with open(pathGlobalConfig) as ipf:\n",
    "    globalConfig = yaml.load(ipf, Loader=yaml.SafeLoader)\n",
    "pathLocalPathConfig = pathlib.Path.cwd()  / 'config' / 'localPathConfig.yaml'\n",
    "with open(pathLocalPathConfig) as ipf:\n",
    "    localPathConfig = yaml.load(ipf, Loader=yaml.SafeLoader)\n",
    "pathParseConfig = pathlib.Path.cwd()  / 'config' / 'parseConfig.yaml'\n",
    "with open(pathParseConfig) as ipf:\n",
    "    parseConfig = yaml.load(ipf, Loader=yaml.SafeLoader)\n",
    "pathTripConfig = pathlib.Path.cwd()  / 'config' / 'tripConfig.yaml'\n",
    "with open(pathTripConfig) as ipf:\n",
    "    tripConfig = yaml.load(ipf, Loader=yaml.SafeLoader)\n",
    "pathGridConfig = pathlib.Path.cwd()  / 'config' / 'gridConfig.yaml'\n",
    "with open(pathGridConfig) as ipf:\n",
    "    gridConfig = yaml.load(ipf, Loader=yaml.SafeLoader)\n",
    "pathEvaluatorConfig = pathlib.Path.cwd()  / 'config' / 'evaluatorConfig.yaml'\n",
    "with open(pathEvaluatorConfig) as ipf:\n",
    "    evaluatorConfig = yaml.load(ipf, Loader=yaml.SafeLoader)\n",
    "pathFlexConfig = pathlib.Path.cwd()  / 'config' / 'flexConfig.yaml'\n",
    "with open(pathFlexConfig) as ipf:\n",
    "    flexConfig = yaml.load(ipf, Loader=yaml.SafeLoader)\n",
    "    \n",
    "    \n",
    "# Set reference dataset \n",
    "datasetID = 'MiD17'\n",
    "\n",
    "# Modify the localPathConfig file to point to the .csv file in the sampling folder in the tutorials directory where the dataset for the tutorials lies.\n",
    "localPathConfig['pathAbsolute'][datasetID] = pathlib.Path.cwd() / 'tutorials' / 'data_sampling'\n",
    "\n",
    "# Assign to vencoPyRoot the folder in which you cloned your repository\n",
    "localPathConfig['pathAbsolute']['vencoPyRoot'] = pathlib.Path.cwd()\n",
    "\n",
    "# Similarly we modify the datasetID in the global config file\n",
    "globalConfig['files'][datasetID]['tripsDataRaw'] = datasetID + '.csv'\n",
    "\n",
    "# We also modify the parseConfig by removing some of the columns that are normally parsed from the MiD, which are not available in our semplified test dataframe\n",
    "del parseConfig['dataVariables']['hhID'] \n",
    "del parseConfig['dataVariables']['personID'] "
   ]
  },
  {
   "cell_type": "markdown",
   "metadata": {},
   "source": [
    "## FlexEstimator config file"
   ]
  },
  {
   "cell_type": "markdown",
   "metadata": {},
   "source": [
    "The FlexEstimator config file (empty currently)"
   ]
  },
  {
   "cell_type": "code",
   "execution_count": null,
   "metadata": {},
   "outputs": [],
   "source": [
    "yaml.dump(flexConfig, sys.stdout)"
   ]
  },
  {
   "cell_type": "code",
   "execution_count": null,
   "metadata": {},
   "outputs": [],
   "source": []
  },
  {
   "cell_type": "markdown",
   "metadata": {},
   "source": [
    "## _FlexEstimator_ class"
   ]
  },
  {
   "cell_type": "markdown",
   "metadata": {},
   "source": [
    "To use the FlexEstimator class, we first need to run the DataParses as this is an argument to the FlexEstimator class."
   ]
  },
  {
   "cell_type": "code",
   "execution_count": null,
   "metadata": {},
   "outputs": [],
   "source": [
    "vpData = DataParser(datasetID=datasetID, parseConfig=parseConfig, globalConfig=globalConfig, localPathConfig=localPathConfig, loadEncrypted=False)"
   ]
  },
  {
   "cell_type": "code",
   "execution_count": null,
   "metadata": {},
   "outputs": [],
   "source": []
  },
  {
   "cell_type": "code",
   "execution_count": null,
   "metadata": {},
   "outputs": [],
   "source": [
    "# Estimate charging flexibility based on driving profiles and charge connection\n",
    "vpFlex = FlexEstimator(flexConfig=flexConfig, globalConfig=globalConfig, evaluatorConfig=evaluatorConfig, datasetID=datasetID, ParseData=vpData)\n",
    "vpFlex.baseProfileCalculation()\n",
    "vpFlex.filter()\n",
    "vpFlex.aggregate()\n",
    "vpFlex.correct()\n",
    "vpFlex.normalize()\n",
    "vpFlex.writeOut()"
   ]
  },
  {
   "cell_type": "markdown",
   "metadata": {},
   "source": []
  },
  {
   "cell_type": "code",
   "execution_count": null,
   "metadata": {},
   "outputs": [],
   "source": []
  },
  {
   "cell_type": "code",
   "execution_count": null,
   "metadata": {},
   "outputs": [],
   "source": []
  },
  {
   "cell_type": "markdown",
   "metadata": {},
   "source": []
  },
  {
   "cell_type": "code",
   "execution_count": null,
   "metadata": {},
   "outputs": [],
   "source": []
  },
  {
   "cell_type": "markdown",
   "metadata": {},
   "source": [
    "## Next Steps"
   ]
  },
  {
   "cell_type": "markdown",
   "metadata": {},
   "source": [
    "There will be more upcoming tutorials! :)"
   ]
  }
 ],
 "metadata": {
  "kernelspec": {
   "display_name": "Python 3",
   "language": "python",
   "name": "python3"
  },
  "language_info": {
   "codemirror_mode": {
    "name": "ipython",
    "version": 3
   },
   "file_extension": ".py",
   "mimetype": "text/x-python",
   "name": "python",
   "nbconvert_exporter": "python",
   "pygments_lexer": "ipython3",
   "version": "3.6.12"
  }
 },
 "nbformat": 4,
 "nbformat_minor": 4
}
