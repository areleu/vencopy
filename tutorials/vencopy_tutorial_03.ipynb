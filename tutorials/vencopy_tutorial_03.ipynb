{
 "cells": [
  {
   "cell_type": "markdown",
   "metadata": {},
   "source": [
    "# VencoPy Tutorial 4"
   ]
  },
  {
   "cell_type": "markdown",
   "metadata": {},
   "source": [
    "This tutorial aims to give a more in depth overview into the GridModeler class and showcases some features that can be customised."
   ]
  },
  {
   "cell_type": "code",
   "execution_count": 45,
   "metadata": {},
   "outputs": [],
   "source": [
    "import pandas as pd\n",
    "\n",
    "from pathlib import Path\n",
    "from typing import Union\n",
    "\n",
    "from vencopy.core.dataparsers import parse_data\n",
    "from vencopy.core.flexestimators import FlexEstimator\n",
    "from vencopy.core.gridmodellers import GridModeller\n",
    "from vencopy.core.diarybuilders import DiaryBuilder\n",
    "from vencopy.core.profileaggregators import ProfileAggregator\n",
    "from vencopy.utils.utils import create_file_name, write_out,load_configs, create_output_folders"
   ]
  },
  {
   "cell_type": "code",
   "execution_count": 46,
   "metadata": {},
   "outputs": [],
   "source": [
    "basePath = Path.cwd().parent /'vencopy'\n",
    "configs = load_configs(basePath)\n",
    "create_output_folders(configs=configs)\n",
    "\n",
    "# Adapt relative paths in config for tutorials\n",
    "configs['dev_config']['global']['relative_path']['parse_output'] = Path.cwd() / configs['dev_config']['global']['relative_path']['parse_output']\n",
    "configs['dev_config']['global']['relative_path']['diary_output'] = Path.cwd() / configs['dev_config']['global']['relative_path']['diary_output']\n",
    "configs['dev_config']['global']['relative_path']['grid_output'] = Path.cwd()/ configs['dev_config']['global']['relative_path']['grid_output']\n",
    "configs['dev_config']['global']['relative_path']['flex_output'] = Path.cwd() / configs['dev_config']['global']['relative_path']['flex_output']\n",
    "configs['dev_config']['global']['relative_path']['aggregator_output'] = Path.cwd().parent / configs['dev_config']['global']['relative_path']['aggregator_output']\n",
    "configs['dev_config']['global']['relative_path']['processor_output'] = Path.cwd() / configs['dev_config']['global']['relative_path']['processor_output']\n",
    "\n",
    "# Set reference dataset\n",
    "datasetID = 'MiD17'\n",
    "\n",
    "# Modify the localPathConfig file to point to the .csv file in the sampling folder in the tutorials directory where the dataset for the tutorials lies.\n",
    "configs[\"user_config\"][\"global\"][\"absolute_path\"][\"vencopy_root\"] = Path.cwd()\n",
    "configs['user_config']['global']['absolute_path'][datasetID] = Path.cwd() /'data_sampling'\n",
    "\n",
    "# Similarly we modify the datasetID in the global config file\n",
    "configs['dev_config']['global']['files'][datasetID]['trips_data_raw'] = datasetID + '.csv'\n",
    "\n",
    "\n",
    "# We also modify the parseConfig by removing some of the columns that are normally parsed from the MiD, which are not available in our semplified test dataframe\n",
    "del configs['dev_config']['dataparsers']['data_variables']['household_id']\n",
    "del configs['dev_config']['dataparsers']['data_variables']['person_id']\n"
   ]
  },
  {
   "cell_type": "markdown",
   "metadata": {},
   "source": [
    "## GridModeler config file"
   ]
  },
  {
   "cell_type": "markdown",
   "metadata": {},
   "source": [
    "Let's print the GridModeler config file."
   ]
  },
  {
   "cell_type": "code",
   "execution_count": 47,
   "metadata": {},
   "outputs": [
    {
     "data": {
      "text/plain": [
       "{'minimum_parking_time': 900,\n",
       " 'grid_model': 'simple',\n",
       " 'losses': True,\n",
       " 'force_last_trip_home': True,\n",
       " 'rated_power_simple': 11,\n",
       " 'charging_infrastructure_mappings': {'DRIVING': False,\n",
       "  'HOME': True,\n",
       "  'WORK': True,\n",
       "  'SCHOOL': False,\n",
       "  'SHOPPING': True,\n",
       "  'LEISURE': True,\n",
       "  'OTHER': False,\n",
       "  'NA': False,\n",
       "  'PEOPLE_MOBILITY': False,\n",
       "  'TRANSPORT': False,\n",
       "  'SERVICES': False},\n",
       " 'grid_availability_distribution': {'DRIVING': {0: 1},\n",
       "  'HOME': {3.6: 0.2, 11: 0.2, 22: 0, 0: 0.6},\n",
       "  'WORK': {11: 0.2, 22: 0.2, 0: 0.6},\n",
       "  'SCHOOL': {11: 0, 22: 0, 0: 1},\n",
       "  'SHOPPING': {11: 0.2, 22: 0.2, 0: 0.6},\n",
       "  'LEISURE': {11: 0.2, 22: 0.2, 0: 0.6},\n",
       "  'OTHER': {11: 0.2, 22: 0.2, 0: 0.6},\n",
       "  '0.0': {0: 1},\n",
       "  'PEOPLE_MOBILITY': {11: 0.2, 22: 0.2, 0: 0.6},\n",
       "  'TRANSPORT': {11: 0.2, 22: 0.2, 0: 0.6},\n",
       "  'SERVICES': {11: 0.2, 22: 0.2, 0: 0.6}},\n",
       " 'loss_factor': {'rated_power_0': 0,\n",
       "  'rated_power_3.6': 0.1,\n",
       "  'rated_power_11': 0.1,\n",
       "  'rated_power_22': 0.1,\n",
       "  'rated_power_50': 0.2}}"
      ]
     },
     "execution_count": 47,
     "metadata": {},
     "output_type": "execute_result"
    }
   ],
   "source": [
    "configs['user_config']['gridmodellers']"
   ]
  },
  {
   "cell_type": "markdown",
   "metadata": {},
   "source": [
    "As we can see the GridModeler config file contains two keys: chargingInfrastructureMappings and chargingInfrastructureDistributions. The first one basically sets for which trip purpose the infrastructure availability should be considered, the second one specifies the probabilities given for each location (trip purpose) and the respective charging power."
   ]
  },
  {
   "cell_type": "markdown",
   "metadata": {},
   "source": [
    "## _GridModeler_ class"
   ]
  },
  {
   "cell_type": "markdown",
   "metadata": {},
   "source": [
    "The charging infrastructure allocation makes use of a basic charging infrastructure model, which assumes the availability of charging stations when vehicles are parked. Since the analytical focus of the framework lies on a regional level (NUTS1-NUTS0), the infrastructure model is kept simple in the current version.\n",
    "\n",
    "Charging availability is allocated based on a binary True–False mapping to a respective trip purpose in the VencoPy-config. Thus, different scenarios describing different charging availability scenarios, e.g., at home or at home and at work etc. can be distinguished, but neither a regional differentiation nor a charging availability probability or distribution are assumed.\n",
    "\n",
    "At the end of the execution of the GridModeler class, a given parking purpose diary parkingType(v,t) is transferred into a binary grid connection diary connectgrid(v,t) with the same format but consisting only of True–False values."
   ]
  },
  {
   "cell_type": "code",
   "execution_count": 48,
   "metadata": {},
   "outputs": [
    {
     "name": "stdout",
     "output_type": "stream",
     "text": [
      "Generic file parsing properties set up.\n",
      "Starting to retrieve local data file from c:\\Users\\jagm_li\\Documents\\vencopy_internal\\vencopy\\tutorials\\data_sampling\\MiD17.csv.\n",
      "Finished loading 2124 rows of raw data of type .csv.\n",
      "Running in debug mode.\n",
      "Finished harmonization of variables.\n",
      "Finished harmonization of ID variables.\n",
      "Starting filtering, applying 8 filters.\n",
      "All filters combined yielded that a total of 857 trips are taken into account.\n",
      "This corresponds to 40.34839924670433 percent of the original data.\n",
      "Completed park timestamp adjustments.\n",
      "From 11791.33 km total mileage in the dataset after filtering, 0.0 % were cropped because they corresponded to split-trips from overnight trips.\n",
      "Finished activity composition with 857 trips and 854 parking activites.\n",
      "Parsing MiD dataset completed.\n"
     ]
    }
   ],
   "source": [
    "# Run the first two classes to generate data\n",
    "\n",
    "data = parse_data(configs=configs)\n",
    "data= data.process()"
   ]
  },
  {
   "cell_type": "code",
   "execution_count": 49,
   "metadata": {},
   "outputs": [
    {
     "name": "stdout",
     "output_type": "stream",
     "text": [
      "Starting with charge connection replacement of location purposes.\n",
      "Grid connection assignment complete.\n"
     ]
    }
   ],
   "source": [
    "grid = GridModeller(configs=configs, activities=data)\n",
    "grid.assign_grid()"
   ]
  },
  {
   "cell_type": "code",
   "execution_count": 50,
   "metadata": {},
   "outputs": [
    {
     "name": "stdout",
     "output_type": "stream",
     "text": [
      "Starting maximum battery level calculation.\n",
      "Calculating maximum battery level for first activities.\n",
      "Calculating maximum battery level for act 1.\n",
      "Calculating maximum battery level for act 2.\n"
     ]
    },
    {
     "name": "stderr",
     "output_type": "stream",
     "text": [
      "C:\\Users\\jagm_li\\Documents\\vencopy_internal\\vencopy\\vencopy\\core\\flexestimators.py:244: FutureWarning: In a future version, `df.iloc[:, i] = newvals` will attempt to set the values inplace instead of always setting a new array. To retain the old behavior, use either `df[df.columns[i]] = newvals` or, if columns are non-unique, `df.isetitem(i, newvals)`\n",
      "  first_park_activities.loc[:, \"max_battery_level_end_unlimited\"] = (\n",
      "C:\\Users\\jagm_li\\Documents\\vencopy_internal\\vencopy\\vencopy\\core\\flexestimators.py:247: FutureWarning: In a future version, `df.iloc[:, i] = newvals` will attempt to set the values inplace instead of always setting a new array. To retain the old behavior, use either `df[df.columns[i]] = newvals` or, if columns are non-unique, `df.isetitem(i, newvals)`\n",
      "  first_park_activities.loc[:, \"max_battery_level_end\"] = first_park_activities.loc[:,\n",
      "C:\\Users\\jagm_li\\Documents\\vencopy_internal\\vencopy\\vencopy\\core\\flexestimators.py:253: FutureWarning: In a future version, `df.iloc[:, i] = newvals` will attempt to set the values inplace instead of always setting a new array. To retain the old behavior, use either `df[df.columns[i]] = newvals` or, if columns are non-unique, `df.isetitem(i, newvals)`\n",
      "  first_park_activities.loc[:, \"max_overshoot\"] = (\n",
      "C:\\Users\\jagm_li\\Documents\\vencopy_internal\\vencopy\\vencopy\\core\\flexestimators.py:261: FutureWarning: In a future version, `df.iloc[:, i] = newvals` will attempt to set the values inplace instead of always setting a new array. To retain the old behavior, use either `df[df.columns[i]] = newvals` or, if columns are non-unique, `df.isetitem(i, newvals)`\n",
      "  first_trip_activities.loc[:, \"max_battery_level_end_unlimited\"] = (\n",
      "C:\\Users\\jagm_li\\Documents\\vencopy_internal\\vencopy\\vencopy\\core\\flexestimators.py:264: FutureWarning: In a future version, `df.iloc[:, i] = newvals` will attempt to set the values inplace instead of always setting a new array. To retain the old behavior, use either `df[df.columns[i]] = newvals` or, if columns are non-unique, `df.isetitem(i, newvals)`\n",
      "  first_trip_activities.loc[:, \"max_battery_level_end\"] = first_trip_activities.loc[:,\n",
      "C:\\Users\\jagm_li\\Documents\\vencopy_internal\\vencopy\\vencopy\\core\\flexestimators.py:274: FutureWarning: In a future version, `df.iloc[:, i] = newvals` will attempt to set the values inplace instead of always setting a new array. To retain the old behavior, use either `df[df.columns[i]] = newvals` or, if columns are non-unique, `df.isetitem(i, newvals)`\n",
      "  first_trip_activities.loc[:, \"max_residual_need\"] = res.where(\n",
      "C:\\Users\\jagm_li\\Documents\\vencopy_internal\\vencopy\\vencopy\\core\\flexestimators.py:443: FutureWarning: In a future version, `df.iloc[:, i] = newvals` will attempt to set the values inplace instead of always setting a new array. To retain the old behavior, use either `df[df.columns[i]] = newvals` or, if columns are non-unique, `df.isetitem(i, newvals)`\n",
      "  indeces_park_activities.loc[multi_index_park, \"max_battery_level_start\"] = indeces_previous_trip_activities.loc[\n",
      "C:\\Users\\jagm_li\\Documents\\vencopy_internal\\vencopy\\vencopy\\core\\flexestimators.py:450: FutureWarning: In a future version, `df.iloc[:, i] = newvals` will attempt to set the values inplace instead of always setting a new array. To retain the old behavior, use either `df[df.columns[i]] = newvals` or, if columns are non-unique, `df.isetitem(i, newvals)`\n",
      "  indeces_park_activities.loc[multi_index_park, \"max_battery_level_end\"] = indeces_park_activities[\n",
      "C:\\Users\\jagm_li\\Documents\\vencopy_internal\\vencopy\\vencopy\\core\\flexestimators.py:343: FutureWarning: In a future version, `df.iloc[:, i] = newvals` will attempt to set the values inplace instead of always setting a new array. To retain the old behavior, use either `df[df.columns[i]] = newvals` or, if columns are non-unique, `df.isetitem(i, newvals)`\n",
      "  indeces_trip_activities.loc[multi_index_trip, \"max_battery_level_start\"] = indeces_previous_park_activities.loc[\n",
      "C:\\Users\\jagm_li\\Documents\\vencopy_internal\\vencopy\\vencopy\\core\\flexestimators.py:346: FutureWarning: In a future version, `df.iloc[:, i] = newvals` will attempt to set the values inplace instead of always setting a new array. To retain the old behavior, use either `df[df.columns[i]] = newvals` or, if columns are non-unique, `df.isetitem(i, newvals)`\n",
      "  indeces_trip_activities.loc[multi_index_trip, \"max_battery_level_end_unlimited\"] = (\n",
      "C:\\Users\\jagm_li\\Documents\\vencopy_internal\\vencopy\\vencopy\\core\\flexestimators.py:350: FutureWarning: In a future version, `df.iloc[:, i] = newvals` will attempt to set the values inplace instead of always setting a new array. To retain the old behavior, use either `df[df.columns[i]] = newvals` or, if columns are non-unique, `df.isetitem(i, newvals)`\n",
      "  indeces_trip_activities.loc[multi_index_trip, \"max_battery_level_end\"] = indeces_trip_activities.loc[\n",
      "C:\\Users\\jagm_li\\Documents\\vencopy_internal\\vencopy\\vencopy\\core\\flexestimators.py:361: FutureWarning: In a future version, `df.iloc[:, i] = newvals` will attempt to set the values inplace instead of always setting a new array. To retain the old behavior, use either `df[df.columns[i]] = newvals` or, if columns are non-unique, `df.isetitem(i, newvals)`\n",
      "  indeces_trip_activities.loc[multi_index_trip, \"max_residual_need\"] = res.where(\n",
      "C:\\Users\\jagm_li\\Documents\\vencopy_internal\\vencopy\\vencopy\\core\\flexestimators.py:443: FutureWarning: In a future version, `df.iloc[:, i] = newvals` will attempt to set the values inplace instead of always setting a new array. To retain the old behavior, use either `df[df.columns[i]] = newvals` or, if columns are non-unique, `df.isetitem(i, newvals)`\n",
      "  indeces_park_activities.loc[multi_index_park, \"max_battery_level_start\"] = indeces_previous_trip_activities.loc[\n",
      "C:\\Users\\jagm_li\\Documents\\vencopy_internal\\vencopy\\vencopy\\core\\flexestimators.py:450: FutureWarning: In a future version, `df.iloc[:, i] = newvals` will attempt to set the values inplace instead of always setting a new array. To retain the old behavior, use either `df[df.columns[i]] = newvals` or, if columns are non-unique, `df.isetitem(i, newvals)`\n",
      "  indeces_park_activities.loc[multi_index_park, \"max_battery_level_end\"] = indeces_park_activities[\n"
     ]
    },
    {
     "name": "stdout",
     "output_type": "stream",
     "text": [
      "Calculating maximum battery level for act 3.\n",
      "Calculating maximum battery level for act 4.\n"
     ]
    },
    {
     "name": "stderr",
     "output_type": "stream",
     "text": [
      "C:\\Users\\jagm_li\\Documents\\vencopy_internal\\vencopy\\vencopy\\core\\flexestimators.py:343: FutureWarning: In a future version, `df.iloc[:, i] = newvals` will attempt to set the values inplace instead of always setting a new array. To retain the old behavior, use either `df[df.columns[i]] = newvals` or, if columns are non-unique, `df.isetitem(i, newvals)`\n",
      "  indeces_trip_activities.loc[multi_index_trip, \"max_battery_level_start\"] = indeces_previous_park_activities.loc[\n",
      "C:\\Users\\jagm_li\\Documents\\vencopy_internal\\vencopy\\vencopy\\core\\flexestimators.py:346: FutureWarning: In a future version, `df.iloc[:, i] = newvals` will attempt to set the values inplace instead of always setting a new array. To retain the old behavior, use either `df[df.columns[i]] = newvals` or, if columns are non-unique, `df.isetitem(i, newvals)`\n",
      "  indeces_trip_activities.loc[multi_index_trip, \"max_battery_level_end_unlimited\"] = (\n",
      "C:\\Users\\jagm_li\\Documents\\vencopy_internal\\vencopy\\vencopy\\core\\flexestimators.py:350: FutureWarning: In a future version, `df.iloc[:, i] = newvals` will attempt to set the values inplace instead of always setting a new array. To retain the old behavior, use either `df[df.columns[i]] = newvals` or, if columns are non-unique, `df.isetitem(i, newvals)`\n",
      "  indeces_trip_activities.loc[multi_index_trip, \"max_battery_level_end\"] = indeces_trip_activities.loc[\n",
      "C:\\Users\\jagm_li\\Documents\\vencopy_internal\\vencopy\\vencopy\\core\\flexestimators.py:361: FutureWarning: In a future version, `df.iloc[:, i] = newvals` will attempt to set the values inplace instead of always setting a new array. To retain the old behavior, use either `df[df.columns[i]] = newvals` or, if columns are non-unique, `df.isetitem(i, newvals)`\n",
      "  indeces_trip_activities.loc[multi_index_trip, \"max_residual_need\"] = res.where(\n",
      "C:\\Users\\jagm_li\\Documents\\vencopy_internal\\vencopy\\vencopy\\core\\flexestimators.py:443: FutureWarning: In a future version, `df.iloc[:, i] = newvals` will attempt to set the values inplace instead of always setting a new array. To retain the old behavior, use either `df[df.columns[i]] = newvals` or, if columns are non-unique, `df.isetitem(i, newvals)`\n",
      "  indeces_park_activities.loc[multi_index_park, \"max_battery_level_start\"] = indeces_previous_trip_activities.loc[\n",
      "C:\\Users\\jagm_li\\Documents\\vencopy_internal\\vencopy\\vencopy\\core\\flexestimators.py:450: FutureWarning: In a future version, `df.iloc[:, i] = newvals` will attempt to set the values inplace instead of always setting a new array. To retain the old behavior, use either `df[df.columns[i]] = newvals` or, if columns are non-unique, `df.isetitem(i, newvals)`\n",
      "  indeces_park_activities.loc[multi_index_park, \"max_battery_level_end\"] = indeces_park_activities[\n",
      "C:\\Users\\jagm_li\\Documents\\vencopy_internal\\vencopy\\vencopy\\core\\flexestimators.py:343: FutureWarning: In a future version, `df.iloc[:, i] = newvals` will attempt to set the values inplace instead of always setting a new array. To retain the old behavior, use either `df[df.columns[i]] = newvals` or, if columns are non-unique, `df.isetitem(i, newvals)`\n",
      "  indeces_trip_activities.loc[multi_index_trip, \"max_battery_level_start\"] = indeces_previous_park_activities.loc[\n",
      "C:\\Users\\jagm_li\\Documents\\vencopy_internal\\vencopy\\vencopy\\core\\flexestimators.py:346: FutureWarning: In a future version, `df.iloc[:, i] = newvals` will attempt to set the values inplace instead of always setting a new array. To retain the old behavior, use either `df[df.columns[i]] = newvals` or, if columns are non-unique, `df.isetitem(i, newvals)`\n",
      "  indeces_trip_activities.loc[multi_index_trip, \"max_battery_level_end_unlimited\"] = (\n",
      "C:\\Users\\jagm_li\\Documents\\vencopy_internal\\vencopy\\vencopy\\core\\flexestimators.py:350: FutureWarning: In a future version, `df.iloc[:, i] = newvals` will attempt to set the values inplace instead of always setting a new array. To retain the old behavior, use either `df[df.columns[i]] = newvals` or, if columns are non-unique, `df.isetitem(i, newvals)`\n",
      "  indeces_trip_activities.loc[multi_index_trip, \"max_battery_level_end\"] = indeces_trip_activities.loc[\n",
      "C:\\Users\\jagm_li\\Documents\\vencopy_internal\\vencopy\\vencopy\\core\\flexestimators.py:361: FutureWarning: In a future version, `df.iloc[:, i] = newvals` will attempt to set the values inplace instead of always setting a new array. To retain the old behavior, use either `df[df.columns[i]] = newvals` or, if columns are non-unique, `df.isetitem(i, newvals)`\n",
      "  indeces_trip_activities.loc[multi_index_trip, \"max_residual_need\"] = res.where(\n",
      "C:\\Users\\jagm_li\\Documents\\vencopy_internal\\vencopy\\vencopy\\core\\flexestimators.py:443: FutureWarning: In a future version, `df.iloc[:, i] = newvals` will attempt to set the values inplace instead of always setting a new array. To retain the old behavior, use either `df[df.columns[i]] = newvals` or, if columns are non-unique, `df.isetitem(i, newvals)`\n",
      "  indeces_park_activities.loc[multi_index_park, \"max_battery_level_start\"] = indeces_previous_trip_activities.loc[\n",
      "C:\\Users\\jagm_li\\Documents\\vencopy_internal\\vencopy\\vencopy\\core\\flexestimators.py:450: FutureWarning: In a future version, `df.iloc[:, i] = newvals` will attempt to set the values inplace instead of always setting a new array. To retain the old behavior, use either `df[df.columns[i]] = newvals` or, if columns are non-unique, `df.isetitem(i, newvals)`\n",
      "  indeces_park_activities.loc[multi_index_park, \"max_battery_level_end\"] = indeces_park_activities[\n",
      "C:\\Users\\jagm_li\\Documents\\vencopy_internal\\vencopy\\vencopy\\core\\flexestimators.py:343: FutureWarning: In a future version, `df.iloc[:, i] = newvals` will attempt to set the values inplace instead of always setting a new array. To retain the old behavior, use either `df[df.columns[i]] = newvals` or, if columns are non-unique, `df.isetitem(i, newvals)`\n",
      "  indeces_trip_activities.loc[multi_index_trip, \"max_battery_level_start\"] = indeces_previous_park_activities.loc[\n",
      "C:\\Users\\jagm_li\\Documents\\vencopy_internal\\vencopy\\vencopy\\core\\flexestimators.py:346: FutureWarning: In a future version, `df.iloc[:, i] = newvals` will attempt to set the values inplace instead of always setting a new array. To retain the old behavior, use either `df[df.columns[i]] = newvals` or, if columns are non-unique, `df.isetitem(i, newvals)`\n",
      "  indeces_trip_activities.loc[multi_index_trip, \"max_battery_level_end_unlimited\"] = (\n",
      "C:\\Users\\jagm_li\\Documents\\vencopy_internal\\vencopy\\vencopy\\core\\flexestimators.py:350: FutureWarning: In a future version, `df.iloc[:, i] = newvals` will attempt to set the values inplace instead of always setting a new array. To retain the old behavior, use either `df[df.columns[i]] = newvals` or, if columns are non-unique, `df.isetitem(i, newvals)`\n",
      "  indeces_trip_activities.loc[multi_index_trip, \"max_battery_level_end\"] = indeces_trip_activities.loc[\n",
      "C:\\Users\\jagm_li\\Documents\\vencopy_internal\\vencopy\\vencopy\\core\\flexestimators.py:361: FutureWarning: In a future version, `df.iloc[:, i] = newvals` will attempt to set the values inplace instead of always setting a new array. To retain the old behavior, use either `df[df.columns[i]] = newvals` or, if columns are non-unique, `df.isetitem(i, newvals)`\n",
      "  indeces_trip_activities.loc[multi_index_trip, \"max_residual_need\"] = res.where(\n"
     ]
    },
    {
     "name": "stdout",
     "output_type": "stream",
     "text": [
      "Calculating maximum battery level for act 5.\n"
     ]
    },
    {
     "name": "stderr",
     "output_type": "stream",
     "text": [
      "C:\\Users\\jagm_li\\Documents\\vencopy_internal\\vencopy\\vencopy\\core\\flexestimators.py:443: FutureWarning: In a future version, `df.iloc[:, i] = newvals` will attempt to set the values inplace instead of always setting a new array. To retain the old behavior, use either `df[df.columns[i]] = newvals` or, if columns are non-unique, `df.isetitem(i, newvals)`\n",
      "  indeces_park_activities.loc[multi_index_park, \"max_battery_level_start\"] = indeces_previous_trip_activities.loc[\n",
      "C:\\Users\\jagm_li\\Documents\\vencopy_internal\\vencopy\\vencopy\\core\\flexestimators.py:450: FutureWarning: In a future version, `df.iloc[:, i] = newvals` will attempt to set the values inplace instead of always setting a new array. To retain the old behavior, use either `df[df.columns[i]] = newvals` or, if columns are non-unique, `df.isetitem(i, newvals)`\n",
      "  indeces_park_activities.loc[multi_index_park, \"max_battery_level_end\"] = indeces_park_activities[\n",
      "C:\\Users\\jagm_li\\Documents\\vencopy_internal\\vencopy\\vencopy\\core\\flexestimators.py:343: FutureWarning: In a future version, `df.iloc[:, i] = newvals` will attempt to set the values inplace instead of always setting a new array. To retain the old behavior, use either `df[df.columns[i]] = newvals` or, if columns are non-unique, `df.isetitem(i, newvals)`\n",
      "  indeces_trip_activities.loc[multi_index_trip, \"max_battery_level_start\"] = indeces_previous_park_activities.loc[\n",
      "C:\\Users\\jagm_li\\Documents\\vencopy_internal\\vencopy\\vencopy\\core\\flexestimators.py:346: FutureWarning: In a future version, `df.iloc[:, i] = newvals` will attempt to set the values inplace instead of always setting a new array. To retain the old behavior, use either `df[df.columns[i]] = newvals` or, if columns are non-unique, `df.isetitem(i, newvals)`\n",
      "  indeces_trip_activities.loc[multi_index_trip, \"max_battery_level_end_unlimited\"] = (\n",
      "C:\\Users\\jagm_li\\Documents\\vencopy_internal\\vencopy\\vencopy\\core\\flexestimators.py:350: FutureWarning: In a future version, `df.iloc[:, i] = newvals` will attempt to set the values inplace instead of always setting a new array. To retain the old behavior, use either `df[df.columns[i]] = newvals` or, if columns are non-unique, `df.isetitem(i, newvals)`\n",
      "  indeces_trip_activities.loc[multi_index_trip, \"max_battery_level_end\"] = indeces_trip_activities.loc[\n",
      "C:\\Users\\jagm_li\\Documents\\vencopy_internal\\vencopy\\vencopy\\core\\flexestimators.py:361: FutureWarning: In a future version, `df.iloc[:, i] = newvals` will attempt to set the values inplace instead of always setting a new array. To retain the old behavior, use either `df[df.columns[i]] = newvals` or, if columns are non-unique, `df.isetitem(i, newvals)`\n",
      "  indeces_trip_activities.loc[multi_index_trip, \"max_residual_need\"] = res.where(\n",
      "C:\\Users\\jagm_li\\Documents\\vencopy_internal\\vencopy\\vencopy\\core\\flexestimators.py:443: FutureWarning: In a future version, `df.iloc[:, i] = newvals` will attempt to set the values inplace instead of always setting a new array. To retain the old behavior, use either `df[df.columns[i]] = newvals` or, if columns are non-unique, `df.isetitem(i, newvals)`\n",
      "  indeces_park_activities.loc[multi_index_park, \"max_battery_level_start\"] = indeces_previous_trip_activities.loc[\n",
      "C:\\Users\\jagm_li\\Documents\\vencopy_internal\\vencopy\\vencopy\\core\\flexestimators.py:450: FutureWarning: In a future version, `df.iloc[:, i] = newvals` will attempt to set the values inplace instead of always setting a new array. To retain the old behavior, use either `df[df.columns[i]] = newvals` or, if columns are non-unique, `df.isetitem(i, newvals)`\n",
      "  indeces_park_activities.loc[multi_index_park, \"max_battery_level_end\"] = indeces_park_activities[\n",
      "C:\\Users\\jagm_li\\Documents\\vencopy_internal\\vencopy\\vencopy\\core\\flexestimators.py:343: FutureWarning: In a future version, `df.iloc[:, i] = newvals` will attempt to set the values inplace instead of always setting a new array. To retain the old behavior, use either `df[df.columns[i]] = newvals` or, if columns are non-unique, `df.isetitem(i, newvals)`\n",
      "  indeces_trip_activities.loc[multi_index_trip, \"max_battery_level_start\"] = indeces_previous_park_activities.loc[\n",
      "C:\\Users\\jagm_li\\Documents\\vencopy_internal\\vencopy\\vencopy\\core\\flexestimators.py:346: FutureWarning: In a future version, `df.iloc[:, i] = newvals` will attempt to set the values inplace instead of always setting a new array. To retain the old behavior, use either `df[df.columns[i]] = newvals` or, if columns are non-unique, `df.isetitem(i, newvals)`\n",
      "  indeces_trip_activities.loc[multi_index_trip, \"max_battery_level_end_unlimited\"] = (\n",
      "C:\\Users\\jagm_li\\Documents\\vencopy_internal\\vencopy\\vencopy\\core\\flexestimators.py:350: FutureWarning: In a future version, `df.iloc[:, i] = newvals` will attempt to set the values inplace instead of always setting a new array. To retain the old behavior, use either `df[df.columns[i]] = newvals` or, if columns are non-unique, `df.isetitem(i, newvals)`\n",
      "  indeces_trip_activities.loc[multi_index_trip, \"max_battery_level_end\"] = indeces_trip_activities.loc[\n",
      "C:\\Users\\jagm_li\\Documents\\vencopy_internal\\vencopy\\vencopy\\core\\flexestimators.py:361: FutureWarning: In a future version, `df.iloc[:, i] = newvals` will attempt to set the values inplace instead of always setting a new array. To retain the old behavior, use either `df[df.columns[i]] = newvals` or, if columns are non-unique, `df.isetitem(i, newvals)`\n",
      "  indeces_trip_activities.loc[multi_index_trip, \"max_residual_need\"] = res.where(\n",
      "C:\\Users\\jagm_li\\Documents\\vencopy_internal\\vencopy\\vencopy\\core\\flexestimators.py:443: FutureWarning: In a future version, `df.iloc[:, i] = newvals` will attempt to set the values inplace instead of always setting a new array. To retain the old behavior, use either `df[df.columns[i]] = newvals` or, if columns are non-unique, `df.isetitem(i, newvals)`\n",
      "  indeces_park_activities.loc[multi_index_park, \"max_battery_level_start\"] = indeces_previous_trip_activities.loc[\n",
      "C:\\Users\\jagm_li\\Documents\\vencopy_internal\\vencopy\\vencopy\\core\\flexestimators.py:450: FutureWarning: In a future version, `df.iloc[:, i] = newvals` will attempt to set the values inplace instead of always setting a new array. To retain the old behavior, use either `df[df.columns[i]] = newvals` or, if columns are non-unique, `df.isetitem(i, newvals)`\n",
      "  indeces_park_activities.loc[multi_index_park, \"max_battery_level_end\"] = indeces_park_activities[\n",
      "C:\\Users\\jagm_li\\Documents\\vencopy_internal\\vencopy\\vencopy\\core\\flexestimators.py:343: FutureWarning: In a future version, `df.iloc[:, i] = newvals` will attempt to set the values inplace instead of always setting a new array. To retain the old behavior, use either `df[df.columns[i]] = newvals` or, if columns are non-unique, `df.isetitem(i, newvals)`\n",
      "  indeces_trip_activities.loc[multi_index_trip, \"max_battery_level_start\"] = indeces_previous_park_activities.loc[\n",
      "C:\\Users\\jagm_li\\Documents\\vencopy_internal\\vencopy\\vencopy\\core\\flexestimators.py:346: FutureWarning: In a future version, `df.iloc[:, i] = newvals` will attempt to set the values inplace instead of always setting a new array. To retain the old behavior, use either `df[df.columns[i]] = newvals` or, if columns are non-unique, `df.isetitem(i, newvals)`\n",
      "  indeces_trip_activities.loc[multi_index_trip, \"max_battery_level_end_unlimited\"] = (\n",
      "C:\\Users\\jagm_li\\Documents\\vencopy_internal\\vencopy\\vencopy\\core\\flexestimators.py:350: FutureWarning: In a future version, `df.iloc[:, i] = newvals` will attempt to set the values inplace instead of always setting a new array. To retain the old behavior, use either `df[df.columns[i]] = newvals` or, if columns are non-unique, `df.isetitem(i, newvals)`\n",
      "  indeces_trip_activities.loc[multi_index_trip, \"max_battery_level_end\"] = indeces_trip_activities.loc[\n",
      "C:\\Users\\jagm_li\\Documents\\vencopy_internal\\vencopy\\vencopy\\core\\flexestimators.py:361: FutureWarning: In a future version, `df.iloc[:, i] = newvals` will attempt to set the values inplace instead of always setting a new array. To retain the old behavior, use either `df[df.columns[i]] = newvals` or, if columns are non-unique, `df.isetitem(i, newvals)`\n",
      "  indeces_trip_activities.loc[multi_index_trip, \"max_residual_need\"] = res.where(\n"
     ]
    },
    {
     "name": "stdout",
     "output_type": "stream",
     "text": [
      "Calculating maximum battery level for act 6.\n",
      "Calculating maximum battery level for act 7.\n",
      "Calculating maximum battery level for act 8.\n"
     ]
    },
    {
     "name": "stderr",
     "output_type": "stream",
     "text": [
      "C:\\Users\\jagm_li\\Documents\\vencopy_internal\\vencopy\\vencopy\\core\\flexestimators.py:443: FutureWarning: In a future version, `df.iloc[:, i] = newvals` will attempt to set the values inplace instead of always setting a new array. To retain the old behavior, use either `df[df.columns[i]] = newvals` or, if columns are non-unique, `df.isetitem(i, newvals)`\n",
      "  indeces_park_activities.loc[multi_index_park, \"max_battery_level_start\"] = indeces_previous_trip_activities.loc[\n",
      "C:\\Users\\jagm_li\\Documents\\vencopy_internal\\vencopy\\vencopy\\core\\flexestimators.py:450: FutureWarning: In a future version, `df.iloc[:, i] = newvals` will attempt to set the values inplace instead of always setting a new array. To retain the old behavior, use either `df[df.columns[i]] = newvals` or, if columns are non-unique, `df.isetitem(i, newvals)`\n",
      "  indeces_park_activities.loc[multi_index_park, \"max_battery_level_end\"] = indeces_park_activities[\n",
      "C:\\Users\\jagm_li\\Documents\\vencopy_internal\\vencopy\\vencopy\\core\\flexestimators.py:343: FutureWarning: In a future version, `df.iloc[:, i] = newvals` will attempt to set the values inplace instead of always setting a new array. To retain the old behavior, use either `df[df.columns[i]] = newvals` or, if columns are non-unique, `df.isetitem(i, newvals)`\n",
      "  indeces_trip_activities.loc[multi_index_trip, \"max_battery_level_start\"] = indeces_previous_park_activities.loc[\n",
      "C:\\Users\\jagm_li\\Documents\\vencopy_internal\\vencopy\\vencopy\\core\\flexestimators.py:346: FutureWarning: In a future version, `df.iloc[:, i] = newvals` will attempt to set the values inplace instead of always setting a new array. To retain the old behavior, use either `df[df.columns[i]] = newvals` or, if columns are non-unique, `df.isetitem(i, newvals)`\n",
      "  indeces_trip_activities.loc[multi_index_trip, \"max_battery_level_end_unlimited\"] = (\n",
      "C:\\Users\\jagm_li\\Documents\\vencopy_internal\\vencopy\\vencopy\\core\\flexestimators.py:350: FutureWarning: In a future version, `df.iloc[:, i] = newvals` will attempt to set the values inplace instead of always setting a new array. To retain the old behavior, use either `df[df.columns[i]] = newvals` or, if columns are non-unique, `df.isetitem(i, newvals)`\n",
      "  indeces_trip_activities.loc[multi_index_trip, \"max_battery_level_end\"] = indeces_trip_activities.loc[\n",
      "C:\\Users\\jagm_li\\Documents\\vencopy_internal\\vencopy\\vencopy\\core\\flexestimators.py:361: FutureWarning: In a future version, `df.iloc[:, i] = newvals` will attempt to set the values inplace instead of always setting a new array. To retain the old behavior, use either `df[df.columns[i]] = newvals` or, if columns are non-unique, `df.isetitem(i, newvals)`\n",
      "  indeces_trip_activities.loc[multi_index_trip, \"max_residual_need\"] = res.where(\n",
      "C:\\Users\\jagm_li\\Documents\\vencopy_internal\\vencopy\\vencopy\\core\\flexestimators.py:443: FutureWarning: In a future version, `df.iloc[:, i] = newvals` will attempt to set the values inplace instead of always setting a new array. To retain the old behavior, use either `df[df.columns[i]] = newvals` or, if columns are non-unique, `df.isetitem(i, newvals)`\n",
      "  indeces_park_activities.loc[multi_index_park, \"max_battery_level_start\"] = indeces_previous_trip_activities.loc[\n",
      "C:\\Users\\jagm_li\\Documents\\vencopy_internal\\vencopy\\vencopy\\core\\flexestimators.py:450: FutureWarning: In a future version, `df.iloc[:, i] = newvals` will attempt to set the values inplace instead of always setting a new array. To retain the old behavior, use either `df[df.columns[i]] = newvals` or, if columns are non-unique, `df.isetitem(i, newvals)`\n",
      "  indeces_park_activities.loc[multi_index_park, \"max_battery_level_end\"] = indeces_park_activities[\n",
      "C:\\Users\\jagm_li\\Documents\\vencopy_internal\\vencopy\\vencopy\\core\\flexestimators.py:343: FutureWarning: In a future version, `df.iloc[:, i] = newvals` will attempt to set the values inplace instead of always setting a new array. To retain the old behavior, use either `df[df.columns[i]] = newvals` or, if columns are non-unique, `df.isetitem(i, newvals)`\n",
      "  indeces_trip_activities.loc[multi_index_trip, \"max_battery_level_start\"] = indeces_previous_park_activities.loc[\n",
      "C:\\Users\\jagm_li\\Documents\\vencopy_internal\\vencopy\\vencopy\\core\\flexestimators.py:346: FutureWarning: In a future version, `df.iloc[:, i] = newvals` will attempt to set the values inplace instead of always setting a new array. To retain the old behavior, use either `df[df.columns[i]] = newvals` or, if columns are non-unique, `df.isetitem(i, newvals)`\n",
      "  indeces_trip_activities.loc[multi_index_trip, \"max_battery_level_end_unlimited\"] = (\n",
      "C:\\Users\\jagm_li\\Documents\\vencopy_internal\\vencopy\\vencopy\\core\\flexestimators.py:350: FutureWarning: In a future version, `df.iloc[:, i] = newvals` will attempt to set the values inplace instead of always setting a new array. To retain the old behavior, use either `df[df.columns[i]] = newvals` or, if columns are non-unique, `df.isetitem(i, newvals)`\n",
      "  indeces_trip_activities.loc[multi_index_trip, \"max_battery_level_end\"] = indeces_trip_activities.loc[\n",
      "C:\\Users\\jagm_li\\Documents\\vencopy_internal\\vencopy\\vencopy\\core\\flexestimators.py:361: FutureWarning: In a future version, `df.iloc[:, i] = newvals` will attempt to set the values inplace instead of always setting a new array. To retain the old behavior, use either `df[df.columns[i]] = newvals` or, if columns are non-unique, `df.isetitem(i, newvals)`\n",
      "  indeces_trip_activities.loc[multi_index_trip, \"max_residual_need\"] = res.where(\n",
      "C:\\Users\\jagm_li\\Documents\\vencopy_internal\\vencopy\\vencopy\\core\\flexestimators.py:443: FutureWarning: In a future version, `df.iloc[:, i] = newvals` will attempt to set the values inplace instead of always setting a new array. To retain the old behavior, use either `df[df.columns[i]] = newvals` or, if columns are non-unique, `df.isetitem(i, newvals)`\n",
      "  indeces_park_activities.loc[multi_index_park, \"max_battery_level_start\"] = indeces_previous_trip_activities.loc[\n",
      "C:\\Users\\jagm_li\\Documents\\vencopy_internal\\vencopy\\vencopy\\core\\flexestimators.py:450: FutureWarning: In a future version, `df.iloc[:, i] = newvals` will attempt to set the values inplace instead of always setting a new array. To retain the old behavior, use either `df[df.columns[i]] = newvals` or, if columns are non-unique, `df.isetitem(i, newvals)`\n",
      "  indeces_park_activities.loc[multi_index_park, \"max_battery_level_end\"] = indeces_park_activities[\n",
      "C:\\Users\\jagm_li\\Documents\\vencopy_internal\\vencopy\\vencopy\\core\\flexestimators.py:343: FutureWarning: In a future version, `df.iloc[:, i] = newvals` will attempt to set the values inplace instead of always setting a new array. To retain the old behavior, use either `df[df.columns[i]] = newvals` or, if columns are non-unique, `df.isetitem(i, newvals)`\n",
      "  indeces_trip_activities.loc[multi_index_trip, \"max_battery_level_start\"] = indeces_previous_park_activities.loc[\n",
      "C:\\Users\\jagm_li\\Documents\\vencopy_internal\\vencopy\\vencopy\\core\\flexestimators.py:346: FutureWarning: In a future version, `df.iloc[:, i] = newvals` will attempt to set the values inplace instead of always setting a new array. To retain the old behavior, use either `df[df.columns[i]] = newvals` or, if columns are non-unique, `df.isetitem(i, newvals)`\n",
      "  indeces_trip_activities.loc[multi_index_trip, \"max_battery_level_end_unlimited\"] = (\n",
      "C:\\Users\\jagm_li\\Documents\\vencopy_internal\\vencopy\\vencopy\\core\\flexestimators.py:350: FutureWarning: In a future version, `df.iloc[:, i] = newvals` will attempt to set the values inplace instead of always setting a new array. To retain the old behavior, use either `df[df.columns[i]] = newvals` or, if columns are non-unique, `df.isetitem(i, newvals)`\n",
      "  indeces_trip_activities.loc[multi_index_trip, \"max_battery_level_end\"] = indeces_trip_activities.loc[\n",
      "C:\\Users\\jagm_li\\Documents\\vencopy_internal\\vencopy\\vencopy\\core\\flexestimators.py:361: FutureWarning: In a future version, `df.iloc[:, i] = newvals` will attempt to set the values inplace instead of always setting a new array. To retain the old behavior, use either `df[df.columns[i]] = newvals` or, if columns are non-unique, `df.isetitem(i, newvals)`\n",
      "  indeces_trip_activities.loc[multi_index_trip, \"max_residual_need\"] = res.where(\n"
     ]
    },
    {
     "name": "stdout",
     "output_type": "stream",
     "text": [
      "Calculating maximum battery level for act 9.\n",
      "Calculating maximum battery level for act 10.\n",
      "Calculating maximum battery level for act 11.\n"
     ]
    },
    {
     "name": "stderr",
     "output_type": "stream",
     "text": [
      "C:\\Users\\jagm_li\\Documents\\vencopy_internal\\vencopy\\vencopy\\core\\flexestimators.py:443: FutureWarning: In a future version, `df.iloc[:, i] = newvals` will attempt to set the values inplace instead of always setting a new array. To retain the old behavior, use either `df[df.columns[i]] = newvals` or, if columns are non-unique, `df.isetitem(i, newvals)`\n",
      "  indeces_park_activities.loc[multi_index_park, \"max_battery_level_start\"] = indeces_previous_trip_activities.loc[\n",
      "C:\\Users\\jagm_li\\Documents\\vencopy_internal\\vencopy\\vencopy\\core\\flexestimators.py:450: FutureWarning: In a future version, `df.iloc[:, i] = newvals` will attempt to set the values inplace instead of always setting a new array. To retain the old behavior, use either `df[df.columns[i]] = newvals` or, if columns are non-unique, `df.isetitem(i, newvals)`\n",
      "  indeces_park_activities.loc[multi_index_park, \"max_battery_level_end\"] = indeces_park_activities[\n",
      "C:\\Users\\jagm_li\\Documents\\vencopy_internal\\vencopy\\vencopy\\core\\flexestimators.py:343: FutureWarning: In a future version, `df.iloc[:, i] = newvals` will attempt to set the values inplace instead of always setting a new array. To retain the old behavior, use either `df[df.columns[i]] = newvals` or, if columns are non-unique, `df.isetitem(i, newvals)`\n",
      "  indeces_trip_activities.loc[multi_index_trip, \"max_battery_level_start\"] = indeces_previous_park_activities.loc[\n",
      "C:\\Users\\jagm_li\\Documents\\vencopy_internal\\vencopy\\vencopy\\core\\flexestimators.py:346: FutureWarning: In a future version, `df.iloc[:, i] = newvals` will attempt to set the values inplace instead of always setting a new array. To retain the old behavior, use either `df[df.columns[i]] = newvals` or, if columns are non-unique, `df.isetitem(i, newvals)`\n",
      "  indeces_trip_activities.loc[multi_index_trip, \"max_battery_level_end_unlimited\"] = (\n",
      "C:\\Users\\jagm_li\\Documents\\vencopy_internal\\vencopy\\vencopy\\core\\flexestimators.py:350: FutureWarning: In a future version, `df.iloc[:, i] = newvals` will attempt to set the values inplace instead of always setting a new array. To retain the old behavior, use either `df[df.columns[i]] = newvals` or, if columns are non-unique, `df.isetitem(i, newvals)`\n",
      "  indeces_trip_activities.loc[multi_index_trip, \"max_battery_level_end\"] = indeces_trip_activities.loc[\n",
      "C:\\Users\\jagm_li\\Documents\\vencopy_internal\\vencopy\\vencopy\\core\\flexestimators.py:361: FutureWarning: In a future version, `df.iloc[:, i] = newvals` will attempt to set the values inplace instead of always setting a new array. To retain the old behavior, use either `df[df.columns[i]] = newvals` or, if columns are non-unique, `df.isetitem(i, newvals)`\n",
      "  indeces_trip_activities.loc[multi_index_trip, \"max_residual_need\"] = res.where(\n",
      "C:\\Users\\jagm_li\\Documents\\vencopy_internal\\vencopy\\vencopy\\core\\flexestimators.py:443: FutureWarning: In a future version, `df.iloc[:, i] = newvals` will attempt to set the values inplace instead of always setting a new array. To retain the old behavior, use either `df[df.columns[i]] = newvals` or, if columns are non-unique, `df.isetitem(i, newvals)`\n",
      "  indeces_park_activities.loc[multi_index_park, \"max_battery_level_start\"] = indeces_previous_trip_activities.loc[\n",
      "C:\\Users\\jagm_li\\Documents\\vencopy_internal\\vencopy\\vencopy\\core\\flexestimators.py:450: FutureWarning: In a future version, `df.iloc[:, i] = newvals` will attempt to set the values inplace instead of always setting a new array. To retain the old behavior, use either `df[df.columns[i]] = newvals` or, if columns are non-unique, `df.isetitem(i, newvals)`\n",
      "  indeces_park_activities.loc[multi_index_park, \"max_battery_level_end\"] = indeces_park_activities[\n",
      "C:\\Users\\jagm_li\\Documents\\vencopy_internal\\vencopy\\vencopy\\core\\flexestimators.py:343: FutureWarning: In a future version, `df.iloc[:, i] = newvals` will attempt to set the values inplace instead of always setting a new array. To retain the old behavior, use either `df[df.columns[i]] = newvals` or, if columns are non-unique, `df.isetitem(i, newvals)`\n",
      "  indeces_trip_activities.loc[multi_index_trip, \"max_battery_level_start\"] = indeces_previous_park_activities.loc[\n",
      "C:\\Users\\jagm_li\\Documents\\vencopy_internal\\vencopy\\vencopy\\core\\flexestimators.py:346: FutureWarning: In a future version, `df.iloc[:, i] = newvals` will attempt to set the values inplace instead of always setting a new array. To retain the old behavior, use either `df[df.columns[i]] = newvals` or, if columns are non-unique, `df.isetitem(i, newvals)`\n",
      "  indeces_trip_activities.loc[multi_index_trip, \"max_battery_level_end_unlimited\"] = (\n",
      "C:\\Users\\jagm_li\\Documents\\vencopy_internal\\vencopy\\vencopy\\core\\flexestimators.py:350: FutureWarning: In a future version, `df.iloc[:, i] = newvals` will attempt to set the values inplace instead of always setting a new array. To retain the old behavior, use either `df[df.columns[i]] = newvals` or, if columns are non-unique, `df.isetitem(i, newvals)`\n",
      "  indeces_trip_activities.loc[multi_index_trip, \"max_battery_level_end\"] = indeces_trip_activities.loc[\n",
      "C:\\Users\\jagm_li\\Documents\\vencopy_internal\\vencopy\\vencopy\\core\\flexestimators.py:361: FutureWarning: In a future version, `df.iloc[:, i] = newvals` will attempt to set the values inplace instead of always setting a new array. To retain the old behavior, use either `df[df.columns[i]] = newvals` or, if columns are non-unique, `df.isetitem(i, newvals)`\n",
      "  indeces_trip_activities.loc[multi_index_trip, \"max_residual_need\"] = res.where(\n",
      "C:\\Users\\jagm_li\\Documents\\vencopy_internal\\vencopy\\vencopy\\core\\flexestimators.py:443: FutureWarning: In a future version, `df.iloc[:, i] = newvals` will attempt to set the values inplace instead of always setting a new array. To retain the old behavior, use either `df[df.columns[i]] = newvals` or, if columns are non-unique, `df.isetitem(i, newvals)`\n",
      "  indeces_park_activities.loc[multi_index_park, \"max_battery_level_start\"] = indeces_previous_trip_activities.loc[\n",
      "C:\\Users\\jagm_li\\Documents\\vencopy_internal\\vencopy\\vencopy\\core\\flexestimators.py:450: FutureWarning: In a future version, `df.iloc[:, i] = newvals` will attempt to set the values inplace instead of always setting a new array. To retain the old behavior, use either `df[df.columns[i]] = newvals` or, if columns are non-unique, `df.isetitem(i, newvals)`\n",
      "  indeces_park_activities.loc[multi_index_park, \"max_battery_level_end\"] = indeces_park_activities[\n"
     ]
    },
    {
     "name": "stdout",
     "output_type": "stream",
     "text": [
      "Calculating maximum battery level for act 12.\n",
      "Starting minimum battery level calculation.\n",
      "Calculate minimum battery level for last activities.\n",
      "Calculate minimum battery level for act 12.\n",
      "Calculate minimum battery level for act 11.\n",
      "Calculate minimum battery level for act 10.\n",
      "Calculate minimum battery level for act 9.\n",
      "Calculate minimum battery level for act 8.\n",
      "Calculate minimum battery level for act 7.\n",
      "Calculate minimum battery level for act 6.\n",
      "Calculate minimum battery level for act 5.\n",
      "Calculate minimum battery level for act 4.\n",
      "Calculate minimum battery level for act 3.\n",
      "Calculate minimum battery level for act 2.\n",
      "Calculate minimum battery level for act 1.\n",
      "Calculate minimum battery level for act 0.\n",
      "Finished iteration 1 / 10. Delta max battery level is 5351, delta min battery level is 5 and threshold epsilon is 1.\n",
      "Starting maximum battery level calculation.\n",
      "Calculating maximum battery level for first activities.\n"
     ]
    },
    {
     "name": "stderr",
     "output_type": "stream",
     "text": [
      "C:\\Users\\jagm_li\\Documents\\vencopy_internal\\vencopy\\vencopy\\core\\flexestimators.py:253: FutureWarning: In a future version, `df.iloc[:, i] = newvals` will attempt to set the values inplace instead of always setting a new array. To retain the old behavior, use either `df[df.columns[i]] = newvals` or, if columns are non-unique, `df.isetitem(i, newvals)`\n",
      "  first_park_activities.loc[:, \"max_overshoot\"] = (\n",
      "C:\\Users\\jagm_li\\Documents\\vencopy_internal\\vencopy\\vencopy\\core\\flexestimators.py:274: FutureWarning: In a future version, `df.iloc[:, i] = newvals` will attempt to set the values inplace instead of always setting a new array. To retain the old behavior, use either `df[df.columns[i]] = newvals` or, if columns are non-unique, `df.isetitem(i, newvals)`\n",
      "  first_trip_activities.loc[:, \"max_residual_need\"] = res.where(\n",
      "C:\\Users\\jagm_li\\Documents\\vencopy_internal\\vencopy\\vencopy\\core\\flexestimators.py:361: FutureWarning: In a future version, `df.iloc[:, i] = newvals` will attempt to set the values inplace instead of always setting a new array. To retain the old behavior, use either `df[df.columns[i]] = newvals` or, if columns are non-unique, `df.isetitem(i, newvals)`\n",
      "  indeces_trip_activities.loc[multi_index_trip, \"max_residual_need\"] = res.where(\n",
      "C:\\Users\\jagm_li\\Documents\\vencopy_internal\\vencopy\\vencopy\\core\\flexestimators.py:361: FutureWarning: In a future version, `df.iloc[:, i] = newvals` will attempt to set the values inplace instead of always setting a new array. To retain the old behavior, use either `df[df.columns[i]] = newvals` or, if columns are non-unique, `df.isetitem(i, newvals)`\n",
      "  indeces_trip_activities.loc[multi_index_trip, \"max_residual_need\"] = res.where(\n"
     ]
    },
    {
     "name": "stdout",
     "output_type": "stream",
     "text": [
      "Calculating maximum battery level for act 1.\n",
      "Calculating maximum battery level for act 2.\n",
      "Calculating maximum battery level for act 3.\n"
     ]
    },
    {
     "name": "stderr",
     "output_type": "stream",
     "text": [
      "C:\\Users\\jagm_li\\Documents\\vencopy_internal\\vencopy\\vencopy\\core\\flexestimators.py:361: FutureWarning: In a future version, `df.iloc[:, i] = newvals` will attempt to set the values inplace instead of always setting a new array. To retain the old behavior, use either `df[df.columns[i]] = newvals` or, if columns are non-unique, `df.isetitem(i, newvals)`\n",
      "  indeces_trip_activities.loc[multi_index_trip, \"max_residual_need\"] = res.where(\n",
      "C:\\Users\\jagm_li\\Documents\\vencopy_internal\\vencopy\\vencopy\\core\\flexestimators.py:361: FutureWarning: In a future version, `df.iloc[:, i] = newvals` will attempt to set the values inplace instead of always setting a new array. To retain the old behavior, use either `df[df.columns[i]] = newvals` or, if columns are non-unique, `df.isetitem(i, newvals)`\n",
      "  indeces_trip_activities.loc[multi_index_trip, \"max_residual_need\"] = res.where(\n",
      "C:\\Users\\jagm_li\\Documents\\vencopy_internal\\vencopy\\vencopy\\core\\flexestimators.py:361: FutureWarning: In a future version, `df.iloc[:, i] = newvals` will attempt to set the values inplace instead of always setting a new array. To retain the old behavior, use either `df[df.columns[i]] = newvals` or, if columns are non-unique, `df.isetitem(i, newvals)`\n",
      "  indeces_trip_activities.loc[multi_index_trip, \"max_residual_need\"] = res.where(\n"
     ]
    },
    {
     "name": "stdout",
     "output_type": "stream",
     "text": [
      "Calculating maximum battery level for act 4.\n",
      "Calculating maximum battery level for act 5.\n",
      "Calculating maximum battery level for act 6.\n"
     ]
    },
    {
     "name": "stderr",
     "output_type": "stream",
     "text": [
      "C:\\Users\\jagm_li\\Documents\\vencopy_internal\\vencopy\\vencopy\\core\\flexestimators.py:361: FutureWarning: In a future version, `df.iloc[:, i] = newvals` will attempt to set the values inplace instead of always setting a new array. To retain the old behavior, use either `df[df.columns[i]] = newvals` or, if columns are non-unique, `df.isetitem(i, newvals)`\n",
      "  indeces_trip_activities.loc[multi_index_trip, \"max_residual_need\"] = res.where(\n",
      "C:\\Users\\jagm_li\\Documents\\vencopy_internal\\vencopy\\vencopy\\core\\flexestimators.py:361: FutureWarning: In a future version, `df.iloc[:, i] = newvals` will attempt to set the values inplace instead of always setting a new array. To retain the old behavior, use either `df[df.columns[i]] = newvals` or, if columns are non-unique, `df.isetitem(i, newvals)`\n",
      "  indeces_trip_activities.loc[multi_index_trip, \"max_residual_need\"] = res.where(\n",
      "C:\\Users\\jagm_li\\Documents\\vencopy_internal\\vencopy\\vencopy\\core\\flexestimators.py:361: FutureWarning: In a future version, `df.iloc[:, i] = newvals` will attempt to set the values inplace instead of always setting a new array. To retain the old behavior, use either `df[df.columns[i]] = newvals` or, if columns are non-unique, `df.isetitem(i, newvals)`\n",
      "  indeces_trip_activities.loc[multi_index_trip, \"max_residual_need\"] = res.where(\n"
     ]
    },
    {
     "name": "stdout",
     "output_type": "stream",
     "text": [
      "Calculating maximum battery level for act 7.\n",
      "Calculating maximum battery level for act 8.\n",
      "Calculating maximum battery level for act 9.\n"
     ]
    },
    {
     "name": "stderr",
     "output_type": "stream",
     "text": [
      "C:\\Users\\jagm_li\\Documents\\vencopy_internal\\vencopy\\vencopy\\core\\flexestimators.py:361: FutureWarning: In a future version, `df.iloc[:, i] = newvals` will attempt to set the values inplace instead of always setting a new array. To retain the old behavior, use either `df[df.columns[i]] = newvals` or, if columns are non-unique, `df.isetitem(i, newvals)`\n",
      "  indeces_trip_activities.loc[multi_index_trip, \"max_residual_need\"] = res.where(\n",
      "C:\\Users\\jagm_li\\Documents\\vencopy_internal\\vencopy\\vencopy\\core\\flexestimators.py:361: FutureWarning: In a future version, `df.iloc[:, i] = newvals` will attempt to set the values inplace instead of always setting a new array. To retain the old behavior, use either `df[df.columns[i]] = newvals` or, if columns are non-unique, `df.isetitem(i, newvals)`\n",
      "  indeces_trip_activities.loc[multi_index_trip, \"max_residual_need\"] = res.where(\n",
      "C:\\Users\\jagm_li\\Documents\\vencopy_internal\\vencopy\\vencopy\\core\\flexestimators.py:361: FutureWarning: In a future version, `df.iloc[:, i] = newvals` will attempt to set the values inplace instead of always setting a new array. To retain the old behavior, use either `df[df.columns[i]] = newvals` or, if columns are non-unique, `df.isetitem(i, newvals)`\n",
      "  indeces_trip_activities.loc[multi_index_trip, \"max_residual_need\"] = res.where(\n",
      "C:\\Users\\jagm_li\\Documents\\vencopy_internal\\vencopy\\vencopy\\core\\flexestimators.py:361: FutureWarning: In a future version, `df.iloc[:, i] = newvals` will attempt to set the values inplace instead of always setting a new array. To retain the old behavior, use either `df[df.columns[i]] = newvals` or, if columns are non-unique, `df.isetitem(i, newvals)`\n",
      "  indeces_trip_activities.loc[multi_index_trip, \"max_residual_need\"] = res.where(\n"
     ]
    },
    {
     "name": "stdout",
     "output_type": "stream",
     "text": [
      "Calculating maximum battery level for act 10.\n",
      "Calculating maximum battery level for act 11.\n",
      "Calculating maximum battery level for act 12.\n",
      "Finished iteration 1 / 10. Delta max battery level is 0, delta min battery level is 5 and threshold epsilon is 1.\n",
      "Starting minimum battery level calculation.\n",
      "Calculate minimum battery level for last activities.\n",
      "Calculate minimum battery level for act 12.\n",
      "Calculate minimum battery level for act 11.\n",
      "Calculate minimum battery level for act 10.\n",
      "Calculate minimum battery level for act 9.\n",
      "Calculate minimum battery level for act 8.\n",
      "Calculate minimum battery level for act 7.\n",
      "Calculate minimum battery level for act 6.\n",
      "Calculate minimum battery level for act 5.\n",
      "Calculate minimum battery level for act 4.\n",
      "Calculate minimum battery level for act 3.\n",
      "Calculate minimum battery level for act 2.\n",
      "Calculate minimum battery level for act 1.\n",
      "Calculate minimum battery level for act 0.\n",
      "Finished iteration 2 / 10. Delta max battery level is 0, delta min battery level is 0 and threshold epsilon is 1.\n",
      "Technical flexibility estimation ended.\n",
      "164 activities dropped from 1627 total activities because activity length equals zero.\n",
      "Starting to discretise drain.\n",
      "Discretisation finished for drain.\n",
      "Needed time to discretise drain: 0.549999475479126.\n",
      "Starting to discretise available_power.\n",
      "Discretisation finished for available_power.\n",
      "Needed time to discretise available_power: 0.5350949764251709.\n",
      "Starting to discretise uncontrolled_charging.\n",
      "Discretisation finished for uncontrolled_charging.\n",
      "Needed time to discretise uncontrolled_charging: 0.5978286266326904.\n",
      "Starting to discretise max_battery_level_start.\n",
      "Discretisation finished for max_battery_level_start.\n",
      "Needed time to discretise max_battery_level_start: 0.5899965763092041.\n",
      "Starting to discretise min_battery_level_end.\n",
      "Discretisation finished for min_battery_level_end.\n",
      "Needed time to discretise min_battery_level_end: 0.6840136051177979.\n",
      "Needed time to discretise all columns: 2.964933156967163.\n",
      "Starting to aggregate drain to fleet level based on day of the week.\n",
      "Dataset written to c:\\Users\\jagm_li\\Documents\\vencopy_internal\\vencopy\\output\\profileaggregator\\vencopy_output_profileaggregator_None_drain_MiD17.csv.\n",
      "Aggregation finished for drain.\n",
      "Needed time to aggregate drain: 0.018474102020263672.\n",
      "Starting to aggregate charging_power to fleet level based on day of the week.\n",
      "Dataset written to c:\\Users\\jagm_li\\Documents\\vencopy_internal\\vencopy\\output\\profileaggregator\\vencopy_output_profileaggregator_None_charging_power_MiD17.csv.\n",
      "Aggregation finished for charging_power.\n",
      "Needed time to aggregate charging_power: 0.017000198364257812.\n",
      "Starting to aggregate uncontrolled_charging to fleet level based on day of the week.\n",
      "Dataset written to c:\\Users\\jagm_li\\Documents\\vencopy_internal\\vencopy\\output\\profileaggregator\\vencopy_output_profileaggregator_None_uncontrolled_charging_MiD17.csv.\n",
      "Aggregation finished for uncontrolled_charging.\n",
      "Needed time to aggregate uncontrolled_charging: 0.01600193977355957.\n",
      "Starting to aggregate max_battery_level to fleet level based on day of the week.\n",
      "Dataset written to c:\\Users\\jagm_li\\Documents\\vencopy_internal\\vencopy\\output\\profileaggregator\\vencopy_output_profileaggregator_None_max_battery_level_MiD17.csv.\n",
      "Aggregation finished for max_battery_level.\n",
      "Needed time to aggregate max_battery_level: 0.3000326156616211.\n",
      "Starting to aggregate min_battery_level to fleet level based on day of the week.\n",
      "Dataset written to c:\\Users\\jagm_li\\Documents\\vencopy_internal\\vencopy\\output\\profileaggregator\\vencopy_output_profileaggregator_None_min_battery_level_MiD17.csv.\n",
      "Aggregation finished for min_battery_level.\n",
      "Needed time to aggregate min_battery_level: 0.3646225929260254.\n",
      "Aggregation finished for all profiles.\n"
     ]
    },
    {
     "data": {
      "image/png": "[encoded data removed]",
      "text/plain": [
       "<Figure size 1000x600 with 1 Axes>"
      ]
     },
     "metadata": {},
     "output_type": "display_data"
    }
   ],
   "source": [
    "# Estimate charging flexibility based on driving profiles and charge connection\n",
    "flex = FlexEstimator(configs=configs, activities=grid.activities)\n",
    "flex.estimate_technical_flexibility_through_iteration()\n",
    "\n",
    "diary = DiaryBuilder(configs=configs, activities=flex.activities)\n",
    "diary.create_diaries()\n",
    "\n",
    "\n",
    "profiles = ProfileAggregator(configs=configs, activities=diary.activities, profiles=diary)\n",
    "profiles.aggregate_profiles()\n",
    "\n",
    "import matplotlib.pyplot as plt\n",
    "\n",
    "plt.figure(figsize=(10, 6))\n",
    "plt.plot(profiles.uncontrolled_charging_weekly.index, profiles.uncontrolled_charging_weekly.iloc[:])  \n",
    "plt.xlim(profiles.uncontrolled_charging_weekly.index[0], profiles.uncontrolled_charging_weekly.index[-1])\n",
    "plt.title('Uncontrolled Charge Volume')\n",
    "plt.xlabel('Time')\n",
    "plt.ylabel('Charge Volume')\n",
    "plt.grid(True)\n",
    "\n",
    "plt.show()\n"
   ]
  },
  {
   "cell_type": "markdown",
   "metadata": {},
   "source": [
    "We can now change the grid availability from home to the workplace only and see how this affects the available charging flexibility."
   ]
  },
  {
   "cell_type": "code",
   "execution_count": 51,
   "metadata": {},
   "outputs": [
    {
     "data": {
      "text/plain": [
       "{'DRIVING': False,\n",
       " 'HOME': False,\n",
       " 'WORK': True,\n",
       " 'SCHOOL': False,\n",
       " 'SHOPPING': True,\n",
       " 'LEISURE': True,\n",
       " 'OTHER': False,\n",
       " 'NA': False,\n",
       " 'PEOPLE_MOBILITY': False,\n",
       " 'TRANSPORT': False,\n",
       " 'SERVICES': False}"
      ]
     },
     "execution_count": 51,
     "metadata": {},
     "output_type": "execute_result"
    }
   ],
   "source": [
    "configs['user_config']['gridmodellers']['charging_infrastructure_mappings']['HOME'] = False\n",
    "configs['user_config']['gridmodellers']['charging_infrastructure_mappings']['WORK'] = True\n",
    "configs['user_config']['gridmodellers']['charging_infrastructure_mappings']"
   ]
  },
  {
   "cell_type": "code",
   "execution_count": 52,
   "metadata": {},
   "outputs": [
    {
     "name": "stdout",
     "output_type": "stream",
     "text": [
      "Starting with charge connection replacement of location purposes.\n",
      "Grid connection assignment complete.\n"
     ]
    }
   ],
   "source": [
    "grid = GridModeller(configs=configs, activities=data)\n",
    "grid.assign_grid()\n",
    "\n"
   ]
  },
  {
   "cell_type": "code",
   "execution_count": 53,
   "metadata": {},
   "outputs": [
    {
     "name": "stdout",
     "output_type": "stream",
     "text": [
      "Starting maximum battery level calculation.\n",
      "Calculating maximum battery level for first activities.\n",
      "Calculating maximum battery level for act 1.\n",
      "Calculating maximum battery level for act 2.\n"
     ]
    },
    {
     "name": "stderr",
     "output_type": "stream",
     "text": [
      "C:\\Users\\jagm_li\\Documents\\vencopy_internal\\vencopy\\vencopy\\core\\flexestimators.py:244: FutureWarning: In a future version, `df.iloc[:, i] = newvals` will attempt to set the values inplace instead of always setting a new array. To retain the old behavior, use either `df[df.columns[i]] = newvals` or, if columns are non-unique, `df.isetitem(i, newvals)`\n",
      "  first_park_activities.loc[:, \"max_battery_level_end_unlimited\"] = (\n",
      "C:\\Users\\jagm_li\\Documents\\vencopy_internal\\vencopy\\vencopy\\core\\flexestimators.py:247: FutureWarning: In a future version, `df.iloc[:, i] = newvals` will attempt to set the values inplace instead of always setting a new array. To retain the old behavior, use either `df[df.columns[i]] = newvals` or, if columns are non-unique, `df.isetitem(i, newvals)`\n",
      "  first_park_activities.loc[:, \"max_battery_level_end\"] = first_park_activities.loc[:,\n",
      "C:\\Users\\jagm_li\\Documents\\vencopy_internal\\vencopy\\vencopy\\core\\flexestimators.py:253: FutureWarning: In a future version, `df.iloc[:, i] = newvals` will attempt to set the values inplace instead of always setting a new array. To retain the old behavior, use either `df[df.columns[i]] = newvals` or, if columns are non-unique, `df.isetitem(i, newvals)`\n",
      "  first_park_activities.loc[:, \"max_overshoot\"] = (\n",
      "C:\\Users\\jagm_li\\Documents\\vencopy_internal\\vencopy\\vencopy\\core\\flexestimators.py:261: FutureWarning: In a future version, `df.iloc[:, i] = newvals` will attempt to set the values inplace instead of always setting a new array. To retain the old behavior, use either `df[df.columns[i]] = newvals` or, if columns are non-unique, `df.isetitem(i, newvals)`\n",
      "  first_trip_activities.loc[:, \"max_battery_level_end_unlimited\"] = (\n",
      "C:\\Users\\jagm_li\\Documents\\vencopy_internal\\vencopy\\vencopy\\core\\flexestimators.py:264: FutureWarning: In a future version, `df.iloc[:, i] = newvals` will attempt to set the values inplace instead of always setting a new array. To retain the old behavior, use either `df[df.columns[i]] = newvals` or, if columns are non-unique, `df.isetitem(i, newvals)`\n",
      "  first_trip_activities.loc[:, \"max_battery_level_end\"] = first_trip_activities.loc[:,\n",
      "C:\\Users\\jagm_li\\Documents\\vencopy_internal\\vencopy\\vencopy\\core\\flexestimators.py:274: FutureWarning: In a future version, `df.iloc[:, i] = newvals` will attempt to set the values inplace instead of always setting a new array. To retain the old behavior, use either `df[df.columns[i]] = newvals` or, if columns are non-unique, `df.isetitem(i, newvals)`\n",
      "  first_trip_activities.loc[:, \"max_residual_need\"] = res.where(\n",
      "C:\\Users\\jagm_li\\Documents\\vencopy_internal\\vencopy\\vencopy\\core\\flexestimators.py:443: FutureWarning: In a future version, `df.iloc[:, i] = newvals` will attempt to set the values inplace instead of always setting a new array. To retain the old behavior, use either `df[df.columns[i]] = newvals` or, if columns are non-unique, `df.isetitem(i, newvals)`\n",
      "  indeces_park_activities.loc[multi_index_park, \"max_battery_level_start\"] = indeces_previous_trip_activities.loc[\n",
      "C:\\Users\\jagm_li\\Documents\\vencopy_internal\\vencopy\\vencopy\\core\\flexestimators.py:450: FutureWarning: In a future version, `df.iloc[:, i] = newvals` will attempt to set the values inplace instead of always setting a new array. To retain the old behavior, use either `df[df.columns[i]] = newvals` or, if columns are non-unique, `df.isetitem(i, newvals)`\n",
      "  indeces_park_activities.loc[multi_index_park, \"max_battery_level_end\"] = indeces_park_activities[\n",
      "C:\\Users\\jagm_li\\Documents\\vencopy_internal\\vencopy\\vencopy\\core\\flexestimators.py:343: FutureWarning: In a future version, `df.iloc[:, i] = newvals` will attempt to set the values inplace instead of always setting a new array. To retain the old behavior, use either `df[df.columns[i]] = newvals` or, if columns are non-unique, `df.isetitem(i, newvals)`\n",
      "  indeces_trip_activities.loc[multi_index_trip, \"max_battery_level_start\"] = indeces_previous_park_activities.loc[\n",
      "C:\\Users\\jagm_li\\Documents\\vencopy_internal\\vencopy\\vencopy\\core\\flexestimators.py:346: FutureWarning: In a future version, `df.iloc[:, i] = newvals` will attempt to set the values inplace instead of always setting a new array. To retain the old behavior, use either `df[df.columns[i]] = newvals` or, if columns are non-unique, `df.isetitem(i, newvals)`\n",
      "  indeces_trip_activities.loc[multi_index_trip, \"max_battery_level_end_unlimited\"] = (\n",
      "C:\\Users\\jagm_li\\Documents\\vencopy_internal\\vencopy\\vencopy\\core\\flexestimators.py:350: FutureWarning: In a future version, `df.iloc[:, i] = newvals` will attempt to set the values inplace instead of always setting a new array. To retain the old behavior, use either `df[df.columns[i]] = newvals` or, if columns are non-unique, `df.isetitem(i, newvals)`\n",
      "  indeces_trip_activities.loc[multi_index_trip, \"max_battery_level_end\"] = indeces_trip_activities.loc[\n",
      "C:\\Users\\jagm_li\\Documents\\vencopy_internal\\vencopy\\vencopy\\core\\flexestimators.py:361: FutureWarning: In a future version, `df.iloc[:, i] = newvals` will attempt to set the values inplace instead of always setting a new array. To retain the old behavior, use either `df[df.columns[i]] = newvals` or, if columns are non-unique, `df.isetitem(i, newvals)`\n",
      "  indeces_trip_activities.loc[multi_index_trip, \"max_residual_need\"] = res.where(\n",
      "C:\\Users\\jagm_li\\Documents\\vencopy_internal\\vencopy\\vencopy\\core\\flexestimators.py:443: FutureWarning: In a future version, `df.iloc[:, i] = newvals` will attempt to set the values inplace instead of always setting a new array. To retain the old behavior, use either `df[df.columns[i]] = newvals` or, if columns are non-unique, `df.isetitem(i, newvals)`\n",
      "  indeces_park_activities.loc[multi_index_park, \"max_battery_level_start\"] = indeces_previous_trip_activities.loc[\n",
      "C:\\Users\\jagm_li\\Documents\\vencopy_internal\\vencopy\\vencopy\\core\\flexestimators.py:450: FutureWarning: In a future version, `df.iloc[:, i] = newvals` will attempt to set the values inplace instead of always setting a new array. To retain the old behavior, use either `df[df.columns[i]] = newvals` or, if columns are non-unique, `df.isetitem(i, newvals)`\n",
      "  indeces_park_activities.loc[multi_index_park, \"max_battery_level_end\"] = indeces_park_activities[\n",
      "C:\\Users\\jagm_li\\Documents\\vencopy_internal\\vencopy\\vencopy\\core\\flexestimators.py:343: FutureWarning: In a future version, `df.iloc[:, i] = newvals` will attempt to set the values inplace instead of always setting a new array. To retain the old behavior, use either `df[df.columns[i]] = newvals` or, if columns are non-unique, `df.isetitem(i, newvals)`\n",
      "  indeces_trip_activities.loc[multi_index_trip, \"max_battery_level_start\"] = indeces_previous_park_activities.loc[\n",
      "C:\\Users\\jagm_li\\Documents\\vencopy_internal\\vencopy\\vencopy\\core\\flexestimators.py:346: FutureWarning: In a future version, `df.iloc[:, i] = newvals` will attempt to set the values inplace instead of always setting a new array. To retain the old behavior, use either `df[df.columns[i]] = newvals` or, if columns are non-unique, `df.isetitem(i, newvals)`\n",
      "  indeces_trip_activities.loc[multi_index_trip, \"max_battery_level_end_unlimited\"] = (\n",
      "C:\\Users\\jagm_li\\Documents\\vencopy_internal\\vencopy\\vencopy\\core\\flexestimators.py:350: FutureWarning: In a future version, `df.iloc[:, i] = newvals` will attempt to set the values inplace instead of always setting a new array. To retain the old behavior, use either `df[df.columns[i]] = newvals` or, if columns are non-unique, `df.isetitem(i, newvals)`\n",
      "  indeces_trip_activities.loc[multi_index_trip, \"max_battery_level_end\"] = indeces_trip_activities.loc[\n",
      "C:\\Users\\jagm_li\\Documents\\vencopy_internal\\vencopy\\vencopy\\core\\flexestimators.py:361: FutureWarning: In a future version, `df.iloc[:, i] = newvals` will attempt to set the values inplace instead of always setting a new array. To retain the old behavior, use either `df[df.columns[i]] = newvals` or, if columns are non-unique, `df.isetitem(i, newvals)`\n",
      "  indeces_trip_activities.loc[multi_index_trip, \"max_residual_need\"] = res.where(\n",
      "C:\\Users\\jagm_li\\Documents\\vencopy_internal\\vencopy\\vencopy\\core\\flexestimators.py:443: FutureWarning: In a future version, `df.iloc[:, i] = newvals` will attempt to set the values inplace instead of always setting a new array. To retain the old behavior, use either `df[df.columns[i]] = newvals` or, if columns are non-unique, `df.isetitem(i, newvals)`\n",
      "  indeces_park_activities.loc[multi_index_park, \"max_battery_level_start\"] = indeces_previous_trip_activities.loc[\n",
      "C:\\Users\\jagm_li\\Documents\\vencopy_internal\\vencopy\\vencopy\\core\\flexestimators.py:450: FutureWarning: In a future version, `df.iloc[:, i] = newvals` will attempt to set the values inplace instead of always setting a new array. To retain the old behavior, use either `df[df.columns[i]] = newvals` or, if columns are non-unique, `df.isetitem(i, newvals)`\n",
      "  indeces_park_activities.loc[multi_index_park, \"max_battery_level_end\"] = indeces_park_activities[\n",
      "C:\\Users\\jagm_li\\Documents\\vencopy_internal\\vencopy\\vencopy\\core\\flexestimators.py:343: FutureWarning: In a future version, `df.iloc[:, i] = newvals` will attempt to set the values inplace instead of always setting a new array. To retain the old behavior, use either `df[df.columns[i]] = newvals` or, if columns are non-unique, `df.isetitem(i, newvals)`\n",
      "  indeces_trip_activities.loc[multi_index_trip, \"max_battery_level_start\"] = indeces_previous_park_activities.loc[\n",
      "C:\\Users\\jagm_li\\Documents\\vencopy_internal\\vencopy\\vencopy\\core\\flexestimators.py:346: FutureWarning: In a future version, `df.iloc[:, i] = newvals` will attempt to set the values inplace instead of always setting a new array. To retain the old behavior, use either `df[df.columns[i]] = newvals` or, if columns are non-unique, `df.isetitem(i, newvals)`\n",
      "  indeces_trip_activities.loc[multi_index_trip, \"max_battery_level_end_unlimited\"] = (\n",
      "C:\\Users\\jagm_li\\Documents\\vencopy_internal\\vencopy\\vencopy\\core\\flexestimators.py:350: FutureWarning: In a future version, `df.iloc[:, i] = newvals` will attempt to set the values inplace instead of always setting a new array. To retain the old behavior, use either `df[df.columns[i]] = newvals` or, if columns are non-unique, `df.isetitem(i, newvals)`\n",
      "  indeces_trip_activities.loc[multi_index_trip, \"max_battery_level_end\"] = indeces_trip_activities.loc[\n",
      "C:\\Users\\jagm_li\\Documents\\vencopy_internal\\vencopy\\vencopy\\core\\flexestimators.py:361: FutureWarning: In a future version, `df.iloc[:, i] = newvals` will attempt to set the values inplace instead of always setting a new array. To retain the old behavior, use either `df[df.columns[i]] = newvals` or, if columns are non-unique, `df.isetitem(i, newvals)`\n",
      "  indeces_trip_activities.loc[multi_index_trip, \"max_residual_need\"] = res.where(\n",
      "C:\\Users\\jagm_li\\Documents\\vencopy_internal\\vencopy\\vencopy\\core\\flexestimators.py:443: FutureWarning: In a future version, `df.iloc[:, i] = newvals` will attempt to set the values inplace instead of always setting a new array. To retain the old behavior, use either `df[df.columns[i]] = newvals` or, if columns are non-unique, `df.isetitem(i, newvals)`\n",
      "  indeces_park_activities.loc[multi_index_park, \"max_battery_level_start\"] = indeces_previous_trip_activities.loc[\n",
      "C:\\Users\\jagm_li\\Documents\\vencopy_internal\\vencopy\\vencopy\\core\\flexestimators.py:450: FutureWarning: In a future version, `df.iloc[:, i] = newvals` will attempt to set the values inplace instead of always setting a new array. To retain the old behavior, use either `df[df.columns[i]] = newvals` or, if columns are non-unique, `df.isetitem(i, newvals)`\n",
      "  indeces_park_activities.loc[multi_index_park, \"max_battery_level_end\"] = indeces_park_activities[\n",
      "C:\\Users\\jagm_li\\Documents\\vencopy_internal\\vencopy\\vencopy\\core\\flexestimators.py:343: FutureWarning: In a future version, `df.iloc[:, i] = newvals` will attempt to set the values inplace instead of always setting a new array. To retain the old behavior, use either `df[df.columns[i]] = newvals` or, if columns are non-unique, `df.isetitem(i, newvals)`\n",
      "  indeces_trip_activities.loc[multi_index_trip, \"max_battery_level_start\"] = indeces_previous_park_activities.loc[\n"
     ]
    },
    {
     "name": "stdout",
     "output_type": "stream",
     "text": [
      "Calculating maximum battery level for act 3.\n",
      "Calculating maximum battery level for act 4.\n"
     ]
    },
    {
     "name": "stderr",
     "output_type": "stream",
     "text": [
      "C:\\Users\\jagm_li\\Documents\\vencopy_internal\\vencopy\\vencopy\\core\\flexestimators.py:346: FutureWarning: In a future version, `df.iloc[:, i] = newvals` will attempt to set the values inplace instead of always setting a new array. To retain the old behavior, use either `df[df.columns[i]] = newvals` or, if columns are non-unique, `df.isetitem(i, newvals)`\n",
      "  indeces_trip_activities.loc[multi_index_trip, \"max_battery_level_end_unlimited\"] = (\n",
      "C:\\Users\\jagm_li\\Documents\\vencopy_internal\\vencopy\\vencopy\\core\\flexestimators.py:350: FutureWarning: In a future version, `df.iloc[:, i] = newvals` will attempt to set the values inplace instead of always setting a new array. To retain the old behavior, use either `df[df.columns[i]] = newvals` or, if columns are non-unique, `df.isetitem(i, newvals)`\n",
      "  indeces_trip_activities.loc[multi_index_trip, \"max_battery_level_end\"] = indeces_trip_activities.loc[\n",
      "C:\\Users\\jagm_li\\Documents\\vencopy_internal\\vencopy\\vencopy\\core\\flexestimators.py:361: FutureWarning: In a future version, `df.iloc[:, i] = newvals` will attempt to set the values inplace instead of always setting a new array. To retain the old behavior, use either `df[df.columns[i]] = newvals` or, if columns are non-unique, `df.isetitem(i, newvals)`\n",
      "  indeces_trip_activities.loc[multi_index_trip, \"max_residual_need\"] = res.where(\n",
      "C:\\Users\\jagm_li\\Documents\\vencopy_internal\\vencopy\\vencopy\\core\\flexestimators.py:443: FutureWarning: In a future version, `df.iloc[:, i] = newvals` will attempt to set the values inplace instead of always setting a new array. To retain the old behavior, use either `df[df.columns[i]] = newvals` or, if columns are non-unique, `df.isetitem(i, newvals)`\n",
      "  indeces_park_activities.loc[multi_index_park, \"max_battery_level_start\"] = indeces_previous_trip_activities.loc[\n",
      "C:\\Users\\jagm_li\\Documents\\vencopy_internal\\vencopy\\vencopy\\core\\flexestimators.py:450: FutureWarning: In a future version, `df.iloc[:, i] = newvals` will attempt to set the values inplace instead of always setting a new array. To retain the old behavior, use either `df[df.columns[i]] = newvals` or, if columns are non-unique, `df.isetitem(i, newvals)`\n",
      "  indeces_park_activities.loc[multi_index_park, \"max_battery_level_end\"] = indeces_park_activities[\n",
      "C:\\Users\\jagm_li\\Documents\\vencopy_internal\\vencopy\\vencopy\\core\\flexestimators.py:343: FutureWarning: In a future version, `df.iloc[:, i] = newvals` will attempt to set the values inplace instead of always setting a new array. To retain the old behavior, use either `df[df.columns[i]] = newvals` or, if columns are non-unique, `df.isetitem(i, newvals)`\n",
      "  indeces_trip_activities.loc[multi_index_trip, \"max_battery_level_start\"] = indeces_previous_park_activities.loc[\n",
      "C:\\Users\\jagm_li\\Documents\\vencopy_internal\\vencopy\\vencopy\\core\\flexestimators.py:346: FutureWarning: In a future version, `df.iloc[:, i] = newvals` will attempt to set the values inplace instead of always setting a new array. To retain the old behavior, use either `df[df.columns[i]] = newvals` or, if columns are non-unique, `df.isetitem(i, newvals)`\n",
      "  indeces_trip_activities.loc[multi_index_trip, \"max_battery_level_end_unlimited\"] = (\n",
      "C:\\Users\\jagm_li\\Documents\\vencopy_internal\\vencopy\\vencopy\\core\\flexestimators.py:350: FutureWarning: In a future version, `df.iloc[:, i] = newvals` will attempt to set the values inplace instead of always setting a new array. To retain the old behavior, use either `df[df.columns[i]] = newvals` or, if columns are non-unique, `df.isetitem(i, newvals)`\n",
      "  indeces_trip_activities.loc[multi_index_trip, \"max_battery_level_end\"] = indeces_trip_activities.loc[\n",
      "C:\\Users\\jagm_li\\Documents\\vencopy_internal\\vencopy\\vencopy\\core\\flexestimators.py:361: FutureWarning: In a future version, `df.iloc[:, i] = newvals` will attempt to set the values inplace instead of always setting a new array. To retain the old behavior, use either `df[df.columns[i]] = newvals` or, if columns are non-unique, `df.isetitem(i, newvals)`\n",
      "  indeces_trip_activities.loc[multi_index_trip, \"max_residual_need\"] = res.where(\n",
      "C:\\Users\\jagm_li\\Documents\\vencopy_internal\\vencopy\\vencopy\\core\\flexestimators.py:443: FutureWarning: In a future version, `df.iloc[:, i] = newvals` will attempt to set the values inplace instead of always setting a new array. To retain the old behavior, use either `df[df.columns[i]] = newvals` or, if columns are non-unique, `df.isetitem(i, newvals)`\n",
      "  indeces_park_activities.loc[multi_index_park, \"max_battery_level_start\"] = indeces_previous_trip_activities.loc[\n",
      "C:\\Users\\jagm_li\\Documents\\vencopy_internal\\vencopy\\vencopy\\core\\flexestimators.py:450: FutureWarning: In a future version, `df.iloc[:, i] = newvals` will attempt to set the values inplace instead of always setting a new array. To retain the old behavior, use either `df[df.columns[i]] = newvals` or, if columns are non-unique, `df.isetitem(i, newvals)`\n",
      "  indeces_park_activities.loc[multi_index_park, \"max_battery_level_end\"] = indeces_park_activities[\n",
      "C:\\Users\\jagm_li\\Documents\\vencopy_internal\\vencopy\\vencopy\\core\\flexestimators.py:343: FutureWarning: In a future version, `df.iloc[:, i] = newvals` will attempt to set the values inplace instead of always setting a new array. To retain the old behavior, use either `df[df.columns[i]] = newvals` or, if columns are non-unique, `df.isetitem(i, newvals)`\n",
      "  indeces_trip_activities.loc[multi_index_trip, \"max_battery_level_start\"] = indeces_previous_park_activities.loc[\n",
      "C:\\Users\\jagm_li\\Documents\\vencopy_internal\\vencopy\\vencopy\\core\\flexestimators.py:346: FutureWarning: In a future version, `df.iloc[:, i] = newvals` will attempt to set the values inplace instead of always setting a new array. To retain the old behavior, use either `df[df.columns[i]] = newvals` or, if columns are non-unique, `df.isetitem(i, newvals)`\n",
      "  indeces_trip_activities.loc[multi_index_trip, \"max_battery_level_end_unlimited\"] = (\n",
      "C:\\Users\\jagm_li\\Documents\\vencopy_internal\\vencopy\\vencopy\\core\\flexestimators.py:350: FutureWarning: In a future version, `df.iloc[:, i] = newvals` will attempt to set the values inplace instead of always setting a new array. To retain the old behavior, use either `df[df.columns[i]] = newvals` or, if columns are non-unique, `df.isetitem(i, newvals)`\n",
      "  indeces_trip_activities.loc[multi_index_trip, \"max_battery_level_end\"] = indeces_trip_activities.loc[\n",
      "C:\\Users\\jagm_li\\Documents\\vencopy_internal\\vencopy\\vencopy\\core\\flexestimators.py:361: FutureWarning: In a future version, `df.iloc[:, i] = newvals` will attempt to set the values inplace instead of always setting a new array. To retain the old behavior, use either `df[df.columns[i]] = newvals` or, if columns are non-unique, `df.isetitem(i, newvals)`\n",
      "  indeces_trip_activities.loc[multi_index_trip, \"max_residual_need\"] = res.where(\n"
     ]
    },
    {
     "name": "stdout",
     "output_type": "stream",
     "text": [
      "Calculating maximum battery level for act 5.\n",
      "Calculating maximum battery level for act 6.\n"
     ]
    },
    {
     "name": "stderr",
     "output_type": "stream",
     "text": [
      "C:\\Users\\jagm_li\\Documents\\vencopy_internal\\vencopy\\vencopy\\core\\flexestimators.py:443: FutureWarning: In a future version, `df.iloc[:, i] = newvals` will attempt to set the values inplace instead of always setting a new array. To retain the old behavior, use either `df[df.columns[i]] = newvals` or, if columns are non-unique, `df.isetitem(i, newvals)`\n",
      "  indeces_park_activities.loc[multi_index_park, \"max_battery_level_start\"] = indeces_previous_trip_activities.loc[\n",
      "C:\\Users\\jagm_li\\Documents\\vencopy_internal\\vencopy\\vencopy\\core\\flexestimators.py:450: FutureWarning: In a future version, `df.iloc[:, i] = newvals` will attempt to set the values inplace instead of always setting a new array. To retain the old behavior, use either `df[df.columns[i]] = newvals` or, if columns are non-unique, `df.isetitem(i, newvals)`\n",
      "  indeces_park_activities.loc[multi_index_park, \"max_battery_level_end\"] = indeces_park_activities[\n",
      "C:\\Users\\jagm_li\\Documents\\vencopy_internal\\vencopy\\vencopy\\core\\flexestimators.py:343: FutureWarning: In a future version, `df.iloc[:, i] = newvals` will attempt to set the values inplace instead of always setting a new array. To retain the old behavior, use either `df[df.columns[i]] = newvals` or, if columns are non-unique, `df.isetitem(i, newvals)`\n",
      "  indeces_trip_activities.loc[multi_index_trip, \"max_battery_level_start\"] = indeces_previous_park_activities.loc[\n",
      "C:\\Users\\jagm_li\\Documents\\vencopy_internal\\vencopy\\vencopy\\core\\flexestimators.py:346: FutureWarning: In a future version, `df.iloc[:, i] = newvals` will attempt to set the values inplace instead of always setting a new array. To retain the old behavior, use either `df[df.columns[i]] = newvals` or, if columns are non-unique, `df.isetitem(i, newvals)`\n",
      "  indeces_trip_activities.loc[multi_index_trip, \"max_battery_level_end_unlimited\"] = (\n",
      "C:\\Users\\jagm_li\\Documents\\vencopy_internal\\vencopy\\vencopy\\core\\flexestimators.py:350: FutureWarning: In a future version, `df.iloc[:, i] = newvals` will attempt to set the values inplace instead of always setting a new array. To retain the old behavior, use either `df[df.columns[i]] = newvals` or, if columns are non-unique, `df.isetitem(i, newvals)`\n",
      "  indeces_trip_activities.loc[multi_index_trip, \"max_battery_level_end\"] = indeces_trip_activities.loc[\n",
      "C:\\Users\\jagm_li\\Documents\\vencopy_internal\\vencopy\\vencopy\\core\\flexestimators.py:361: FutureWarning: In a future version, `df.iloc[:, i] = newvals` will attempt to set the values inplace instead of always setting a new array. To retain the old behavior, use either `df[df.columns[i]] = newvals` or, if columns are non-unique, `df.isetitem(i, newvals)`\n",
      "  indeces_trip_activities.loc[multi_index_trip, \"max_residual_need\"] = res.where(\n",
      "C:\\Users\\jagm_li\\Documents\\vencopy_internal\\vencopy\\vencopy\\core\\flexestimators.py:443: FutureWarning: In a future version, `df.iloc[:, i] = newvals` will attempt to set the values inplace instead of always setting a new array. To retain the old behavior, use either `df[df.columns[i]] = newvals` or, if columns are non-unique, `df.isetitem(i, newvals)`\n",
      "  indeces_park_activities.loc[multi_index_park, \"max_battery_level_start\"] = indeces_previous_trip_activities.loc[\n",
      "C:\\Users\\jagm_li\\Documents\\vencopy_internal\\vencopy\\vencopy\\core\\flexestimators.py:450: FutureWarning: In a future version, `df.iloc[:, i] = newvals` will attempt to set the values inplace instead of always setting a new array. To retain the old behavior, use either `df[df.columns[i]] = newvals` or, if columns are non-unique, `df.isetitem(i, newvals)`\n",
      "  indeces_park_activities.loc[multi_index_park, \"max_battery_level_end\"] = indeces_park_activities[\n",
      "C:\\Users\\jagm_li\\Documents\\vencopy_internal\\vencopy\\vencopy\\core\\flexestimators.py:343: FutureWarning: In a future version, `df.iloc[:, i] = newvals` will attempt to set the values inplace instead of always setting a new array. To retain the old behavior, use either `df[df.columns[i]] = newvals` or, if columns are non-unique, `df.isetitem(i, newvals)`\n",
      "  indeces_trip_activities.loc[multi_index_trip, \"max_battery_level_start\"] = indeces_previous_park_activities.loc[\n",
      "C:\\Users\\jagm_li\\Documents\\vencopy_internal\\vencopy\\vencopy\\core\\flexestimators.py:346: FutureWarning: In a future version, `df.iloc[:, i] = newvals` will attempt to set the values inplace instead of always setting a new array. To retain the old behavior, use either `df[df.columns[i]] = newvals` or, if columns are non-unique, `df.isetitem(i, newvals)`\n",
      "  indeces_trip_activities.loc[multi_index_trip, \"max_battery_level_end_unlimited\"] = (\n",
      "C:\\Users\\jagm_li\\Documents\\vencopy_internal\\vencopy\\vencopy\\core\\flexestimators.py:350: FutureWarning: In a future version, `df.iloc[:, i] = newvals` will attempt to set the values inplace instead of always setting a new array. To retain the old behavior, use either `df[df.columns[i]] = newvals` or, if columns are non-unique, `df.isetitem(i, newvals)`\n",
      "  indeces_trip_activities.loc[multi_index_trip, \"max_battery_level_end\"] = indeces_trip_activities.loc[\n",
      "C:\\Users\\jagm_li\\Documents\\vencopy_internal\\vencopy\\vencopy\\core\\flexestimators.py:361: FutureWarning: In a future version, `df.iloc[:, i] = newvals` will attempt to set the values inplace instead of always setting a new array. To retain the old behavior, use either `df[df.columns[i]] = newvals` or, if columns are non-unique, `df.isetitem(i, newvals)`\n",
      "  indeces_trip_activities.loc[multi_index_trip, \"max_residual_need\"] = res.where(\n",
      "C:\\Users\\jagm_li\\Documents\\vencopy_internal\\vencopy\\vencopy\\core\\flexestimators.py:443: FutureWarning: In a future version, `df.iloc[:, i] = newvals` will attempt to set the values inplace instead of always setting a new array. To retain the old behavior, use either `df[df.columns[i]] = newvals` or, if columns are non-unique, `df.isetitem(i, newvals)`\n",
      "  indeces_park_activities.loc[multi_index_park, \"max_battery_level_start\"] = indeces_previous_trip_activities.loc[\n",
      "C:\\Users\\jagm_li\\Documents\\vencopy_internal\\vencopy\\vencopy\\core\\flexestimators.py:450: FutureWarning: In a future version, `df.iloc[:, i] = newvals` will attempt to set the values inplace instead of always setting a new array. To retain the old behavior, use either `df[df.columns[i]] = newvals` or, if columns are non-unique, `df.isetitem(i, newvals)`\n",
      "  indeces_park_activities.loc[multi_index_park, \"max_battery_level_end\"] = indeces_park_activities[\n",
      "C:\\Users\\jagm_li\\Documents\\vencopy_internal\\vencopy\\vencopy\\core\\flexestimators.py:343: FutureWarning: In a future version, `df.iloc[:, i] = newvals` will attempt to set the values inplace instead of always setting a new array. To retain the old behavior, use either `df[df.columns[i]] = newvals` or, if columns are non-unique, `df.isetitem(i, newvals)`\n",
      "  indeces_trip_activities.loc[multi_index_trip, \"max_battery_level_start\"] = indeces_previous_park_activities.loc[\n",
      "C:\\Users\\jagm_li\\Documents\\vencopy_internal\\vencopy\\vencopy\\core\\flexestimators.py:346: FutureWarning: In a future version, `df.iloc[:, i] = newvals` will attempt to set the values inplace instead of always setting a new array. To retain the old behavior, use either `df[df.columns[i]] = newvals` or, if columns are non-unique, `df.isetitem(i, newvals)`\n",
      "  indeces_trip_activities.loc[multi_index_trip, \"max_battery_level_end_unlimited\"] = (\n",
      "C:\\Users\\jagm_li\\Documents\\vencopy_internal\\vencopy\\vencopy\\core\\flexestimators.py:350: FutureWarning: In a future version, `df.iloc[:, i] = newvals` will attempt to set the values inplace instead of always setting a new array. To retain the old behavior, use either `df[df.columns[i]] = newvals` or, if columns are non-unique, `df.isetitem(i, newvals)`\n",
      "  indeces_trip_activities.loc[multi_index_trip, \"max_battery_level_end\"] = indeces_trip_activities.loc[\n",
      "C:\\Users\\jagm_li\\Documents\\vencopy_internal\\vencopy\\vencopy\\core\\flexestimators.py:361: FutureWarning: In a future version, `df.iloc[:, i] = newvals` will attempt to set the values inplace instead of always setting a new array. To retain the old behavior, use either `df[df.columns[i]] = newvals` or, if columns are non-unique, `df.isetitem(i, newvals)`\n",
      "  indeces_trip_activities.loc[multi_index_trip, \"max_residual_need\"] = res.where(\n"
     ]
    },
    {
     "name": "stdout",
     "output_type": "stream",
     "text": [
      "Calculating maximum battery level for act 7.\n",
      "Calculating maximum battery level for act 8.\n",
      "Calculating maximum battery level for act 9.\n"
     ]
    },
    {
     "name": "stderr",
     "output_type": "stream",
     "text": [
      "C:\\Users\\jagm_li\\Documents\\vencopy_internal\\vencopy\\vencopy\\core\\flexestimators.py:443: FutureWarning: In a future version, `df.iloc[:, i] = newvals` will attempt to set the values inplace instead of always setting a new array. To retain the old behavior, use either `df[df.columns[i]] = newvals` or, if columns are non-unique, `df.isetitem(i, newvals)`\n",
      "  indeces_park_activities.loc[multi_index_park, \"max_battery_level_start\"] = indeces_previous_trip_activities.loc[\n",
      "C:\\Users\\jagm_li\\Documents\\vencopy_internal\\vencopy\\vencopy\\core\\flexestimators.py:450: FutureWarning: In a future version, `df.iloc[:, i] = newvals` will attempt to set the values inplace instead of always setting a new array. To retain the old behavior, use either `df[df.columns[i]] = newvals` or, if columns are non-unique, `df.isetitem(i, newvals)`\n",
      "  indeces_park_activities.loc[multi_index_park, \"max_battery_level_end\"] = indeces_park_activities[\n",
      "C:\\Users\\jagm_li\\Documents\\vencopy_internal\\vencopy\\vencopy\\core\\flexestimators.py:343: FutureWarning: In a future version, `df.iloc[:, i] = newvals` will attempt to set the values inplace instead of always setting a new array. To retain the old behavior, use either `df[df.columns[i]] = newvals` or, if columns are non-unique, `df.isetitem(i, newvals)`\n",
      "  indeces_trip_activities.loc[multi_index_trip, \"max_battery_level_start\"] = indeces_previous_park_activities.loc[\n",
      "C:\\Users\\jagm_li\\Documents\\vencopy_internal\\vencopy\\vencopy\\core\\flexestimators.py:346: FutureWarning: In a future version, `df.iloc[:, i] = newvals` will attempt to set the values inplace instead of always setting a new array. To retain the old behavior, use either `df[df.columns[i]] = newvals` or, if columns are non-unique, `df.isetitem(i, newvals)`\n",
      "  indeces_trip_activities.loc[multi_index_trip, \"max_battery_level_end_unlimited\"] = (\n",
      "C:\\Users\\jagm_li\\Documents\\vencopy_internal\\vencopy\\vencopy\\core\\flexestimators.py:350: FutureWarning: In a future version, `df.iloc[:, i] = newvals` will attempt to set the values inplace instead of always setting a new array. To retain the old behavior, use either `df[df.columns[i]] = newvals` or, if columns are non-unique, `df.isetitem(i, newvals)`\n",
      "  indeces_trip_activities.loc[multi_index_trip, \"max_battery_level_end\"] = indeces_trip_activities.loc[\n",
      "C:\\Users\\jagm_li\\Documents\\vencopy_internal\\vencopy\\vencopy\\core\\flexestimators.py:361: FutureWarning: In a future version, `df.iloc[:, i] = newvals` will attempt to set the values inplace instead of always setting a new array. To retain the old behavior, use either `df[df.columns[i]] = newvals` or, if columns are non-unique, `df.isetitem(i, newvals)`\n",
      "  indeces_trip_activities.loc[multi_index_trip, \"max_residual_need\"] = res.where(\n",
      "C:\\Users\\jagm_li\\Documents\\vencopy_internal\\vencopy\\vencopy\\core\\flexestimators.py:443: FutureWarning: In a future version, `df.iloc[:, i] = newvals` will attempt to set the values inplace instead of always setting a new array. To retain the old behavior, use either `df[df.columns[i]] = newvals` or, if columns are non-unique, `df.isetitem(i, newvals)`\n",
      "  indeces_park_activities.loc[multi_index_park, \"max_battery_level_start\"] = indeces_previous_trip_activities.loc[\n",
      "C:\\Users\\jagm_li\\Documents\\vencopy_internal\\vencopy\\vencopy\\core\\flexestimators.py:450: FutureWarning: In a future version, `df.iloc[:, i] = newvals` will attempt to set the values inplace instead of always setting a new array. To retain the old behavior, use either `df[df.columns[i]] = newvals` or, if columns are non-unique, `df.isetitem(i, newvals)`\n",
      "  indeces_park_activities.loc[multi_index_park, \"max_battery_level_end\"] = indeces_park_activities[\n",
      "C:\\Users\\jagm_li\\Documents\\vencopy_internal\\vencopy\\vencopy\\core\\flexestimators.py:343: FutureWarning: In a future version, `df.iloc[:, i] = newvals` will attempt to set the values inplace instead of always setting a new array. To retain the old behavior, use either `df[df.columns[i]] = newvals` or, if columns are non-unique, `df.isetitem(i, newvals)`\n",
      "  indeces_trip_activities.loc[multi_index_trip, \"max_battery_level_start\"] = indeces_previous_park_activities.loc[\n",
      "C:\\Users\\jagm_li\\Documents\\vencopy_internal\\vencopy\\vencopy\\core\\flexestimators.py:346: FutureWarning: In a future version, `df.iloc[:, i] = newvals` will attempt to set the values inplace instead of always setting a new array. To retain the old behavior, use either `df[df.columns[i]] = newvals` or, if columns are non-unique, `df.isetitem(i, newvals)`\n",
      "  indeces_trip_activities.loc[multi_index_trip, \"max_battery_level_end_unlimited\"] = (\n",
      "C:\\Users\\jagm_li\\Documents\\vencopy_internal\\vencopy\\vencopy\\core\\flexestimators.py:350: FutureWarning: In a future version, `df.iloc[:, i] = newvals` will attempt to set the values inplace instead of always setting a new array. To retain the old behavior, use either `df[df.columns[i]] = newvals` or, if columns are non-unique, `df.isetitem(i, newvals)`\n",
      "  indeces_trip_activities.loc[multi_index_trip, \"max_battery_level_end\"] = indeces_trip_activities.loc[\n",
      "C:\\Users\\jagm_li\\Documents\\vencopy_internal\\vencopy\\vencopy\\core\\flexestimators.py:361: FutureWarning: In a future version, `df.iloc[:, i] = newvals` will attempt to set the values inplace instead of always setting a new array. To retain the old behavior, use either `df[df.columns[i]] = newvals` or, if columns are non-unique, `df.isetitem(i, newvals)`\n",
      "  indeces_trip_activities.loc[multi_index_trip, \"max_residual_need\"] = res.where(\n",
      "C:\\Users\\jagm_li\\Documents\\vencopy_internal\\vencopy\\vencopy\\core\\flexestimators.py:443: FutureWarning: In a future version, `df.iloc[:, i] = newvals` will attempt to set the values inplace instead of always setting a new array. To retain the old behavior, use either `df[df.columns[i]] = newvals` or, if columns are non-unique, `df.isetitem(i, newvals)`\n",
      "  indeces_park_activities.loc[multi_index_park, \"max_battery_level_start\"] = indeces_previous_trip_activities.loc[\n",
      "C:\\Users\\jagm_li\\Documents\\vencopy_internal\\vencopy\\vencopy\\core\\flexestimators.py:450: FutureWarning: In a future version, `df.iloc[:, i] = newvals` will attempt to set the values inplace instead of always setting a new array. To retain the old behavior, use either `df[df.columns[i]] = newvals` or, if columns are non-unique, `df.isetitem(i, newvals)`\n",
      "  indeces_park_activities.loc[multi_index_park, \"max_battery_level_end\"] = indeces_park_activities[\n",
      "C:\\Users\\jagm_li\\Documents\\vencopy_internal\\vencopy\\vencopy\\core\\flexestimators.py:343: FutureWarning: In a future version, `df.iloc[:, i] = newvals` will attempt to set the values inplace instead of always setting a new array. To retain the old behavior, use either `df[df.columns[i]] = newvals` or, if columns are non-unique, `df.isetitem(i, newvals)`\n",
      "  indeces_trip_activities.loc[multi_index_trip, \"max_battery_level_start\"] = indeces_previous_park_activities.loc[\n",
      "C:\\Users\\jagm_li\\Documents\\vencopy_internal\\vencopy\\vencopy\\core\\flexestimators.py:346: FutureWarning: In a future version, `df.iloc[:, i] = newvals` will attempt to set the values inplace instead of always setting a new array. To retain the old behavior, use either `df[df.columns[i]] = newvals` or, if columns are non-unique, `df.isetitem(i, newvals)`\n",
      "  indeces_trip_activities.loc[multi_index_trip, \"max_battery_level_end_unlimited\"] = (\n"
     ]
    },
    {
     "name": "stdout",
     "output_type": "stream",
     "text": [
      "Calculating maximum battery level for act 10.\n",
      "Calculating maximum battery level for act 11.\n",
      "Calculating maximum battery level for act 12.\n"
     ]
    },
    {
     "name": "stderr",
     "output_type": "stream",
     "text": [
      "C:\\Users\\jagm_li\\Documents\\vencopy_internal\\vencopy\\vencopy\\core\\flexestimators.py:350: FutureWarning: In a future version, `df.iloc[:, i] = newvals` will attempt to set the values inplace instead of always setting a new array. To retain the old behavior, use either `df[df.columns[i]] = newvals` or, if columns are non-unique, `df.isetitem(i, newvals)`\n",
      "  indeces_trip_activities.loc[multi_index_trip, \"max_battery_level_end\"] = indeces_trip_activities.loc[\n",
      "C:\\Users\\jagm_li\\Documents\\vencopy_internal\\vencopy\\vencopy\\core\\flexestimators.py:361: FutureWarning: In a future version, `df.iloc[:, i] = newvals` will attempt to set the values inplace instead of always setting a new array. To retain the old behavior, use either `df[df.columns[i]] = newvals` or, if columns are non-unique, `df.isetitem(i, newvals)`\n",
      "  indeces_trip_activities.loc[multi_index_trip, \"max_residual_need\"] = res.where(\n",
      "C:\\Users\\jagm_li\\Documents\\vencopy_internal\\vencopy\\vencopy\\core\\flexestimators.py:443: FutureWarning: In a future version, `df.iloc[:, i] = newvals` will attempt to set the values inplace instead of always setting a new array. To retain the old behavior, use either `df[df.columns[i]] = newvals` or, if columns are non-unique, `df.isetitem(i, newvals)`\n",
      "  indeces_park_activities.loc[multi_index_park, \"max_battery_level_start\"] = indeces_previous_trip_activities.loc[\n",
      "C:\\Users\\jagm_li\\Documents\\vencopy_internal\\vencopy\\vencopy\\core\\flexestimators.py:450: FutureWarning: In a future version, `df.iloc[:, i] = newvals` will attempt to set the values inplace instead of always setting a new array. To retain the old behavior, use either `df[df.columns[i]] = newvals` or, if columns are non-unique, `df.isetitem(i, newvals)`\n",
      "  indeces_park_activities.loc[multi_index_park, \"max_battery_level_end\"] = indeces_park_activities[\n"
     ]
    },
    {
     "name": "stdout",
     "output_type": "stream",
     "text": [
      "Starting minimum battery level calculation.\n",
      "Calculate minimum battery level for last activities.\n",
      "Calculate minimum battery level for act 12.\n",
      "Calculate minimum battery level for act 11.\n",
      "Calculate minimum battery level for act 10.\n",
      "Calculate minimum battery level for act 9.\n",
      "Calculate minimum battery level for act 8.\n",
      "Calculate minimum battery level for act 7.\n",
      "Calculate minimum battery level for act 6.\n",
      "Calculate minimum battery level for act 5.\n",
      "Calculate minimum battery level for act 4.\n",
      "Calculate minimum battery level for act 3.\n",
      "Calculate minimum battery level for act 2.\n",
      "Calculate minimum battery level for act 1.\n",
      "Calculate minimum battery level for act 0.\n",
      "Finished iteration 1 / 10. Delta max battery level is 3166, delta min battery level is 840 and threshold epsilon is 1.\n",
      "Starting maximum battery level calculation.\n",
      "Calculating maximum battery level for first activities.\n",
      "Calculating maximum battery level for act 1.\n",
      "Calculating maximum battery level for act 2.\n"
     ]
    },
    {
     "name": "stderr",
     "output_type": "stream",
     "text": [
      "C:\\Users\\jagm_li\\Documents\\vencopy_internal\\vencopy\\vencopy\\core\\flexestimators.py:253: FutureWarning: In a future version, `df.iloc[:, i] = newvals` will attempt to set the values inplace instead of always setting a new array. To retain the old behavior, use either `df[df.columns[i]] = newvals` or, if columns are non-unique, `df.isetitem(i, newvals)`\n",
      "  first_park_activities.loc[:, \"max_overshoot\"] = (\n",
      "C:\\Users\\jagm_li\\Documents\\vencopy_internal\\vencopy\\vencopy\\core\\flexestimators.py:274: FutureWarning: In a future version, `df.iloc[:, i] = newvals` will attempt to set the values inplace instead of always setting a new array. To retain the old behavior, use either `df[df.columns[i]] = newvals` or, if columns are non-unique, `df.isetitem(i, newvals)`\n",
      "  first_trip_activities.loc[:, \"max_residual_need\"] = res.where(\n",
      "C:\\Users\\jagm_li\\Documents\\vencopy_internal\\vencopy\\vencopy\\core\\flexestimators.py:361: FutureWarning: In a future version, `df.iloc[:, i] = newvals` will attempt to set the values inplace instead of always setting a new array. To retain the old behavior, use either `df[df.columns[i]] = newvals` or, if columns are non-unique, `df.isetitem(i, newvals)`\n",
      "  indeces_trip_activities.loc[multi_index_trip, \"max_residual_need\"] = res.where(\n",
      "C:\\Users\\jagm_li\\Documents\\vencopy_internal\\vencopy\\vencopy\\core\\flexestimators.py:361: FutureWarning: In a future version, `df.iloc[:, i] = newvals` will attempt to set the values inplace instead of always setting a new array. To retain the old behavior, use either `df[df.columns[i]] = newvals` or, if columns are non-unique, `df.isetitem(i, newvals)`\n",
      "  indeces_trip_activities.loc[multi_index_trip, \"max_residual_need\"] = res.where(\n"
     ]
    },
    {
     "name": "stdout",
     "output_type": "stream",
     "text": [
      "Calculating maximum battery level for act 3.\n",
      "Calculating maximum battery level for act 4.\n",
      "Calculating maximum battery level for act 5.\n"
     ]
    },
    {
     "name": "stderr",
     "output_type": "stream",
     "text": [
      "C:\\Users\\jagm_li\\Documents\\vencopy_internal\\vencopy\\vencopy\\core\\flexestimators.py:361: FutureWarning: In a future version, `df.iloc[:, i] = newvals` will attempt to set the values inplace instead of always setting a new array. To retain the old behavior, use either `df[df.columns[i]] = newvals` or, if columns are non-unique, `df.isetitem(i, newvals)`\n",
      "  indeces_trip_activities.loc[multi_index_trip, \"max_residual_need\"] = res.where(\n",
      "C:\\Users\\jagm_li\\Documents\\vencopy_internal\\vencopy\\vencopy\\core\\flexestimators.py:361: FutureWarning: In a future version, `df.iloc[:, i] = newvals` will attempt to set the values inplace instead of always setting a new array. To retain the old behavior, use either `df[df.columns[i]] = newvals` or, if columns are non-unique, `df.isetitem(i, newvals)`\n",
      "  indeces_trip_activities.loc[multi_index_trip, \"max_residual_need\"] = res.where(\n",
      "C:\\Users\\jagm_li\\Documents\\vencopy_internal\\vencopy\\vencopy\\core\\flexestimators.py:361: FutureWarning: In a future version, `df.iloc[:, i] = newvals` will attempt to set the values inplace instead of always setting a new array. To retain the old behavior, use either `df[df.columns[i]] = newvals` or, if columns are non-unique, `df.isetitem(i, newvals)`\n",
      "  indeces_trip_activities.loc[multi_index_trip, \"max_residual_need\"] = res.where(\n"
     ]
    },
    {
     "name": "stdout",
     "output_type": "stream",
     "text": [
      "Calculating maximum battery level for act 6.\n",
      "Calculating maximum battery level for act 7.\n",
      "Calculating maximum battery level for act 8.\n"
     ]
    },
    {
     "name": "stderr",
     "output_type": "stream",
     "text": [
      "C:\\Users\\jagm_li\\Documents\\vencopy_internal\\vencopy\\vencopy\\core\\flexestimators.py:361: FutureWarning: In a future version, `df.iloc[:, i] = newvals` will attempt to set the values inplace instead of always setting a new array. To retain the old behavior, use either `df[df.columns[i]] = newvals` or, if columns are non-unique, `df.isetitem(i, newvals)`\n",
      "  indeces_trip_activities.loc[multi_index_trip, \"max_residual_need\"] = res.where(\n",
      "C:\\Users\\jagm_li\\Documents\\vencopy_internal\\vencopy\\vencopy\\core\\flexestimators.py:361: FutureWarning: In a future version, `df.iloc[:, i] = newvals` will attempt to set the values inplace instead of always setting a new array. To retain the old behavior, use either `df[df.columns[i]] = newvals` or, if columns are non-unique, `df.isetitem(i, newvals)`\n",
      "  indeces_trip_activities.loc[multi_index_trip, \"max_residual_need\"] = res.where(\n",
      "C:\\Users\\jagm_li\\Documents\\vencopy_internal\\vencopy\\vencopy\\core\\flexestimators.py:361: FutureWarning: In a future version, `df.iloc[:, i] = newvals` will attempt to set the values inplace instead of always setting a new array. To retain the old behavior, use either `df[df.columns[i]] = newvals` or, if columns are non-unique, `df.isetitem(i, newvals)`\n",
      "  indeces_trip_activities.loc[multi_index_trip, \"max_residual_need\"] = res.where(\n"
     ]
    },
    {
     "name": "stdout",
     "output_type": "stream",
     "text": [
      "Calculating maximum battery level for act 9.\n",
      "Calculating maximum battery level for act 10.\n",
      "Calculating maximum battery level for act 11.\n"
     ]
    },
    {
     "name": "stderr",
     "output_type": "stream",
     "text": [
      "C:\\Users\\jagm_li\\Documents\\vencopy_internal\\vencopy\\vencopy\\core\\flexestimators.py:361: FutureWarning: In a future version, `df.iloc[:, i] = newvals` will attempt to set the values inplace instead of always setting a new array. To retain the old behavior, use either `df[df.columns[i]] = newvals` or, if columns are non-unique, `df.isetitem(i, newvals)`\n",
      "  indeces_trip_activities.loc[multi_index_trip, \"max_residual_need\"] = res.where(\n",
      "C:\\Users\\jagm_li\\Documents\\vencopy_internal\\vencopy\\vencopy\\core\\flexestimators.py:361: FutureWarning: In a future version, `df.iloc[:, i] = newvals` will attempt to set the values inplace instead of always setting a new array. To retain the old behavior, use either `df[df.columns[i]] = newvals` or, if columns are non-unique, `df.isetitem(i, newvals)`\n",
      "  indeces_trip_activities.loc[multi_index_trip, \"max_residual_need\"] = res.where(\n",
      "C:\\Users\\jagm_li\\Documents\\vencopy_internal\\vencopy\\vencopy\\core\\flexestimators.py:361: FutureWarning: In a future version, `df.iloc[:, i] = newvals` will attempt to set the values inplace instead of always setting a new array. To retain the old behavior, use either `df[df.columns[i]] = newvals` or, if columns are non-unique, `df.isetitem(i, newvals)`\n",
      "  indeces_trip_activities.loc[multi_index_trip, \"max_residual_need\"] = res.where(\n"
     ]
    },
    {
     "name": "stdout",
     "output_type": "stream",
     "text": [
      "Calculating maximum battery level for act 12.\n",
      "Finished iteration 1 / 10. Delta max battery level is 539, delta min battery level is 840 and threshold epsilon is 1.\n",
      "Starting maximum battery level calculation.\n",
      "Calculating maximum battery level for first activities.\n"
     ]
    },
    {
     "name": "stderr",
     "output_type": "stream",
     "text": [
      "C:\\Users\\jagm_li\\Documents\\vencopy_internal\\vencopy\\vencopy\\core\\flexestimators.py:361: FutureWarning: In a future version, `df.iloc[:, i] = newvals` will attempt to set the values inplace instead of always setting a new array. To retain the old behavior, use either `df[df.columns[i]] = newvals` or, if columns are non-unique, `df.isetitem(i, newvals)`\n",
      "  indeces_trip_activities.loc[multi_index_trip, \"max_residual_need\"] = res.where(\n",
      "C:\\Users\\jagm_li\\Documents\\vencopy_internal\\vencopy\\vencopy\\core\\flexestimators.py:253: FutureWarning: In a future version, `df.iloc[:, i] = newvals` will attempt to set the values inplace instead of always setting a new array. To retain the old behavior, use either `df[df.columns[i]] = newvals` or, if columns are non-unique, `df.isetitem(i, newvals)`\n",
      "  first_park_activities.loc[:, \"max_overshoot\"] = (\n",
      "C:\\Users\\jagm_li\\Documents\\vencopy_internal\\vencopy\\vencopy\\core\\flexestimators.py:274: FutureWarning: In a future version, `df.iloc[:, i] = newvals` will attempt to set the values inplace instead of always setting a new array. To retain the old behavior, use either `df[df.columns[i]] = newvals` or, if columns are non-unique, `df.isetitem(i, newvals)`\n",
      "  first_trip_activities.loc[:, \"max_residual_need\"] = res.where(\n",
      "C:\\Users\\jagm_li\\Documents\\vencopy_internal\\vencopy\\vencopy\\core\\flexestimators.py:361: FutureWarning: In a future version, `df.iloc[:, i] = newvals` will attempt to set the values inplace instead of always setting a new array. To retain the old behavior, use either `df[df.columns[i]] = newvals` or, if columns are non-unique, `df.isetitem(i, newvals)`\n",
      "  indeces_trip_activities.loc[multi_index_trip, \"max_residual_need\"] = res.where(\n"
     ]
    },
    {
     "name": "stdout",
     "output_type": "stream",
     "text": [
      "Calculating maximum battery level for act 1.\n",
      "Calculating maximum battery level for act 2.\n",
      "Calculating maximum battery level for act 3.\n"
     ]
    },
    {
     "name": "stderr",
     "output_type": "stream",
     "text": [
      "C:\\Users\\jagm_li\\Documents\\vencopy_internal\\vencopy\\vencopy\\core\\flexestimators.py:361: FutureWarning: In a future version, `df.iloc[:, i] = newvals` will attempt to set the values inplace instead of always setting a new array. To retain the old behavior, use either `df[df.columns[i]] = newvals` or, if columns are non-unique, `df.isetitem(i, newvals)`\n",
      "  indeces_trip_activities.loc[multi_index_trip, \"max_residual_need\"] = res.where(\n",
      "C:\\Users\\jagm_li\\Documents\\vencopy_internal\\vencopy\\vencopy\\core\\flexestimators.py:361: FutureWarning: In a future version, `df.iloc[:, i] = newvals` will attempt to set the values inplace instead of always setting a new array. To retain the old behavior, use either `df[df.columns[i]] = newvals` or, if columns are non-unique, `df.isetitem(i, newvals)`\n",
      "  indeces_trip_activities.loc[multi_index_trip, \"max_residual_need\"] = res.where(\n",
      "C:\\Users\\jagm_li\\Documents\\vencopy_internal\\vencopy\\vencopy\\core\\flexestimators.py:361: FutureWarning: In a future version, `df.iloc[:, i] = newvals` will attempt to set the values inplace instead of always setting a new array. To retain the old behavior, use either `df[df.columns[i]] = newvals` or, if columns are non-unique, `df.isetitem(i, newvals)`\n",
      "  indeces_trip_activities.loc[multi_index_trip, \"max_residual_need\"] = res.where(\n"
     ]
    },
    {
     "name": "stdout",
     "output_type": "stream",
     "text": [
      "Calculating maximum battery level for act 4.\n",
      "Calculating maximum battery level for act 5.\n",
      "Calculating maximum battery level for act 6.\n"
     ]
    },
    {
     "name": "stderr",
     "output_type": "stream",
     "text": [
      "C:\\Users\\jagm_li\\Documents\\vencopy_internal\\vencopy\\vencopy\\core\\flexestimators.py:361: FutureWarning: In a future version, `df.iloc[:, i] = newvals` will attempt to set the values inplace instead of always setting a new array. To retain the old behavior, use either `df[df.columns[i]] = newvals` or, if columns are non-unique, `df.isetitem(i, newvals)`\n",
      "  indeces_trip_activities.loc[multi_index_trip, \"max_residual_need\"] = res.where(\n",
      "C:\\Users\\jagm_li\\Documents\\vencopy_internal\\vencopy\\vencopy\\core\\flexestimators.py:361: FutureWarning: In a future version, `df.iloc[:, i] = newvals` will attempt to set the values inplace instead of always setting a new array. To retain the old behavior, use either `df[df.columns[i]] = newvals` or, if columns are non-unique, `df.isetitem(i, newvals)`\n",
      "  indeces_trip_activities.loc[multi_index_trip, \"max_residual_need\"] = res.where(\n",
      "C:\\Users\\jagm_li\\Documents\\vencopy_internal\\vencopy\\vencopy\\core\\flexestimators.py:361: FutureWarning: In a future version, `df.iloc[:, i] = newvals` will attempt to set the values inplace instead of always setting a new array. To retain the old behavior, use either `df[df.columns[i]] = newvals` or, if columns are non-unique, `df.isetitem(i, newvals)`\n",
      "  indeces_trip_activities.loc[multi_index_trip, \"max_residual_need\"] = res.where(\n"
     ]
    },
    {
     "name": "stdout",
     "output_type": "stream",
     "text": [
      "Calculating maximum battery level for act 7.\n",
      "Calculating maximum battery level for act 8.\n",
      "Calculating maximum battery level for act 9.\n"
     ]
    },
    {
     "name": "stderr",
     "output_type": "stream",
     "text": [
      "C:\\Users\\jagm_li\\Documents\\vencopy_internal\\vencopy\\vencopy\\core\\flexestimators.py:361: FutureWarning: In a future version, `df.iloc[:, i] = newvals` will attempt to set the values inplace instead of always setting a new array. To retain the old behavior, use either `df[df.columns[i]] = newvals` or, if columns are non-unique, `df.isetitem(i, newvals)`\n",
      "  indeces_trip_activities.loc[multi_index_trip, \"max_residual_need\"] = res.where(\n",
      "C:\\Users\\jagm_li\\Documents\\vencopy_internal\\vencopy\\vencopy\\core\\flexestimators.py:361: FutureWarning: In a future version, `df.iloc[:, i] = newvals` will attempt to set the values inplace instead of always setting a new array. To retain the old behavior, use either `df[df.columns[i]] = newvals` or, if columns are non-unique, `df.isetitem(i, newvals)`\n",
      "  indeces_trip_activities.loc[multi_index_trip, \"max_residual_need\"] = res.where(\n",
      "C:\\Users\\jagm_li\\Documents\\vencopy_internal\\vencopy\\vencopy\\core\\flexestimators.py:361: FutureWarning: In a future version, `df.iloc[:, i] = newvals` will attempt to set the values inplace instead of always setting a new array. To retain the old behavior, use either `df[df.columns[i]] = newvals` or, if columns are non-unique, `df.isetitem(i, newvals)`\n",
      "  indeces_trip_activities.loc[multi_index_trip, \"max_residual_need\"] = res.where(\n"
     ]
    },
    {
     "name": "stdout",
     "output_type": "stream",
     "text": [
      "Calculating maximum battery level for act 10.\n",
      "Calculating maximum battery level for act 11.\n",
      "Calculating maximum battery level for act 12.\n"
     ]
    },
    {
     "name": "stderr",
     "output_type": "stream",
     "text": [
      "C:\\Users\\jagm_li\\Documents\\vencopy_internal\\vencopy\\vencopy\\core\\flexestimators.py:361: FutureWarning: In a future version, `df.iloc[:, i] = newvals` will attempt to set the values inplace instead of always setting a new array. To retain the old behavior, use either `df[df.columns[i]] = newvals` or, if columns are non-unique, `df.isetitem(i, newvals)`\n",
      "  indeces_trip_activities.loc[multi_index_trip, \"max_residual_need\"] = res.where(\n",
      "C:\\Users\\jagm_li\\Documents\\vencopy_internal\\vencopy\\vencopy\\core\\flexestimators.py:361: FutureWarning: In a future version, `df.iloc[:, i] = newvals` will attempt to set the values inplace instead of always setting a new array. To retain the old behavior, use either `df[df.columns[i]] = newvals` or, if columns are non-unique, `df.isetitem(i, newvals)`\n",
      "  indeces_trip_activities.loc[multi_index_trip, \"max_residual_need\"] = res.where(\n"
     ]
    },
    {
     "name": "stdout",
     "output_type": "stream",
     "text": [
      "Finished iteration 2 / 10. Delta max battery level is 278, delta min battery level is 840 and threshold epsilon is 1.\n",
      "Starting maximum battery level calculation.\n",
      "Calculating maximum battery level for first activities.\n",
      "Calculating maximum battery level for act 1.\n",
      "Calculating maximum battery level for act 2.\n"
     ]
    },
    {
     "name": "stderr",
     "output_type": "stream",
     "text": [
      "C:\\Users\\jagm_li\\Documents\\vencopy_internal\\vencopy\\vencopy\\core\\flexestimators.py:253: FutureWarning: In a future version, `df.iloc[:, i] = newvals` will attempt to set the values inplace instead of always setting a new array. To retain the old behavior, use either `df[df.columns[i]] = newvals` or, if columns are non-unique, `df.isetitem(i, newvals)`\n",
      "  first_park_activities.loc[:, \"max_overshoot\"] = (\n",
      "C:\\Users\\jagm_li\\Documents\\vencopy_internal\\vencopy\\vencopy\\core\\flexestimators.py:274: FutureWarning: In a future version, `df.iloc[:, i] = newvals` will attempt to set the values inplace instead of always setting a new array. To retain the old behavior, use either `df[df.columns[i]] = newvals` or, if columns are non-unique, `df.isetitem(i, newvals)`\n",
      "  first_trip_activities.loc[:, \"max_residual_need\"] = res.where(\n",
      "C:\\Users\\jagm_li\\Documents\\vencopy_internal\\vencopy\\vencopy\\core\\flexestimators.py:361: FutureWarning: In a future version, `df.iloc[:, i] = newvals` will attempt to set the values inplace instead of always setting a new array. To retain the old behavior, use either `df[df.columns[i]] = newvals` or, if columns are non-unique, `df.isetitem(i, newvals)`\n",
      "  indeces_trip_activities.loc[multi_index_trip, \"max_residual_need\"] = res.where(\n",
      "C:\\Users\\jagm_li\\Documents\\vencopy_internal\\vencopy\\vencopy\\core\\flexestimators.py:361: FutureWarning: In a future version, `df.iloc[:, i] = newvals` will attempt to set the values inplace instead of always setting a new array. To retain the old behavior, use either `df[df.columns[i]] = newvals` or, if columns are non-unique, `df.isetitem(i, newvals)`\n",
      "  indeces_trip_activities.loc[multi_index_trip, \"max_residual_need\"] = res.where(\n"
     ]
    },
    {
     "name": "stdout",
     "output_type": "stream",
     "text": [
      "Calculating maximum battery level for act 3.\n",
      "Calculating maximum battery level for act 4.\n",
      "Calculating maximum battery level for act 5.\n"
     ]
    },
    {
     "name": "stderr",
     "output_type": "stream",
     "text": [
      "C:\\Users\\jagm_li\\Documents\\vencopy_internal\\vencopy\\vencopy\\core\\flexestimators.py:361: FutureWarning: In a future version, `df.iloc[:, i] = newvals` will attempt to set the values inplace instead of always setting a new array. To retain the old behavior, use either `df[df.columns[i]] = newvals` or, if columns are non-unique, `df.isetitem(i, newvals)`\n",
      "  indeces_trip_activities.loc[multi_index_trip, \"max_residual_need\"] = res.where(\n",
      "C:\\Users\\jagm_li\\Documents\\vencopy_internal\\vencopy\\vencopy\\core\\flexestimators.py:361: FutureWarning: In a future version, `df.iloc[:, i] = newvals` will attempt to set the values inplace instead of always setting a new array. To retain the old behavior, use either `df[df.columns[i]] = newvals` or, if columns are non-unique, `df.isetitem(i, newvals)`\n",
      "  indeces_trip_activities.loc[multi_index_trip, \"max_residual_need\"] = res.where(\n",
      "C:\\Users\\jagm_li\\Documents\\vencopy_internal\\vencopy\\vencopy\\core\\flexestimators.py:361: FutureWarning: In a future version, `df.iloc[:, i] = newvals` will attempt to set the values inplace instead of always setting a new array. To retain the old behavior, use either `df[df.columns[i]] = newvals` or, if columns are non-unique, `df.isetitem(i, newvals)`\n",
      "  indeces_trip_activities.loc[multi_index_trip, \"max_residual_need\"] = res.where(\n"
     ]
    },
    {
     "name": "stdout",
     "output_type": "stream",
     "text": [
      "Calculating maximum battery level for act 6.\n",
      "Calculating maximum battery level for act 7.\n",
      "Calculating maximum battery level for act 8.\n"
     ]
    },
    {
     "name": "stderr",
     "output_type": "stream",
     "text": [
      "C:\\Users\\jagm_li\\Documents\\vencopy_internal\\vencopy\\vencopy\\core\\flexestimators.py:361: FutureWarning: In a future version, `df.iloc[:, i] = newvals` will attempt to set the values inplace instead of always setting a new array. To retain the old behavior, use either `df[df.columns[i]] = newvals` or, if columns are non-unique, `df.isetitem(i, newvals)`\n",
      "  indeces_trip_activities.loc[multi_index_trip, \"max_residual_need\"] = res.where(\n",
      "C:\\Users\\jagm_li\\Documents\\vencopy_internal\\vencopy\\vencopy\\core\\flexestimators.py:361: FutureWarning: In a future version, `df.iloc[:, i] = newvals` will attempt to set the values inplace instead of always setting a new array. To retain the old behavior, use either `df[df.columns[i]] = newvals` or, if columns are non-unique, `df.isetitem(i, newvals)`\n",
      "  indeces_trip_activities.loc[multi_index_trip, \"max_residual_need\"] = res.where(\n",
      "C:\\Users\\jagm_li\\Documents\\vencopy_internal\\vencopy\\vencopy\\core\\flexestimators.py:361: FutureWarning: In a future version, `df.iloc[:, i] = newvals` will attempt to set the values inplace instead of always setting a new array. To retain the old behavior, use either `df[df.columns[i]] = newvals` or, if columns are non-unique, `df.isetitem(i, newvals)`\n",
      "  indeces_trip_activities.loc[multi_index_trip, \"max_residual_need\"] = res.where(\n"
     ]
    },
    {
     "name": "stdout",
     "output_type": "stream",
     "text": [
      "Calculating maximum battery level for act 9.\n",
      "Calculating maximum battery level for act 10.\n",
      "Calculating maximum battery level for act 11.\n"
     ]
    },
    {
     "name": "stderr",
     "output_type": "stream",
     "text": [
      "C:\\Users\\jagm_li\\Documents\\vencopy_internal\\vencopy\\vencopy\\core\\flexestimators.py:361: FutureWarning: In a future version, `df.iloc[:, i] = newvals` will attempt to set the values inplace instead of always setting a new array. To retain the old behavior, use either `df[df.columns[i]] = newvals` or, if columns are non-unique, `df.isetitem(i, newvals)`\n",
      "  indeces_trip_activities.loc[multi_index_trip, \"max_residual_need\"] = res.where(\n",
      "C:\\Users\\jagm_li\\Documents\\vencopy_internal\\vencopy\\vencopy\\core\\flexestimators.py:361: FutureWarning: In a future version, `df.iloc[:, i] = newvals` will attempt to set the values inplace instead of always setting a new array. To retain the old behavior, use either `df[df.columns[i]] = newvals` or, if columns are non-unique, `df.isetitem(i, newvals)`\n",
      "  indeces_trip_activities.loc[multi_index_trip, \"max_residual_need\"] = res.where(\n",
      "C:\\Users\\jagm_li\\Documents\\vencopy_internal\\vencopy\\vencopy\\core\\flexestimators.py:361: FutureWarning: In a future version, `df.iloc[:, i] = newvals` will attempt to set the values inplace instead of always setting a new array. To retain the old behavior, use either `df[df.columns[i]] = newvals` or, if columns are non-unique, `df.isetitem(i, newvals)`\n",
      "  indeces_trip_activities.loc[multi_index_trip, \"max_residual_need\"] = res.where(\n"
     ]
    },
    {
     "name": "stdout",
     "output_type": "stream",
     "text": [
      "Calculating maximum battery level for act 12.\n",
      "Finished iteration 3 / 10. Delta max battery level is 181, delta min battery level is 840 and threshold epsilon is 1.\n",
      "Starting maximum battery level calculation.\n",
      "Calculating maximum battery level for first activities.\n",
      "Calculating maximum battery level for act 1.\n"
     ]
    },
    {
     "name": "stderr",
     "output_type": "stream",
     "text": [
      "C:\\Users\\jagm_li\\Documents\\vencopy_internal\\vencopy\\vencopy\\core\\flexestimators.py:361: FutureWarning: In a future version, `df.iloc[:, i] = newvals` will attempt to set the values inplace instead of always setting a new array. To retain the old behavior, use either `df[df.columns[i]] = newvals` or, if columns are non-unique, `df.isetitem(i, newvals)`\n",
      "  indeces_trip_activities.loc[multi_index_trip, \"max_residual_need\"] = res.where(\n",
      "C:\\Users\\jagm_li\\Documents\\vencopy_internal\\vencopy\\vencopy\\core\\flexestimators.py:253: FutureWarning: In a future version, `df.iloc[:, i] = newvals` will attempt to set the values inplace instead of always setting a new array. To retain the old behavior, use either `df[df.columns[i]] = newvals` or, if columns are non-unique, `df.isetitem(i, newvals)`\n",
      "  first_park_activities.loc[:, \"max_overshoot\"] = (\n",
      "C:\\Users\\jagm_li\\Documents\\vencopy_internal\\vencopy\\vencopy\\core\\flexestimators.py:274: FutureWarning: In a future version, `df.iloc[:, i] = newvals` will attempt to set the values inplace instead of always setting a new array. To retain the old behavior, use either `df[df.columns[i]] = newvals` or, if columns are non-unique, `df.isetitem(i, newvals)`\n",
      "  first_trip_activities.loc[:, \"max_residual_need\"] = res.where(\n",
      "C:\\Users\\jagm_li\\Documents\\vencopy_internal\\vencopy\\vencopy\\core\\flexestimators.py:361: FutureWarning: In a future version, `df.iloc[:, i] = newvals` will attempt to set the values inplace instead of always setting a new array. To retain the old behavior, use either `df[df.columns[i]] = newvals` or, if columns are non-unique, `df.isetitem(i, newvals)`\n",
      "  indeces_trip_activities.loc[multi_index_trip, \"max_residual_need\"] = res.where(\n",
      "C:\\Users\\jagm_li\\Documents\\vencopy_internal\\vencopy\\vencopy\\core\\flexestimators.py:361: FutureWarning: In a future version, `df.iloc[:, i] = newvals` will attempt to set the values inplace instead of always setting a new array. To retain the old behavior, use either `df[df.columns[i]] = newvals` or, if columns are non-unique, `df.isetitem(i, newvals)`\n",
      "  indeces_trip_activities.loc[multi_index_trip, \"max_residual_need\"] = res.where(\n",
      "C:\\Users\\jagm_li\\Documents\\vencopy_internal\\vencopy\\vencopy\\core\\flexestimators.py:361: FutureWarning: In a future version, `df.iloc[:, i] = newvals` will attempt to set the values inplace instead of always setting a new array. To retain the old behavior, use either `df[df.columns[i]] = newvals` or, if columns are non-unique, `df.isetitem(i, newvals)`\n",
      "  indeces_trip_activities.loc[multi_index_trip, \"max_residual_need\"] = res.where(\n"
     ]
    },
    {
     "name": "stdout",
     "output_type": "stream",
     "text": [
      "Calculating maximum battery level for act 2.\n",
      "Calculating maximum battery level for act 3.\n",
      "Calculating maximum battery level for act 4.\n"
     ]
    },
    {
     "name": "stderr",
     "output_type": "stream",
     "text": [
      "C:\\Users\\jagm_li\\Documents\\vencopy_internal\\vencopy\\vencopy\\core\\flexestimators.py:361: FutureWarning: In a future version, `df.iloc[:, i] = newvals` will attempt to set the values inplace instead of always setting a new array. To retain the old behavior, use either `df[df.columns[i]] = newvals` or, if columns are non-unique, `df.isetitem(i, newvals)`\n",
      "  indeces_trip_activities.loc[multi_index_trip, \"max_residual_need\"] = res.where(\n",
      "C:\\Users\\jagm_li\\Documents\\vencopy_internal\\vencopy\\vencopy\\core\\flexestimators.py:361: FutureWarning: In a future version, `df.iloc[:, i] = newvals` will attempt to set the values inplace instead of always setting a new array. To retain the old behavior, use either `df[df.columns[i]] = newvals` or, if columns are non-unique, `df.isetitem(i, newvals)`\n",
      "  indeces_trip_activities.loc[multi_index_trip, \"max_residual_need\"] = res.where(\n",
      "C:\\Users\\jagm_li\\Documents\\vencopy_internal\\vencopy\\vencopy\\core\\flexestimators.py:361: FutureWarning: In a future version, `df.iloc[:, i] = newvals` will attempt to set the values inplace instead of always setting a new array. To retain the old behavior, use either `df[df.columns[i]] = newvals` or, if columns are non-unique, `df.isetitem(i, newvals)`\n",
      "  indeces_trip_activities.loc[multi_index_trip, \"max_residual_need\"] = res.where(\n"
     ]
    },
    {
     "name": "stdout",
     "output_type": "stream",
     "text": [
      "Calculating maximum battery level for act 5.\n",
      "Calculating maximum battery level for act 6.\n",
      "Calculating maximum battery level for act 7.\n"
     ]
    },
    {
     "name": "stderr",
     "output_type": "stream",
     "text": [
      "C:\\Users\\jagm_li\\Documents\\vencopy_internal\\vencopy\\vencopy\\core\\flexestimators.py:361: FutureWarning: In a future version, `df.iloc[:, i] = newvals` will attempt to set the values inplace instead of always setting a new array. To retain the old behavior, use either `df[df.columns[i]] = newvals` or, if columns are non-unique, `df.isetitem(i, newvals)`\n",
      "  indeces_trip_activities.loc[multi_index_trip, \"max_residual_need\"] = res.where(\n",
      "C:\\Users\\jagm_li\\Documents\\vencopy_internal\\vencopy\\vencopy\\core\\flexestimators.py:361: FutureWarning: In a future version, `df.iloc[:, i] = newvals` will attempt to set the values inplace instead of always setting a new array. To retain the old behavior, use either `df[df.columns[i]] = newvals` or, if columns are non-unique, `df.isetitem(i, newvals)`\n",
      "  indeces_trip_activities.loc[multi_index_trip, \"max_residual_need\"] = res.where(\n",
      "C:\\Users\\jagm_li\\Documents\\vencopy_internal\\vencopy\\vencopy\\core\\flexestimators.py:361: FutureWarning: In a future version, `df.iloc[:, i] = newvals` will attempt to set the values inplace instead of always setting a new array. To retain the old behavior, use either `df[df.columns[i]] = newvals` or, if columns are non-unique, `df.isetitem(i, newvals)`\n",
      "  indeces_trip_activities.loc[multi_index_trip, \"max_residual_need\"] = res.where(\n"
     ]
    },
    {
     "name": "stdout",
     "output_type": "stream",
     "text": [
      "Calculating maximum battery level for act 8.\n",
      "Calculating maximum battery level for act 9.\n",
      "Calculating maximum battery level for act 10.\n"
     ]
    },
    {
     "name": "stderr",
     "output_type": "stream",
     "text": [
      "C:\\Users\\jagm_li\\Documents\\vencopy_internal\\vencopy\\vencopy\\core\\flexestimators.py:361: FutureWarning: In a future version, `df.iloc[:, i] = newvals` will attempt to set the values inplace instead of always setting a new array. To retain the old behavior, use either `df[df.columns[i]] = newvals` or, if columns are non-unique, `df.isetitem(i, newvals)`\n",
      "  indeces_trip_activities.loc[multi_index_trip, \"max_residual_need\"] = res.where(\n",
      "C:\\Users\\jagm_li\\Documents\\vencopy_internal\\vencopy\\vencopy\\core\\flexestimators.py:361: FutureWarning: In a future version, `df.iloc[:, i] = newvals` will attempt to set the values inplace instead of always setting a new array. To retain the old behavior, use either `df[df.columns[i]] = newvals` or, if columns are non-unique, `df.isetitem(i, newvals)`\n",
      "  indeces_trip_activities.loc[multi_index_trip, \"max_residual_need\"] = res.where(\n",
      "C:\\Users\\jagm_li\\Documents\\vencopy_internal\\vencopy\\vencopy\\core\\flexestimators.py:361: FutureWarning: In a future version, `df.iloc[:, i] = newvals` will attempt to set the values inplace instead of always setting a new array. To retain the old behavior, use either `df[df.columns[i]] = newvals` or, if columns are non-unique, `df.isetitem(i, newvals)`\n",
      "  indeces_trip_activities.loc[multi_index_trip, \"max_residual_need\"] = res.where(\n"
     ]
    },
    {
     "name": "stdout",
     "output_type": "stream",
     "text": [
      "Calculating maximum battery level for act 11.\n",
      "Calculating maximum battery level for act 12.\n",
      "Finished iteration 4 / 10. Delta max battery level is 109, delta min battery level is 840 and threshold epsilon is 1.\n",
      "Starting maximum battery level calculation.\n",
      "Calculating maximum battery level for first activities.\n",
      "Calculating maximum battery level for act 1.\n",
      "Calculating maximum battery level for act 2.\n"
     ]
    },
    {
     "name": "stderr",
     "output_type": "stream",
     "text": [
      "C:\\Users\\jagm_li\\Documents\\vencopy_internal\\vencopy\\vencopy\\core\\flexestimators.py:253: FutureWarning: In a future version, `df.iloc[:, i] = newvals` will attempt to set the values inplace instead of always setting a new array. To retain the old behavior, use either `df[df.columns[i]] = newvals` or, if columns are non-unique, `df.isetitem(i, newvals)`\n",
      "  first_park_activities.loc[:, \"max_overshoot\"] = (\n",
      "C:\\Users\\jagm_li\\Documents\\vencopy_internal\\vencopy\\vencopy\\core\\flexestimators.py:274: FutureWarning: In a future version, `df.iloc[:, i] = newvals` will attempt to set the values inplace instead of always setting a new array. To retain the old behavior, use either `df[df.columns[i]] = newvals` or, if columns are non-unique, `df.isetitem(i, newvals)`\n",
      "  first_trip_activities.loc[:, \"max_residual_need\"] = res.where(\n",
      "C:\\Users\\jagm_li\\Documents\\vencopy_internal\\vencopy\\vencopy\\core\\flexestimators.py:361: FutureWarning: In a future version, `df.iloc[:, i] = newvals` will attempt to set the values inplace instead of always setting a new array. To retain the old behavior, use either `df[df.columns[i]] = newvals` or, if columns are non-unique, `df.isetitem(i, newvals)`\n",
      "  indeces_trip_activities.loc[multi_index_trip, \"max_residual_need\"] = res.where(\n",
      "C:\\Users\\jagm_li\\Documents\\vencopy_internal\\vencopy\\vencopy\\core\\flexestimators.py:361: FutureWarning: In a future version, `df.iloc[:, i] = newvals` will attempt to set the values inplace instead of always setting a new array. To retain the old behavior, use either `df[df.columns[i]] = newvals` or, if columns are non-unique, `df.isetitem(i, newvals)`\n",
      "  indeces_trip_activities.loc[multi_index_trip, \"max_residual_need\"] = res.where(\n"
     ]
    },
    {
     "name": "stdout",
     "output_type": "stream",
     "text": [
      "Calculating maximum battery level for act 3.\n",
      "Calculating maximum battery level for act 4.\n",
      "Calculating maximum battery level for act 5.\n"
     ]
    },
    {
     "name": "stderr",
     "output_type": "stream",
     "text": [
      "C:\\Users\\jagm_li\\Documents\\vencopy_internal\\vencopy\\vencopy\\core\\flexestimators.py:361: FutureWarning: In a future version, `df.iloc[:, i] = newvals` will attempt to set the values inplace instead of always setting a new array. To retain the old behavior, use either `df[df.columns[i]] = newvals` or, if columns are non-unique, `df.isetitem(i, newvals)`\n",
      "  indeces_trip_activities.loc[multi_index_trip, \"max_residual_need\"] = res.where(\n",
      "C:\\Users\\jagm_li\\Documents\\vencopy_internal\\vencopy\\vencopy\\core\\flexestimators.py:361: FutureWarning: In a future version, `df.iloc[:, i] = newvals` will attempt to set the values inplace instead of always setting a new array. To retain the old behavior, use either `df[df.columns[i]] = newvals` or, if columns are non-unique, `df.isetitem(i, newvals)`\n",
      "  indeces_trip_activities.loc[multi_index_trip, \"max_residual_need\"] = res.where(\n",
      "C:\\Users\\jagm_li\\Documents\\vencopy_internal\\vencopy\\vencopy\\core\\flexestimators.py:361: FutureWarning: In a future version, `df.iloc[:, i] = newvals` will attempt to set the values inplace instead of always setting a new array. To retain the old behavior, use either `df[df.columns[i]] = newvals` or, if columns are non-unique, `df.isetitem(i, newvals)`\n",
      "  indeces_trip_activities.loc[multi_index_trip, \"max_residual_need\"] = res.where(\n"
     ]
    },
    {
     "name": "stdout",
     "output_type": "stream",
     "text": [
      "Calculating maximum battery level for act 6.\n",
      "Calculating maximum battery level for act 7.\n",
      "Calculating maximum battery level for act 8.\n"
     ]
    },
    {
     "name": "stderr",
     "output_type": "stream",
     "text": [
      "C:\\Users\\jagm_li\\Documents\\vencopy_internal\\vencopy\\vencopy\\core\\flexestimators.py:361: FutureWarning: In a future version, `df.iloc[:, i] = newvals` will attempt to set the values inplace instead of always setting a new array. To retain the old behavior, use either `df[df.columns[i]] = newvals` or, if columns are non-unique, `df.isetitem(i, newvals)`\n",
      "  indeces_trip_activities.loc[multi_index_trip, \"max_residual_need\"] = res.where(\n",
      "C:\\Users\\jagm_li\\Documents\\vencopy_internal\\vencopy\\vencopy\\core\\flexestimators.py:361: FutureWarning: In a future version, `df.iloc[:, i] = newvals` will attempt to set the values inplace instead of always setting a new array. To retain the old behavior, use either `df[df.columns[i]] = newvals` or, if columns are non-unique, `df.isetitem(i, newvals)`\n",
      "  indeces_trip_activities.loc[multi_index_trip, \"max_residual_need\"] = res.where(\n",
      "C:\\Users\\jagm_li\\Documents\\vencopy_internal\\vencopy\\vencopy\\core\\flexestimators.py:361: FutureWarning: In a future version, `df.iloc[:, i] = newvals` will attempt to set the values inplace instead of always setting a new array. To retain the old behavior, use either `df[df.columns[i]] = newvals` or, if columns are non-unique, `df.isetitem(i, newvals)`\n",
      "  indeces_trip_activities.loc[multi_index_trip, \"max_residual_need\"] = res.where(\n"
     ]
    },
    {
     "name": "stdout",
     "output_type": "stream",
     "text": [
      "Calculating maximum battery level for act 9.\n",
      "Calculating maximum battery level for act 10.\n",
      "Calculating maximum battery level for act 11.\n"
     ]
    },
    {
     "name": "stderr",
     "output_type": "stream",
     "text": [
      "C:\\Users\\jagm_li\\Documents\\vencopy_internal\\vencopy\\vencopy\\core\\flexestimators.py:361: FutureWarning: In a future version, `df.iloc[:, i] = newvals` will attempt to set the values inplace instead of always setting a new array. To retain the old behavior, use either `df[df.columns[i]] = newvals` or, if columns are non-unique, `df.isetitem(i, newvals)`\n",
      "  indeces_trip_activities.loc[multi_index_trip, \"max_residual_need\"] = res.where(\n",
      "C:\\Users\\jagm_li\\Documents\\vencopy_internal\\vencopy\\vencopy\\core\\flexestimators.py:361: FutureWarning: In a future version, `df.iloc[:, i] = newvals` will attempt to set the values inplace instead of always setting a new array. To retain the old behavior, use either `df[df.columns[i]] = newvals` or, if columns are non-unique, `df.isetitem(i, newvals)`\n",
      "  indeces_trip_activities.loc[multi_index_trip, \"max_residual_need\"] = res.where(\n",
      "C:\\Users\\jagm_li\\Documents\\vencopy_internal\\vencopy\\vencopy\\core\\flexestimators.py:361: FutureWarning: In a future version, `df.iloc[:, i] = newvals` will attempt to set the values inplace instead of always setting a new array. To retain the old behavior, use either `df[df.columns[i]] = newvals` or, if columns are non-unique, `df.isetitem(i, newvals)`\n",
      "  indeces_trip_activities.loc[multi_index_trip, \"max_residual_need\"] = res.where(\n"
     ]
    },
    {
     "name": "stdout",
     "output_type": "stream",
     "text": [
      "Calculating maximum battery level for act 12.\n",
      "Finished iteration 5 / 10. Delta max battery level is 68, delta min battery level is 840 and threshold epsilon is 1.\n",
      "Starting maximum battery level calculation.\n",
      "Calculating maximum battery level for first activities.\n",
      "Calculating maximum battery level for act 1.\n"
     ]
    },
    {
     "name": "stderr",
     "output_type": "stream",
     "text": [
      "C:\\Users\\jagm_li\\Documents\\vencopy_internal\\vencopy\\vencopy\\core\\flexestimators.py:361: FutureWarning: In a future version, `df.iloc[:, i] = newvals` will attempt to set the values inplace instead of always setting a new array. To retain the old behavior, use either `df[df.columns[i]] = newvals` or, if columns are non-unique, `df.isetitem(i, newvals)`\n",
      "  indeces_trip_activities.loc[multi_index_trip, \"max_residual_need\"] = res.where(\n",
      "C:\\Users\\jagm_li\\Documents\\vencopy_internal\\vencopy\\vencopy\\core\\flexestimators.py:253: FutureWarning: In a future version, `df.iloc[:, i] = newvals` will attempt to set the values inplace instead of always setting a new array. To retain the old behavior, use either `df[df.columns[i]] = newvals` or, if columns are non-unique, `df.isetitem(i, newvals)`\n",
      "  first_park_activities.loc[:, \"max_overshoot\"] = (\n",
      "C:\\Users\\jagm_li\\Documents\\vencopy_internal\\vencopy\\vencopy\\core\\flexestimators.py:274: FutureWarning: In a future version, `df.iloc[:, i] = newvals` will attempt to set the values inplace instead of always setting a new array. To retain the old behavior, use either `df[df.columns[i]] = newvals` or, if columns are non-unique, `df.isetitem(i, newvals)`\n",
      "  first_trip_activities.loc[:, \"max_residual_need\"] = res.where(\n",
      "C:\\Users\\jagm_li\\Documents\\vencopy_internal\\vencopy\\vencopy\\core\\flexestimators.py:361: FutureWarning: In a future version, `df.iloc[:, i] = newvals` will attempt to set the values inplace instead of always setting a new array. To retain the old behavior, use either `df[df.columns[i]] = newvals` or, if columns are non-unique, `df.isetitem(i, newvals)`\n",
      "  indeces_trip_activities.loc[multi_index_trip, \"max_residual_need\"] = res.where(\n"
     ]
    },
    {
     "name": "stdout",
     "output_type": "stream",
     "text": [
      "Calculating maximum battery level for act 2.\n",
      "Calculating maximum battery level for act 3.\n",
      "Calculating maximum battery level for act 4.\n"
     ]
    },
    {
     "name": "stderr",
     "output_type": "stream",
     "text": [
      "C:\\Users\\jagm_li\\Documents\\vencopy_internal\\vencopy\\vencopy\\core\\flexestimators.py:361: FutureWarning: In a future version, `df.iloc[:, i] = newvals` will attempt to set the values inplace instead of always setting a new array. To retain the old behavior, use either `df[df.columns[i]] = newvals` or, if columns are non-unique, `df.isetitem(i, newvals)`\n",
      "  indeces_trip_activities.loc[multi_index_trip, \"max_residual_need\"] = res.where(\n",
      "C:\\Users\\jagm_li\\Documents\\vencopy_internal\\vencopy\\vencopy\\core\\flexestimators.py:361: FutureWarning: In a future version, `df.iloc[:, i] = newvals` will attempt to set the values inplace instead of always setting a new array. To retain the old behavior, use either `df[df.columns[i]] = newvals` or, if columns are non-unique, `df.isetitem(i, newvals)`\n",
      "  indeces_trip_activities.loc[multi_index_trip, \"max_residual_need\"] = res.where(\n",
      "C:\\Users\\jagm_li\\Documents\\vencopy_internal\\vencopy\\vencopy\\core\\flexestimators.py:361: FutureWarning: In a future version, `df.iloc[:, i] = newvals` will attempt to set the values inplace instead of always setting a new array. To retain the old behavior, use either `df[df.columns[i]] = newvals` or, if columns are non-unique, `df.isetitem(i, newvals)`\n",
      "  indeces_trip_activities.loc[multi_index_trip, \"max_residual_need\"] = res.where(\n"
     ]
    },
    {
     "name": "stdout",
     "output_type": "stream",
     "text": [
      "Calculating maximum battery level for act 5.\n",
      "Calculating maximum battery level for act 6.\n",
      "Calculating maximum battery level for act 7.\n"
     ]
    },
    {
     "name": "stderr",
     "output_type": "stream",
     "text": [
      "C:\\Users\\jagm_li\\Documents\\vencopy_internal\\vencopy\\vencopy\\core\\flexestimators.py:361: FutureWarning: In a future version, `df.iloc[:, i] = newvals` will attempt to set the values inplace instead of always setting a new array. To retain the old behavior, use either `df[df.columns[i]] = newvals` or, if columns are non-unique, `df.isetitem(i, newvals)`\n",
      "  indeces_trip_activities.loc[multi_index_trip, \"max_residual_need\"] = res.where(\n",
      "C:\\Users\\jagm_li\\Documents\\vencopy_internal\\vencopy\\vencopy\\core\\flexestimators.py:361: FutureWarning: In a future version, `df.iloc[:, i] = newvals` will attempt to set the values inplace instead of always setting a new array. To retain the old behavior, use either `df[df.columns[i]] = newvals` or, if columns are non-unique, `df.isetitem(i, newvals)`\n",
      "  indeces_trip_activities.loc[multi_index_trip, \"max_residual_need\"] = res.where(\n",
      "C:\\Users\\jagm_li\\Documents\\vencopy_internal\\vencopy\\vencopy\\core\\flexestimators.py:361: FutureWarning: In a future version, `df.iloc[:, i] = newvals` will attempt to set the values inplace instead of always setting a new array. To retain the old behavior, use either `df[df.columns[i]] = newvals` or, if columns are non-unique, `df.isetitem(i, newvals)`\n",
      "  indeces_trip_activities.loc[multi_index_trip, \"max_residual_need\"] = res.where(\n"
     ]
    },
    {
     "name": "stdout",
     "output_type": "stream",
     "text": [
      "Calculating maximum battery level for act 8.\n",
      "Calculating maximum battery level for act 9.\n",
      "Calculating maximum battery level for act 10.\n"
     ]
    },
    {
     "name": "stderr",
     "output_type": "stream",
     "text": [
      "C:\\Users\\jagm_li\\Documents\\vencopy_internal\\vencopy\\vencopy\\core\\flexestimators.py:361: FutureWarning: In a future version, `df.iloc[:, i] = newvals` will attempt to set the values inplace instead of always setting a new array. To retain the old behavior, use either `df[df.columns[i]] = newvals` or, if columns are non-unique, `df.isetitem(i, newvals)`\n",
      "  indeces_trip_activities.loc[multi_index_trip, \"max_residual_need\"] = res.where(\n",
      "C:\\Users\\jagm_li\\Documents\\vencopy_internal\\vencopy\\vencopy\\core\\flexestimators.py:361: FutureWarning: In a future version, `df.iloc[:, i] = newvals` will attempt to set the values inplace instead of always setting a new array. To retain the old behavior, use either `df[df.columns[i]] = newvals` or, if columns are non-unique, `df.isetitem(i, newvals)`\n",
      "  indeces_trip_activities.loc[multi_index_trip, \"max_residual_need\"] = res.where(\n",
      "C:\\Users\\jagm_li\\Documents\\vencopy_internal\\vencopy\\vencopy\\core\\flexestimators.py:361: FutureWarning: In a future version, `df.iloc[:, i] = newvals` will attempt to set the values inplace instead of always setting a new array. To retain the old behavior, use either `df[df.columns[i]] = newvals` or, if columns are non-unique, `df.isetitem(i, newvals)`\n",
      "  indeces_trip_activities.loc[multi_index_trip, \"max_residual_need\"] = res.where(\n"
     ]
    },
    {
     "name": "stdout",
     "output_type": "stream",
     "text": [
      "Calculating maximum battery level for act 11.\n",
      "Calculating maximum battery level for act 12.\n"
     ]
    },
    {
     "name": "stderr",
     "output_type": "stream",
     "text": [
      "C:\\Users\\jagm_li\\Documents\\vencopy_internal\\vencopy\\vencopy\\core\\flexestimators.py:361: FutureWarning: In a future version, `df.iloc[:, i] = newvals` will attempt to set the values inplace instead of always setting a new array. To retain the old behavior, use either `df[df.columns[i]] = newvals` or, if columns are non-unique, `df.isetitem(i, newvals)`\n",
      "  indeces_trip_activities.loc[multi_index_trip, \"max_residual_need\"] = res.where(\n",
      "C:\\Users\\jagm_li\\Documents\\vencopy_internal\\vencopy\\vencopy\\core\\flexestimators.py:361: FutureWarning: In a future version, `df.iloc[:, i] = newvals` will attempt to set the values inplace instead of always setting a new array. To retain the old behavior, use either `df[df.columns[i]] = newvals` or, if columns are non-unique, `df.isetitem(i, newvals)`\n",
      "  indeces_trip_activities.loc[multi_index_trip, \"max_residual_need\"] = res.where(\n"
     ]
    },
    {
     "name": "stdout",
     "output_type": "stream",
     "text": [
      "Finished iteration 6 / 10. Delta max battery level is 57, delta min battery level is 840 and threshold epsilon is 1.\n",
      "Starting maximum battery level calculation.\n",
      "Calculating maximum battery level for first activities.\n",
      "Calculating maximum battery level for act 1.\n",
      "Calculating maximum battery level for act 2.\n"
     ]
    },
    {
     "name": "stderr",
     "output_type": "stream",
     "text": [
      "C:\\Users\\jagm_li\\Documents\\vencopy_internal\\vencopy\\vencopy\\core\\flexestimators.py:253: FutureWarning: In a future version, `df.iloc[:, i] = newvals` will attempt to set the values inplace instead of always setting a new array. To retain the old behavior, use either `df[df.columns[i]] = newvals` or, if columns are non-unique, `df.isetitem(i, newvals)`\n",
      "  first_park_activities.loc[:, \"max_overshoot\"] = (\n",
      "C:\\Users\\jagm_li\\Documents\\vencopy_internal\\vencopy\\vencopy\\core\\flexestimators.py:274: FutureWarning: In a future version, `df.iloc[:, i] = newvals` will attempt to set the values inplace instead of always setting a new array. To retain the old behavior, use either `df[df.columns[i]] = newvals` or, if columns are non-unique, `df.isetitem(i, newvals)`\n",
      "  first_trip_activities.loc[:, \"max_residual_need\"] = res.where(\n",
      "C:\\Users\\jagm_li\\Documents\\vencopy_internal\\vencopy\\vencopy\\core\\flexestimators.py:361: FutureWarning: In a future version, `df.iloc[:, i] = newvals` will attempt to set the values inplace instead of always setting a new array. To retain the old behavior, use either `df[df.columns[i]] = newvals` or, if columns are non-unique, `df.isetitem(i, newvals)`\n",
      "  indeces_trip_activities.loc[multi_index_trip, \"max_residual_need\"] = res.where(\n",
      "C:\\Users\\jagm_li\\Documents\\vencopy_internal\\vencopy\\vencopy\\core\\flexestimators.py:361: FutureWarning: In a future version, `df.iloc[:, i] = newvals` will attempt to set the values inplace instead of always setting a new array. To retain the old behavior, use either `df[df.columns[i]] = newvals` or, if columns are non-unique, `df.isetitem(i, newvals)`\n",
      "  indeces_trip_activities.loc[multi_index_trip, \"max_residual_need\"] = res.where(\n"
     ]
    },
    {
     "name": "stdout",
     "output_type": "stream",
     "text": [
      "Calculating maximum battery level for act 3.\n",
      "Calculating maximum battery level for act 4.\n",
      "Calculating maximum battery level for act 5.\n"
     ]
    },
    {
     "name": "stderr",
     "output_type": "stream",
     "text": [
      "C:\\Users\\jagm_li\\Documents\\vencopy_internal\\vencopy\\vencopy\\core\\flexestimators.py:361: FutureWarning: In a future version, `df.iloc[:, i] = newvals` will attempt to set the values inplace instead of always setting a new array. To retain the old behavior, use either `df[df.columns[i]] = newvals` or, if columns are non-unique, `df.isetitem(i, newvals)`\n",
      "  indeces_trip_activities.loc[multi_index_trip, \"max_residual_need\"] = res.where(\n",
      "C:\\Users\\jagm_li\\Documents\\vencopy_internal\\vencopy\\vencopy\\core\\flexestimators.py:361: FutureWarning: In a future version, `df.iloc[:, i] = newvals` will attempt to set the values inplace instead of always setting a new array. To retain the old behavior, use either `df[df.columns[i]] = newvals` or, if columns are non-unique, `df.isetitem(i, newvals)`\n",
      "  indeces_trip_activities.loc[multi_index_trip, \"max_residual_need\"] = res.where(\n",
      "C:\\Users\\jagm_li\\Documents\\vencopy_internal\\vencopy\\vencopy\\core\\flexestimators.py:361: FutureWarning: In a future version, `df.iloc[:, i] = newvals` will attempt to set the values inplace instead of always setting a new array. To retain the old behavior, use either `df[df.columns[i]] = newvals` or, if columns are non-unique, `df.isetitem(i, newvals)`\n",
      "  indeces_trip_activities.loc[multi_index_trip, \"max_residual_need\"] = res.where(\n"
     ]
    },
    {
     "name": "stdout",
     "output_type": "stream",
     "text": [
      "Calculating maximum battery level for act 6.\n",
      "Calculating maximum battery level for act 7.\n",
      "Calculating maximum battery level for act 8.\n"
     ]
    },
    {
     "name": "stderr",
     "output_type": "stream",
     "text": [
      "C:\\Users\\jagm_li\\Documents\\vencopy_internal\\vencopy\\vencopy\\core\\flexestimators.py:361: FutureWarning: In a future version, `df.iloc[:, i] = newvals` will attempt to set the values inplace instead of always setting a new array. To retain the old behavior, use either `df[df.columns[i]] = newvals` or, if columns are non-unique, `df.isetitem(i, newvals)`\n",
      "  indeces_trip_activities.loc[multi_index_trip, \"max_residual_need\"] = res.where(\n",
      "C:\\Users\\jagm_li\\Documents\\vencopy_internal\\vencopy\\vencopy\\core\\flexestimators.py:361: FutureWarning: In a future version, `df.iloc[:, i] = newvals` will attempt to set the values inplace instead of always setting a new array. To retain the old behavior, use either `df[df.columns[i]] = newvals` or, if columns are non-unique, `df.isetitem(i, newvals)`\n",
      "  indeces_trip_activities.loc[multi_index_trip, \"max_residual_need\"] = res.where(\n",
      "C:\\Users\\jagm_li\\Documents\\vencopy_internal\\vencopy\\vencopy\\core\\flexestimators.py:361: FutureWarning: In a future version, `df.iloc[:, i] = newvals` will attempt to set the values inplace instead of always setting a new array. To retain the old behavior, use either `df[df.columns[i]] = newvals` or, if columns are non-unique, `df.isetitem(i, newvals)`\n",
      "  indeces_trip_activities.loc[multi_index_trip, \"max_residual_need\"] = res.where(\n"
     ]
    },
    {
     "name": "stdout",
     "output_type": "stream",
     "text": [
      "Calculating maximum battery level for act 9.\n",
      "Calculating maximum battery level for act 10.\n",
      "Calculating maximum battery level for act 11.\n"
     ]
    },
    {
     "name": "stderr",
     "output_type": "stream",
     "text": [
      "C:\\Users\\jagm_li\\Documents\\vencopy_internal\\vencopy\\vencopy\\core\\flexestimators.py:361: FutureWarning: In a future version, `df.iloc[:, i] = newvals` will attempt to set the values inplace instead of always setting a new array. To retain the old behavior, use either `df[df.columns[i]] = newvals` or, if columns are non-unique, `df.isetitem(i, newvals)`\n",
      "  indeces_trip_activities.loc[multi_index_trip, \"max_residual_need\"] = res.where(\n",
      "C:\\Users\\jagm_li\\Documents\\vencopy_internal\\vencopy\\vencopy\\core\\flexestimators.py:361: FutureWarning: In a future version, `df.iloc[:, i] = newvals` will attempt to set the values inplace instead of always setting a new array. To retain the old behavior, use either `df[df.columns[i]] = newvals` or, if columns are non-unique, `df.isetitem(i, newvals)`\n",
      "  indeces_trip_activities.loc[multi_index_trip, \"max_residual_need\"] = res.where(\n",
      "C:\\Users\\jagm_li\\Documents\\vencopy_internal\\vencopy\\vencopy\\core\\flexestimators.py:361: FutureWarning: In a future version, `df.iloc[:, i] = newvals` will attempt to set the values inplace instead of always setting a new array. To retain the old behavior, use either `df[df.columns[i]] = newvals` or, if columns are non-unique, `df.isetitem(i, newvals)`\n",
      "  indeces_trip_activities.loc[multi_index_trip, \"max_residual_need\"] = res.where(\n"
     ]
    },
    {
     "name": "stdout",
     "output_type": "stream",
     "text": [
      "Calculating maximum battery level for act 12.\n",
      "Finished iteration 7 / 10. Delta max battery level is 48, delta min battery level is 840 and threshold epsilon is 1.\n",
      "Starting maximum battery level calculation.\n",
      "Calculating maximum battery level for first activities.\n",
      "Calculating maximum battery level for act 1.\n"
     ]
    },
    {
     "name": "stderr",
     "output_type": "stream",
     "text": [
      "C:\\Users\\jagm_li\\Documents\\vencopy_internal\\vencopy\\vencopy\\core\\flexestimators.py:361: FutureWarning: In a future version, `df.iloc[:, i] = newvals` will attempt to set the values inplace instead of always setting a new array. To retain the old behavior, use either `df[df.columns[i]] = newvals` or, if columns are non-unique, `df.isetitem(i, newvals)`\n",
      "  indeces_trip_activities.loc[multi_index_trip, \"max_residual_need\"] = res.where(\n",
      "C:\\Users\\jagm_li\\Documents\\vencopy_internal\\vencopy\\vencopy\\core\\flexestimators.py:253: FutureWarning: In a future version, `df.iloc[:, i] = newvals` will attempt to set the values inplace instead of always setting a new array. To retain the old behavior, use either `df[df.columns[i]] = newvals` or, if columns are non-unique, `df.isetitem(i, newvals)`\n",
      "  first_park_activities.loc[:, \"max_overshoot\"] = (\n",
      "C:\\Users\\jagm_li\\Documents\\vencopy_internal\\vencopy\\vencopy\\core\\flexestimators.py:274: FutureWarning: In a future version, `df.iloc[:, i] = newvals` will attempt to set the values inplace instead of always setting a new array. To retain the old behavior, use either `df[df.columns[i]] = newvals` or, if columns are non-unique, `df.isetitem(i, newvals)`\n",
      "  first_trip_activities.loc[:, \"max_residual_need\"] = res.where(\n",
      "C:\\Users\\jagm_li\\Documents\\vencopy_internal\\vencopy\\vencopy\\core\\flexestimators.py:361: FutureWarning: In a future version, `df.iloc[:, i] = newvals` will attempt to set the values inplace instead of always setting a new array. To retain the old behavior, use either `df[df.columns[i]] = newvals` or, if columns are non-unique, `df.isetitem(i, newvals)`\n",
      "  indeces_trip_activities.loc[multi_index_trip, \"max_residual_need\"] = res.where(\n",
      "C:\\Users\\jagm_li\\Documents\\vencopy_internal\\vencopy\\vencopy\\core\\flexestimators.py:361: FutureWarning: In a future version, `df.iloc[:, i] = newvals` will attempt to set the values inplace instead of always setting a new array. To retain the old behavior, use either `df[df.columns[i]] = newvals` or, if columns are non-unique, `df.isetitem(i, newvals)`\n",
      "  indeces_trip_activities.loc[multi_index_trip, \"max_residual_need\"] = res.where(\n",
      "C:\\Users\\jagm_li\\Documents\\vencopy_internal\\vencopy\\vencopy\\core\\flexestimators.py:361: FutureWarning: In a future version, `df.iloc[:, i] = newvals` will attempt to set the values inplace instead of always setting a new array. To retain the old behavior, use either `df[df.columns[i]] = newvals` or, if columns are non-unique, `df.isetitem(i, newvals)`\n",
      "  indeces_trip_activities.loc[multi_index_trip, \"max_residual_need\"] = res.where(\n"
     ]
    },
    {
     "name": "stdout",
     "output_type": "stream",
     "text": [
      "Calculating maximum battery level for act 2.\n",
      "Calculating maximum battery level for act 3.\n",
      "Calculating maximum battery level for act 4.\n"
     ]
    },
    {
     "name": "stderr",
     "output_type": "stream",
     "text": [
      "C:\\Users\\jagm_li\\Documents\\vencopy_internal\\vencopy\\vencopy\\core\\flexestimators.py:361: FutureWarning: In a future version, `df.iloc[:, i] = newvals` will attempt to set the values inplace instead of always setting a new array. To retain the old behavior, use either `df[df.columns[i]] = newvals` or, if columns are non-unique, `df.isetitem(i, newvals)`\n",
      "  indeces_trip_activities.loc[multi_index_trip, \"max_residual_need\"] = res.where(\n",
      "C:\\Users\\jagm_li\\Documents\\vencopy_internal\\vencopy\\vencopy\\core\\flexestimators.py:361: FutureWarning: In a future version, `df.iloc[:, i] = newvals` will attempt to set the values inplace instead of always setting a new array. To retain the old behavior, use either `df[df.columns[i]] = newvals` or, if columns are non-unique, `df.isetitem(i, newvals)`\n",
      "  indeces_trip_activities.loc[multi_index_trip, \"max_residual_need\"] = res.where(\n",
      "C:\\Users\\jagm_li\\Documents\\vencopy_internal\\vencopy\\vencopy\\core\\flexestimators.py:361: FutureWarning: In a future version, `df.iloc[:, i] = newvals` will attempt to set the values inplace instead of always setting a new array. To retain the old behavior, use either `df[df.columns[i]] = newvals` or, if columns are non-unique, `df.isetitem(i, newvals)`\n",
      "  indeces_trip_activities.loc[multi_index_trip, \"max_residual_need\"] = res.where(\n"
     ]
    },
    {
     "name": "stdout",
     "output_type": "stream",
     "text": [
      "Calculating maximum battery level for act 5.\n",
      "Calculating maximum battery level for act 6.\n",
      "Calculating maximum battery level for act 7.\n"
     ]
    },
    {
     "name": "stderr",
     "output_type": "stream",
     "text": [
      "C:\\Users\\jagm_li\\Documents\\vencopy_internal\\vencopy\\vencopy\\core\\flexestimators.py:361: FutureWarning: In a future version, `df.iloc[:, i] = newvals` will attempt to set the values inplace instead of always setting a new array. To retain the old behavior, use either `df[df.columns[i]] = newvals` or, if columns are non-unique, `df.isetitem(i, newvals)`\n",
      "  indeces_trip_activities.loc[multi_index_trip, \"max_residual_need\"] = res.where(\n",
      "C:\\Users\\jagm_li\\Documents\\vencopy_internal\\vencopy\\vencopy\\core\\flexestimators.py:361: FutureWarning: In a future version, `df.iloc[:, i] = newvals` will attempt to set the values inplace instead of always setting a new array. To retain the old behavior, use either `df[df.columns[i]] = newvals` or, if columns are non-unique, `df.isetitem(i, newvals)`\n",
      "  indeces_trip_activities.loc[multi_index_trip, \"max_residual_need\"] = res.where(\n",
      "C:\\Users\\jagm_li\\Documents\\vencopy_internal\\vencopy\\vencopy\\core\\flexestimators.py:361: FutureWarning: In a future version, `df.iloc[:, i] = newvals` will attempt to set the values inplace instead of always setting a new array. To retain the old behavior, use either `df[df.columns[i]] = newvals` or, if columns are non-unique, `df.isetitem(i, newvals)`\n",
      "  indeces_trip_activities.loc[multi_index_trip, \"max_residual_need\"] = res.where(\n"
     ]
    },
    {
     "name": "stdout",
     "output_type": "stream",
     "text": [
      "Calculating maximum battery level for act 8.\n",
      "Calculating maximum battery level for act 9.\n",
      "Calculating maximum battery level for act 10.\n"
     ]
    },
    {
     "name": "stderr",
     "output_type": "stream",
     "text": [
      "C:\\Users\\jagm_li\\Documents\\vencopy_internal\\vencopy\\vencopy\\core\\flexestimators.py:361: FutureWarning: In a future version, `df.iloc[:, i] = newvals` will attempt to set the values inplace instead of always setting a new array. To retain the old behavior, use either `df[df.columns[i]] = newvals` or, if columns are non-unique, `df.isetitem(i, newvals)`\n",
      "  indeces_trip_activities.loc[multi_index_trip, \"max_residual_need\"] = res.where(\n",
      "C:\\Users\\jagm_li\\Documents\\vencopy_internal\\vencopy\\vencopy\\core\\flexestimators.py:361: FutureWarning: In a future version, `df.iloc[:, i] = newvals` will attempt to set the values inplace instead of always setting a new array. To retain the old behavior, use either `df[df.columns[i]] = newvals` or, if columns are non-unique, `df.isetitem(i, newvals)`\n",
      "  indeces_trip_activities.loc[multi_index_trip, \"max_residual_need\"] = res.where(\n",
      "C:\\Users\\jagm_li\\Documents\\vencopy_internal\\vencopy\\vencopy\\core\\flexestimators.py:361: FutureWarning: In a future version, `df.iloc[:, i] = newvals` will attempt to set the values inplace instead of always setting a new array. To retain the old behavior, use either `df[df.columns[i]] = newvals` or, if columns are non-unique, `df.isetitem(i, newvals)`\n",
      "  indeces_trip_activities.loc[multi_index_trip, \"max_residual_need\"] = res.where(\n"
     ]
    },
    {
     "name": "stdout",
     "output_type": "stream",
     "text": [
      "Calculating maximum battery level for act 11.\n",
      "Calculating maximum battery level for act 12.\n",
      "Finished iteration 8 / 10. Delta max battery level is 43, delta min battery level is 840 and threshold epsilon is 1.\n",
      "Starting maximum battery level calculation.\n",
      "Calculating maximum battery level for first activities.\n",
      "Calculating maximum battery level for act 1.\n",
      "Calculating maximum battery level for act 2.\n"
     ]
    },
    {
     "name": "stderr",
     "output_type": "stream",
     "text": [
      "C:\\Users\\jagm_li\\Documents\\vencopy_internal\\vencopy\\vencopy\\core\\flexestimators.py:253: FutureWarning: In a future version, `df.iloc[:, i] = newvals` will attempt to set the values inplace instead of always setting a new array. To retain the old behavior, use either `df[df.columns[i]] = newvals` or, if columns are non-unique, `df.isetitem(i, newvals)`\n",
      "  first_park_activities.loc[:, \"max_overshoot\"] = (\n",
      "C:\\Users\\jagm_li\\Documents\\vencopy_internal\\vencopy\\vencopy\\core\\flexestimators.py:274: FutureWarning: In a future version, `df.iloc[:, i] = newvals` will attempt to set the values inplace instead of always setting a new array. To retain the old behavior, use either `df[df.columns[i]] = newvals` or, if columns are non-unique, `df.isetitem(i, newvals)`\n",
      "  first_trip_activities.loc[:, \"max_residual_need\"] = res.where(\n",
      "C:\\Users\\jagm_li\\Documents\\vencopy_internal\\vencopy\\vencopy\\core\\flexestimators.py:361: FutureWarning: In a future version, `df.iloc[:, i] = newvals` will attempt to set the values inplace instead of always setting a new array. To retain the old behavior, use either `df[df.columns[i]] = newvals` or, if columns are non-unique, `df.isetitem(i, newvals)`\n",
      "  indeces_trip_activities.loc[multi_index_trip, \"max_residual_need\"] = res.where(\n",
      "C:\\Users\\jagm_li\\Documents\\vencopy_internal\\vencopy\\vencopy\\core\\flexestimators.py:361: FutureWarning: In a future version, `df.iloc[:, i] = newvals` will attempt to set the values inplace instead of always setting a new array. To retain the old behavior, use either `df[df.columns[i]] = newvals` or, if columns are non-unique, `df.isetitem(i, newvals)`\n",
      "  indeces_trip_activities.loc[multi_index_trip, \"max_residual_need\"] = res.where(\n"
     ]
    },
    {
     "name": "stdout",
     "output_type": "stream",
     "text": [
      "Calculating maximum battery level for act 3.\n",
      "Calculating maximum battery level for act 4.\n",
      "Calculating maximum battery level for act 5.\n"
     ]
    },
    {
     "name": "stderr",
     "output_type": "stream",
     "text": [
      "C:\\Users\\jagm_li\\Documents\\vencopy_internal\\vencopy\\vencopy\\core\\flexestimators.py:361: FutureWarning: In a future version, `df.iloc[:, i] = newvals` will attempt to set the values inplace instead of always setting a new array. To retain the old behavior, use either `df[df.columns[i]] = newvals` or, if columns are non-unique, `df.isetitem(i, newvals)`\n",
      "  indeces_trip_activities.loc[multi_index_trip, \"max_residual_need\"] = res.where(\n",
      "C:\\Users\\jagm_li\\Documents\\vencopy_internal\\vencopy\\vencopy\\core\\flexestimators.py:361: FutureWarning: In a future version, `df.iloc[:, i] = newvals` will attempt to set the values inplace instead of always setting a new array. To retain the old behavior, use either `df[df.columns[i]] = newvals` or, if columns are non-unique, `df.isetitem(i, newvals)`\n",
      "  indeces_trip_activities.loc[multi_index_trip, \"max_residual_need\"] = res.where(\n",
      "C:\\Users\\jagm_li\\Documents\\vencopy_internal\\vencopy\\vencopy\\core\\flexestimators.py:361: FutureWarning: In a future version, `df.iloc[:, i] = newvals` will attempt to set the values inplace instead of always setting a new array. To retain the old behavior, use either `df[df.columns[i]] = newvals` or, if columns are non-unique, `df.isetitem(i, newvals)`\n",
      "  indeces_trip_activities.loc[multi_index_trip, \"max_residual_need\"] = res.where(\n"
     ]
    },
    {
     "name": "stdout",
     "output_type": "stream",
     "text": [
      "Calculating maximum battery level for act 6.\n",
      "Calculating maximum battery level for act 7.\n",
      "Calculating maximum battery level for act 8.\n"
     ]
    },
    {
     "name": "stderr",
     "output_type": "stream",
     "text": [
      "C:\\Users\\jagm_li\\Documents\\vencopy_internal\\vencopy\\vencopy\\core\\flexestimators.py:361: FutureWarning: In a future version, `df.iloc[:, i] = newvals` will attempt to set the values inplace instead of always setting a new array. To retain the old behavior, use either `df[df.columns[i]] = newvals` or, if columns are non-unique, `df.isetitem(i, newvals)`\n",
      "  indeces_trip_activities.loc[multi_index_trip, \"max_residual_need\"] = res.where(\n",
      "C:\\Users\\jagm_li\\Documents\\vencopy_internal\\vencopy\\vencopy\\core\\flexestimators.py:361: FutureWarning: In a future version, `df.iloc[:, i] = newvals` will attempt to set the values inplace instead of always setting a new array. To retain the old behavior, use either `df[df.columns[i]] = newvals` or, if columns are non-unique, `df.isetitem(i, newvals)`\n",
      "  indeces_trip_activities.loc[multi_index_trip, \"max_residual_need\"] = res.where(\n",
      "C:\\Users\\jagm_li\\Documents\\vencopy_internal\\vencopy\\vencopy\\core\\flexestimators.py:361: FutureWarning: In a future version, `df.iloc[:, i] = newvals` will attempt to set the values inplace instead of always setting a new array. To retain the old behavior, use either `df[df.columns[i]] = newvals` or, if columns are non-unique, `df.isetitem(i, newvals)`\n",
      "  indeces_trip_activities.loc[multi_index_trip, \"max_residual_need\"] = res.where(\n"
     ]
    },
    {
     "name": "stdout",
     "output_type": "stream",
     "text": [
      "Calculating maximum battery level for act 9.\n",
      "Calculating maximum battery level for act 10.\n"
     ]
    },
    {
     "name": "stderr",
     "output_type": "stream",
     "text": [
      "C:\\Users\\jagm_li\\Documents\\vencopy_internal\\vencopy\\vencopy\\core\\flexestimators.py:361: FutureWarning: In a future version, `df.iloc[:, i] = newvals` will attempt to set the values inplace instead of always setting a new array. To retain the old behavior, use either `df[df.columns[i]] = newvals` or, if columns are non-unique, `df.isetitem(i, newvals)`\n",
      "  indeces_trip_activities.loc[multi_index_trip, \"max_residual_need\"] = res.where(\n",
      "C:\\Users\\jagm_li\\Documents\\vencopy_internal\\vencopy\\vencopy\\core\\flexestimators.py:361: FutureWarning: In a future version, `df.iloc[:, i] = newvals` will attempt to set the values inplace instead of always setting a new array. To retain the old behavior, use either `df[df.columns[i]] = newvals` or, if columns are non-unique, `df.isetitem(i, newvals)`\n",
      "  indeces_trip_activities.loc[multi_index_trip, \"max_residual_need\"] = res.where(\n",
      "C:\\Users\\jagm_li\\Documents\\vencopy_internal\\vencopy\\vencopy\\core\\flexestimators.py:361: FutureWarning: In a future version, `df.iloc[:, i] = newvals` will attempt to set the values inplace instead of always setting a new array. To retain the old behavior, use either `df[df.columns[i]] = newvals` or, if columns are non-unique, `df.isetitem(i, newvals)`\n",
      "  indeces_trip_activities.loc[multi_index_trip, \"max_residual_need\"] = res.where(\n"
     ]
    },
    {
     "name": "stdout",
     "output_type": "stream",
     "text": [
      "Calculating maximum battery level for act 11.\n",
      "Calculating maximum battery level for act 12.\n"
     ]
    },
    {
     "name": "stderr",
     "output_type": "stream",
     "text": [
      "C:\\Users\\jagm_li\\Documents\\vencopy_internal\\vencopy\\vencopy\\core\\flexestimators.py:361: FutureWarning: In a future version, `df.iloc[:, i] = newvals` will attempt to set the values inplace instead of always setting a new array. To retain the old behavior, use either `df[df.columns[i]] = newvals` or, if columns are non-unique, `df.isetitem(i, newvals)`\n",
      "  indeces_trip_activities.loc[multi_index_trip, \"max_residual_need\"] = res.where(\n",
      "C:\\Users\\jagm_li\\Documents\\vencopy_internal\\vencopy\\vencopy\\core\\flexestimators.py:253: FutureWarning: In a future version, `df.iloc[:, i] = newvals` will attempt to set the values inplace instead of always setting a new array. To retain the old behavior, use either `df[df.columns[i]] = newvals` or, if columns are non-unique, `df.isetitem(i, newvals)`\n",
      "  first_park_activities.loc[:, \"max_overshoot\"] = (\n",
      "C:\\Users\\jagm_li\\Documents\\vencopy_internal\\vencopy\\vencopy\\core\\flexestimators.py:274: FutureWarning: In a future version, `df.iloc[:, i] = newvals` will attempt to set the values inplace instead of always setting a new array. To retain the old behavior, use either `df[df.columns[i]] = newvals` or, if columns are non-unique, `df.isetitem(i, newvals)`\n",
      "  first_trip_activities.loc[:, \"max_residual_need\"] = res.where(\n"
     ]
    },
    {
     "name": "stdout",
     "output_type": "stream",
     "text": [
      "Finished iteration 9 / 10. Delta max battery level is 34, delta min battery level is 840 and threshold epsilon is 1.\n",
      "Starting maximum battery level calculation.\n",
      "Calculating maximum battery level for first activities.\n",
      "Calculating maximum battery level for act 1.\n",
      "Calculating maximum battery level for act 2.\n"
     ]
    },
    {
     "name": "stderr",
     "output_type": "stream",
     "text": [
      "C:\\Users\\jagm_li\\Documents\\vencopy_internal\\vencopy\\vencopy\\core\\flexestimators.py:361: FutureWarning: In a future version, `df.iloc[:, i] = newvals` will attempt to set the values inplace instead of always setting a new array. To retain the old behavior, use either `df[df.columns[i]] = newvals` or, if columns are non-unique, `df.isetitem(i, newvals)`\n",
      "  indeces_trip_activities.loc[multi_index_trip, \"max_residual_need\"] = res.where(\n",
      "C:\\Users\\jagm_li\\Documents\\vencopy_internal\\vencopy\\vencopy\\core\\flexestimators.py:361: FutureWarning: In a future version, `df.iloc[:, i] = newvals` will attempt to set the values inplace instead of always setting a new array. To retain the old behavior, use either `df[df.columns[i]] = newvals` or, if columns are non-unique, `df.isetitem(i, newvals)`\n",
      "  indeces_trip_activities.loc[multi_index_trip, \"max_residual_need\"] = res.where(\n"
     ]
    },
    {
     "name": "stdout",
     "output_type": "stream",
     "text": [
      "Calculating maximum battery level for act 3.\n",
      "Calculating maximum battery level for act 4.\n",
      "Calculating maximum battery level for act 5.\n"
     ]
    },
    {
     "name": "stderr",
     "output_type": "stream",
     "text": [
      "C:\\Users\\jagm_li\\Documents\\vencopy_internal\\vencopy\\vencopy\\core\\flexestimators.py:361: FutureWarning: In a future version, `df.iloc[:, i] = newvals` will attempt to set the values inplace instead of always setting a new array. To retain the old behavior, use either `df[df.columns[i]] = newvals` or, if columns are non-unique, `df.isetitem(i, newvals)`\n",
      "  indeces_trip_activities.loc[multi_index_trip, \"max_residual_need\"] = res.where(\n",
      "C:\\Users\\jagm_li\\Documents\\vencopy_internal\\vencopy\\vencopy\\core\\flexestimators.py:361: FutureWarning: In a future version, `df.iloc[:, i] = newvals` will attempt to set the values inplace instead of always setting a new array. To retain the old behavior, use either `df[df.columns[i]] = newvals` or, if columns are non-unique, `df.isetitem(i, newvals)`\n",
      "  indeces_trip_activities.loc[multi_index_trip, \"max_residual_need\"] = res.where(\n",
      "C:\\Users\\jagm_li\\Documents\\vencopy_internal\\vencopy\\vencopy\\core\\flexestimators.py:361: FutureWarning: In a future version, `df.iloc[:, i] = newvals` will attempt to set the values inplace instead of always setting a new array. To retain the old behavior, use either `df[df.columns[i]] = newvals` or, if columns are non-unique, `df.isetitem(i, newvals)`\n",
      "  indeces_trip_activities.loc[multi_index_trip, \"max_residual_need\"] = res.where(\n"
     ]
    },
    {
     "name": "stdout",
     "output_type": "stream",
     "text": [
      "Calculating maximum battery level for act 6.\n",
      "Calculating maximum battery level for act 7.\n",
      "Calculating maximum battery level for act 8.\n"
     ]
    },
    {
     "name": "stderr",
     "output_type": "stream",
     "text": [
      "C:\\Users\\jagm_li\\Documents\\vencopy_internal\\vencopy\\vencopy\\core\\flexestimators.py:361: FutureWarning: In a future version, `df.iloc[:, i] = newvals` will attempt to set the values inplace instead of always setting a new array. To retain the old behavior, use either `df[df.columns[i]] = newvals` or, if columns are non-unique, `df.isetitem(i, newvals)`\n",
      "  indeces_trip_activities.loc[multi_index_trip, \"max_residual_need\"] = res.where(\n",
      "C:\\Users\\jagm_li\\Documents\\vencopy_internal\\vencopy\\vencopy\\core\\flexestimators.py:361: FutureWarning: In a future version, `df.iloc[:, i] = newvals` will attempt to set the values inplace instead of always setting a new array. To retain the old behavior, use either `df[df.columns[i]] = newvals` or, if columns are non-unique, `df.isetitem(i, newvals)`\n",
      "  indeces_trip_activities.loc[multi_index_trip, \"max_residual_need\"] = res.where(\n",
      "C:\\Users\\jagm_li\\Documents\\vencopy_internal\\vencopy\\vencopy\\core\\flexestimators.py:361: FutureWarning: In a future version, `df.iloc[:, i] = newvals` will attempt to set the values inplace instead of always setting a new array. To retain the old behavior, use either `df[df.columns[i]] = newvals` or, if columns are non-unique, `df.isetitem(i, newvals)`\n",
      "  indeces_trip_activities.loc[multi_index_trip, \"max_residual_need\"] = res.where(\n"
     ]
    },
    {
     "name": "stdout",
     "output_type": "stream",
     "text": [
      "Calculating maximum battery level for act 9.\n",
      "Calculating maximum battery level for act 10.\n",
      "Calculating maximum battery level for act 11.\n"
     ]
    },
    {
     "name": "stderr",
     "output_type": "stream",
     "text": [
      "C:\\Users\\jagm_li\\Documents\\vencopy_internal\\vencopy\\vencopy\\core\\flexestimators.py:361: FutureWarning: In a future version, `df.iloc[:, i] = newvals` will attempt to set the values inplace instead of always setting a new array. To retain the old behavior, use either `df[df.columns[i]] = newvals` or, if columns are non-unique, `df.isetitem(i, newvals)`\n",
      "  indeces_trip_activities.loc[multi_index_trip, \"max_residual_need\"] = res.where(\n",
      "C:\\Users\\jagm_li\\Documents\\vencopy_internal\\vencopy\\vencopy\\core\\flexestimators.py:361: FutureWarning: In a future version, `df.iloc[:, i] = newvals` will attempt to set the values inplace instead of always setting a new array. To retain the old behavior, use either `df[df.columns[i]] = newvals` or, if columns are non-unique, `df.isetitem(i, newvals)`\n",
      "  indeces_trip_activities.loc[multi_index_trip, \"max_residual_need\"] = res.where(\n",
      "C:\\Users\\jagm_li\\Documents\\vencopy_internal\\vencopy\\vencopy\\core\\flexestimators.py:361: FutureWarning: In a future version, `df.iloc[:, i] = newvals` will attempt to set the values inplace instead of always setting a new array. To retain the old behavior, use either `df[df.columns[i]] = newvals` or, if columns are non-unique, `df.isetitem(i, newvals)`\n",
      "  indeces_trip_activities.loc[multi_index_trip, \"max_residual_need\"] = res.where(\n"
     ]
    },
    {
     "name": "stdout",
     "output_type": "stream",
     "text": [
      "Calculating maximum battery level for act 12.\n"
     ]
    },
    {
     "name": "stderr",
     "output_type": "stream",
     "text": [
      "C:\\Users\\jagm_li\\Documents\\vencopy_internal\\vencopy\\vencopy\\core\\flexestimators.py:361: FutureWarning: In a future version, `df.iloc[:, i] = newvals` will attempt to set the values inplace instead of always setting a new array. To retain the old behavior, use either `df[df.columns[i]] = newvals` or, if columns are non-unique, `df.isetitem(i, newvals)`\n",
      "  indeces_trip_activities.loc[multi_index_trip, \"max_residual_need\"] = res.where(\n"
     ]
    },
    {
     "name": "stdout",
     "output_type": "stream",
     "text": [
      "Finished iteration 10 / 10. Delta max battery level is 27, delta min battery level is 840 and threshold epsilon is 1.\n",
      "Technical flexibility estimation ended.\n",
      "146 activities dropped from 1455 total activities because activity length equals zero.\n",
      "Starting to discretise drain.\n",
      "Discretisation finished for drain.\n",
      "Needed time to discretise drain: 0.5139966011047363.\n",
      "Starting to discretise available_power.\n",
      "Discretisation finished for available_power.\n",
      "Needed time to discretise available_power: 0.5029962062835693.\n",
      "Starting to discretise uncontrolled_charging.\n",
      "Discretisation finished for uncontrolled_charging.\n",
      "Needed time to discretise uncontrolled_charging: 0.5520210266113281.\n",
      "Starting to discretise max_battery_level_start.\n",
      "Discretisation finished for max_battery_level_start.\n",
      "Needed time to discretise max_battery_level_start: 0.5469779968261719.\n",
      "Starting to discretise min_battery_level_end.\n",
      "Discretisation finished for min_battery_level_end.\n",
      "Needed time to discretise min_battery_level_end: 0.5510060787200928.\n",
      "Needed time to discretise all columns: 2.6769626140594482.\n",
      "Starting to aggregate drain to fleet level based on day of the week.\n",
      "Dataset written to c:\\Users\\jagm_li\\Documents\\vencopy_internal\\vencopy\\output\\profileaggregator\\vencopy_output_profileaggregator_None_drain_MiD17.csv.\n",
      "Aggregation finished for drain.\n",
      "Needed time to aggregate drain: 0.0189969539642334.\n",
      "Starting to aggregate charging_power to fleet level based on day of the week.\n",
      "Dataset written to c:\\Users\\jagm_li\\Documents\\vencopy_internal\\vencopy\\output\\profileaggregator\\vencopy_output_profileaggregator_None_charging_power_MiD17.csv.\n",
      "Aggregation finished for charging_power.\n",
      "Needed time to aggregate charging_power: 0.019002676010131836.\n",
      "Starting to aggregate uncontrolled_charging to fleet level based on day of the week.\n",
      "Dataset written to c:\\Users\\jagm_li\\Documents\\vencopy_internal\\vencopy\\output\\profileaggregator\\vencopy_output_profileaggregator_None_uncontrolled_charging_MiD17.csv.\n",
      "Aggregation finished for uncontrolled_charging.\n",
      "Needed time to aggregate uncontrolled_charging: 0.01770186424255371.\n",
      "Starting to aggregate max_battery_level to fleet level based on day of the week.\n",
      "Dataset written to c:\\Users\\jagm_li\\Documents\\vencopy_internal\\vencopy\\output\\profileaggregator\\vencopy_output_profileaggregator_None_max_battery_level_MiD17.csv.\n",
      "Aggregation finished for max_battery_level.\n",
      "Needed time to aggregate max_battery_level: 0.3053765296936035.\n",
      "Starting to aggregate min_battery_level to fleet level based on day of the week.\n",
      "Dataset written to c:\\Users\\jagm_li\\Documents\\vencopy_internal\\vencopy\\output\\profileaggregator\\vencopy_output_profileaggregator_None_min_battery_level_MiD17.csv.\n",
      "Aggregation finished for min_battery_level.\n",
      "Needed time to aggregate min_battery_level: 0.30913782119750977.\n",
      "Aggregation finished for all profiles.\n"
     ]
    },
    {
     "data": {
      "image/png": "[encoded data removed]",
      "text/plain": [
       "<Figure size 1000x600 with 1 Axes>"
      ]
     },
     "metadata": {},
     "output_type": "display_data"
    }
   ],
   "source": [
    "# Estimate charging flexibility based on driving profiles and charge connection\n",
    "flex = FlexEstimator(configs=configs, activities=grid.activities)\n",
    "flex.estimate_technical_flexibility_through_iteration()\n",
    "\n",
    "diary = DiaryBuilder(configs=configs, activities=flex.activities)\n",
    "diary.create_diaries()\n",
    "\n",
    "\n",
    "profiles = ProfileAggregator(configs=configs, activities=diary.activities, profiles=diary)\n",
    "profiles.aggregate_profiles()\n",
    "\n",
    "import matplotlib.pyplot as plt\n",
    "\n",
    "plt.figure(figsize=(10, 6))\n",
    "plt.plot(profiles.charging_power_weekly.index, profiles.charging_power_weekly.iloc[:])  \n",
    "plt.xlim(profiles.charging_power_weekly.index[0], profiles.charging_power_weekly.index[-1])\n",
    "plt.title('Uncontrolled Charge Volume')\n",
    "plt.xlabel('Time')\n",
    "plt.ylabel('Charge Volume')\n",
    "plt.grid(True)\n",
    "\n",
    "plt.show()"
   ]
  },
  {
   "cell_type": "markdown",
   "metadata": {},
   "source": [
    "From the plots we can see how different the charging power looks, when the option of home charging is cancelled.  "
   ]
  },
  {
   "cell_type": "markdown",
   "metadata": {},
   "source": [
    "## Next Steps"
   ]
  },
  {
   "cell_type": "markdown",
   "metadata": {},
   "source": [
    "In the next tutorial, you will learn more in detail the internal workings of the FlexEstimator class and how to customise some settings."
   ]
  }
 ],
 "metadata": {
  "kernelspec": {
   "display_name": "Python 3",
   "language": "python",
   "name": "python3"
  },
  "language_info": {
   "codemirror_mode": {
    "name": "ipython",
    "version": 3
   },
   "file_extension": ".py",
   "mimetype": "text/x-python",
   "name": "python",
   "nbconvert_exporter": "python",
   "pygments_lexer": "ipython3",
   "version": "3.9.18"
  }
 },
 "nbformat": 4,
 "nbformat_minor": 4
}
