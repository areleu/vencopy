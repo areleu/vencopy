{
 "cells": [
  {
   "cell_type": "markdown",
   "metadata": {},
   "source": [
    "# Tutorial 4 venco.py"
   ]
  },
  {
   "cell_type": "markdown",
   "metadata": {},
   "source": [
    "This tutorial aims to give a more in depth overview into the FlexEstimator class and showcases some features that can be customised."
   ]
  },
  {
   "cell_type": "code",
   "execution_count": 6,
   "metadata": {},
   "outputs": [],
   "source": [
    "from pathlib import Path\n",
    "import matplotlib.pyplot as plt\n",
    "\n",
    "from vencopy.core.dataparsers import parse_data\n",
    "from vencopy.core.flexestimators import FlexEstimator\n",
    "from vencopy.core.gridmodellers import GridModeller\n",
    "from vencopy.core.diarybuilders import DiaryBuilder\n",
    "from vencopy.core.profileaggregators import ProfileAggregator\n",
    "from vencopy.utils.utils import load_configs, create_output_folders"
   ]
  },
  {
   "cell_type": "code",
   "execution_count": 7,
   "metadata": {},
   "outputs": [],
   "source": [
    "base_path = Path.cwd().parent /'vencopy'\n",
    "configs = load_configs(base_path)\n",
    "create_output_folders(configs=configs)\n",
    "\n",
    "# Adapt relative paths in config for tutorials\n",
    "configs['dev_config']['global']['relative_path']['parse_output'] = Path.cwd().parent / configs['dev_config']['global']['relative_path']['parse_output']\n",
    "configs['dev_config']['global']['relative_path']['diary_output'] = Path.cwd().parent  / configs['dev_config']['global']['relative_path']['diary_output']\n",
    "configs['dev_config']['global']['relative_path']['grid_output'] = Path.cwd().parent / configs['dev_config']['global']['relative_path']['grid_output']\n",
    "configs['dev_config']['global']['relative_path']['flex_output'] = Path.cwd().parent / configs['dev_config']['global']['relative_path']['flex_output']\n",
    "configs['dev_config']['global']['relative_path']['aggregator_output'] = Path.cwd().parent / configs['dev_config']['global']['relative_path']['aggregator_output']\n",
    "configs['dev_config']['global']['relative_path']['processor_output'] = Path.cwd().parent / configs['dev_config']['global']['relative_path']['processor_output']\n",
    "\n",
    "# Set reference dataset\n",
    "dataset_id = 'MiD17'\n",
    "\n",
    "# Modify the localPathConfig file to point to the .csv file in the sampling folder in the tutorials directory where the dataset for the tutorials lies.\n",
    "configs[\"user_config\"][\"global\"][\"absolute_path\"][\"vencopy_root\"] = Path.cwd()\n",
    "configs['user_config']['global']['absolute_path'][dataset_id] = Path.cwd() /'data_sampling'\n",
    "\n",
    "# Similarly we modify the dataset_id in the global config file\n",
    "configs['dev_config']['global']['files'][dataset_id]['trips_data_raw'] = dataset_id + '.csv'\n",
    "\n",
    "\n",
    "# We also modify the parseConfig by removing some of the columns that are normally parsed from the MiD, which are not available in our semplified test dataframe\n",
    "del configs['dev_config']['dataparsers']['data_variables']['household_id']\n",
    "del configs['dev_config']['dataparsers']['data_variables']['person_id']\n",
    "\n"
   ]
  },
  {
   "cell_type": "markdown",
   "metadata": {},
   "source": [
    "## FlexEstimator config file"
   ]
  },
  {
   "cell_type": "markdown",
   "metadata": {},
   "source": [
    "The FlexEstimator config file contains the technical specifications.."
   ]
  },
  {
   "cell_type": "code",
   "execution_count": 8,
   "metadata": {},
   "outputs": [
    {
     "data": {
      "text/plain": [
       "{'filter_fuel_need': True,\n",
       " 'battery_capacity': 50,\n",
       " 'electric_consumption': 18.0,\n",
       " 'fuel_consumption': 1.0,\n",
       " 'start_soc': 0.5,\n",
       " 'maximum_soc': 0.97,\n",
       " 'minimum_soc': 0.03,\n",
       " 'max_iterations': 10,\n",
       " 'epsilon_battery_level': 0.0001}"
      ]
     },
     "execution_count": 8,
     "metadata": {},
     "output_type": "execute_result"
    }
   ],
   "source": [
    "configs['user_config']['flexestimators']"
   ]
  },
  {
   "cell_type": "markdown",
   "metadata": {},
   "source": [
    "## _FlexEstimator_ class"
   ]
  },
  {
   "cell_type": "markdown",
   "metadata": {},
   "source": [
    "To use the FlexEstimator class, we first need to run the DataParses as well as the GridModeller as they have an argument to the FlexEstimator class."
   ]
  },
  {
   "cell_type": "code",
   "execution_count": 9,
   "metadata": {},
   "outputs": [
    {
     "name": "stdout",
     "output_type": "stream",
     "text": [
      "Generic file parsing properties set up.\n",
      "Starting to retrieve local data file from c:\\Users\\mior_fa\\Documents\\7_Work\\vencopy\\vencopy_internal\\vencopy\\tutorials\\data_sampling\\MiD17.csv.\n",
      "Finished loading 2124 rows of raw data of type .csv.\n",
      "Running in debug mode.\n",
      "Finished harmonization of variables.\n",
      "Finished harmonization of ID variables.\n",
      "Starting filtering, applying 8 filters.\n",
      "All filters combined yielded that a total of 241 trips are taken into account.\n",
      "This corresponds to 40.166666666666664 percent of the original data.\n",
      "Completed park timestamp adjustments.\n",
      "Finished activity composition with 240 trips and 240 parking activites.\n"
     ]
    },
    {
     "ename": "OSError",
     "evalue": "Cannot save file into a non-existent directory: 'c:\\Users\\mior_fa\\Documents\\7_Work\\vencopy\\vencopy_internal\\vencopy\\output\\dataparser'",
     "output_type": "error",
     "traceback": [
      "\u001b[1;31m---------------------------------------------------------------------------\u001b[0m",
      "\u001b[1;31mOSError\u001b[0m                                   Traceback (most recent call last)",
      "\u001b[1;32mc:\\Users\\mior_fa\\Documents\\7_Work\\vencopy\\vencopy_internal\\vencopy\\tutorials\\vencopy_tutorial_04.ipynb Cell 10\u001b[0m line \u001b[0;36m4\n\u001b[0;32m      <a href='vscode-notebook-cell:/c%3A/Users/mior_fa/Documents/7_Work/vencopy/vencopy_internal/vencopy/tutorials/vencopy_tutorial_04.ipynb#X12sZmlsZQ%3D%3D?line=0'>1</a>\u001b[0m base_path \u001b[39m=\u001b[39m Path\u001b[39m.\u001b[39mcwd() \u001b[39m/\u001b[39m\u001b[39m'\u001b[39m\u001b[39mvencopy\u001b[39m\u001b[39m'\u001b[39m\n\u001b[0;32m      <a href='vscode-notebook-cell:/c%3A/Users/mior_fa/Documents/7_Work/vencopy/vencopy_internal/vencopy/tutorials/vencopy_tutorial_04.ipynb#X12sZmlsZQ%3D%3D?line=2'>3</a>\u001b[0m data \u001b[39m=\u001b[39m parse_data(configs\u001b[39m=\u001b[39mconfigs)\n\u001b[1;32m----> <a href='vscode-notebook-cell:/c%3A/Users/mior_fa/Documents/7_Work/vencopy/vencopy_internal/vencopy/tutorials/vencopy_tutorial_04.ipynb#X12sZmlsZQ%3D%3D?line=3'>4</a>\u001b[0m data\u001b[39m=\u001b[39m data\u001b[39m.\u001b[39;49mprocess()\n\u001b[0;32m      <a href='vscode-notebook-cell:/c%3A/Users/mior_fa/Documents/7_Work/vencopy/vencopy_internal/vencopy/tutorials/vencopy_tutorial_04.ipynb#X12sZmlsZQ%3D%3D?line=5'>6</a>\u001b[0m grid \u001b[39m=\u001b[39m GridModeller(configs\u001b[39m=\u001b[39mconfigs, activities\u001b[39m=\u001b[39mdata)\n\u001b[0;32m      <a href='vscode-notebook-cell:/c%3A/Users/mior_fa/Documents/7_Work/vencopy/vencopy_internal/vencopy/tutorials/vencopy_tutorial_04.ipynb#X12sZmlsZQ%3D%3D?line=6'>7</a>\u001b[0m grid\u001b[39m.\u001b[39massign_grid()\n",
      "File \u001b[1;32m~\\Documents\\7_Work\\vencopy\\vencopy_internal\\vencopy\\vencopy\\core\\dataparsers\\parseMiD.py:77\u001b[0m, in \u001b[0;36mParseMiD.process\u001b[1;34m(self)\u001b[0m\n\u001b[0;32m     75\u001b[0m \u001b[39mself\u001b[39m\u001b[39m.\u001b[39m_filter(filters\u001b[39m=\u001b[39m\u001b[39mself\u001b[39m\u001b[39m.\u001b[39mfilters)\n\u001b[0;32m     76\u001b[0m \u001b[39mself\u001b[39m\u001b[39m.\u001b[39mactivities \u001b[39m=\u001b[39m \u001b[39mself\u001b[39m\u001b[39m.\u001b[39mpark_inference\u001b[39m.\u001b[39madd_parking_rows(trips\u001b[39m=\u001b[39m\u001b[39mself\u001b[39m\u001b[39m.\u001b[39mtrips)\n\u001b[1;32m---> 77\u001b[0m \u001b[39mself\u001b[39;49m\u001b[39m.\u001b[39;49mwrite_output()\n\u001b[0;32m     78\u001b[0m \u001b[39mprint\u001b[39m(\u001b[39m\"\u001b[39m\u001b[39mParsing MiD dataset completed.\u001b[39m\u001b[39m\"\u001b[39m)\n\u001b[0;32m     79\u001b[0m \u001b[39mreturn\u001b[39;00m \u001b[39mself\u001b[39m\u001b[39m.\u001b[39mactivities\n",
      "File \u001b[1;32m~\\Documents\\7_Work\\vencopy\\vencopy_internal\\vencopy\\vencopy\\core\\dataparsers\\dataparsers.py:501\u001b[0m, in \u001b[0;36mDataParser.write_output\u001b[1;34m(self)\u001b[0m\n\u001b[0;32m    493\u001b[0m folder \u001b[39m=\u001b[39m \u001b[39mself\u001b[39m\u001b[39m.\u001b[39mdev_config[\u001b[39m\"\u001b[39m\u001b[39mglobal\u001b[39m\u001b[39m\"\u001b[39m][\u001b[39m\"\u001b[39m\u001b[39mrelative_path\u001b[39m\u001b[39m\"\u001b[39m][\u001b[39m\"\u001b[39m\u001b[39mparse_output\u001b[39m\u001b[39m\"\u001b[39m]\n\u001b[0;32m    494\u001b[0m file_name \u001b[39m=\u001b[39m create_file_name(\n\u001b[0;32m    495\u001b[0m     dev_config\u001b[39m=\u001b[39m\u001b[39mself\u001b[39m\u001b[39m.\u001b[39mdev_config,\n\u001b[0;32m    496\u001b[0m     user_config\u001b[39m=\u001b[39m\u001b[39mself\u001b[39m\u001b[39m.\u001b[39muser_config,\n\u001b[1;32m   (...)\u001b[0m\n\u001b[0;32m    499\u001b[0m     manual_label\u001b[39m=\u001b[39m\u001b[39m\"\u001b[39m\u001b[39m\"\u001b[39m,\n\u001b[0;32m    500\u001b[0m )\n\u001b[1;32m--> 501\u001b[0m write_out(data\u001b[39m=\u001b[39;49m\u001b[39mself\u001b[39;49m\u001b[39m.\u001b[39;49mactivities, path\u001b[39m=\u001b[39;49mroot \u001b[39m/\u001b[39;49m folder \u001b[39m/\u001b[39;49m file_name)\n",
      "File \u001b[1;32m~\\Documents\\7_Work\\vencopy\\vencopy_internal\\vencopy\\vencopy\\utils\\utils.py:159\u001b[0m, in \u001b[0;36mwrite_out\u001b[1;34m(data, path)\u001b[0m\n\u001b[0;32m    151\u001b[0m \u001b[39mdef\u001b[39;00m \u001b[39mwrite_out\u001b[39m(data: pd\u001b[39m.\u001b[39mDataFrame, path: Path):\n\u001b[0;32m    152\u001b[0m \u001b[39m    \u001b[39m\u001b[39m\"\"\"\u001b[39;00m\n\u001b[0;32m    153\u001b[0m \u001b[39m    _summary_\u001b[39;00m\n\u001b[0;32m    154\u001b[0m \n\u001b[1;32m   (...)\u001b[0m\n\u001b[0;32m    157\u001b[0m \u001b[39m        path (Path): _description_\u001b[39;00m\n\u001b[0;32m    158\u001b[0m \u001b[39m    \"\"\"\u001b[39;00m\n\u001b[1;32m--> 159\u001b[0m     data\u001b[39m.\u001b[39;49mto_csv(path)\n\u001b[0;32m    160\u001b[0m     \u001b[39mprint\u001b[39m(\u001b[39mf\u001b[39m\u001b[39m\"\u001b[39m\u001b[39mDataset written to \u001b[39m\u001b[39m{\u001b[39;00mpath\u001b[39m}\u001b[39;00m\u001b[39m.\u001b[39m\u001b[39m\"\u001b[39m)\n",
      "File \u001b[1;32mc:\\Users\\mior_fa\\.conda\\envs\\vencopy_testing\\Lib\\site-packages\\pandas\\util\\_decorators.py:211\u001b[0m, in \u001b[0;36mdeprecate_kwarg.<locals>._deprecate_kwarg.<locals>.wrapper\u001b[1;34m(*args, **kwargs)\u001b[0m\n\u001b[0;32m    209\u001b[0m     \u001b[39melse\u001b[39;00m:\n\u001b[0;32m    210\u001b[0m         kwargs[new_arg_name] \u001b[39m=\u001b[39m new_arg_value\n\u001b[1;32m--> 211\u001b[0m \u001b[39mreturn\u001b[39;00m func(\u001b[39m*\u001b[39;49margs, \u001b[39m*\u001b[39;49m\u001b[39m*\u001b[39;49mkwargs)\n",
      "File \u001b[1;32mc:\\Users\\mior_fa\\.conda\\envs\\vencopy_testing\\Lib\\site-packages\\pandas\\core\\generic.py:3720\u001b[0m, in \u001b[0;36mNDFrame.to_csv\u001b[1;34m(self, path_or_buf, sep, na_rep, float_format, columns, header, index, index_label, mode, encoding, compression, quoting, quotechar, lineterminator, chunksize, date_format, doublequote, escapechar, decimal, errors, storage_options)\u001b[0m\n\u001b[0;32m   3709\u001b[0m df \u001b[39m=\u001b[39m \u001b[39mself\u001b[39m \u001b[39mif\u001b[39;00m \u001b[39misinstance\u001b[39m(\u001b[39mself\u001b[39m, ABCDataFrame) \u001b[39melse\u001b[39;00m \u001b[39mself\u001b[39m\u001b[39m.\u001b[39mto_frame()\n\u001b[0;32m   3711\u001b[0m formatter \u001b[39m=\u001b[39m DataFrameFormatter(\n\u001b[0;32m   3712\u001b[0m     frame\u001b[39m=\u001b[39mdf,\n\u001b[0;32m   3713\u001b[0m     header\u001b[39m=\u001b[39mheader,\n\u001b[1;32m   (...)\u001b[0m\n\u001b[0;32m   3717\u001b[0m     decimal\u001b[39m=\u001b[39mdecimal,\n\u001b[0;32m   3718\u001b[0m )\n\u001b[1;32m-> 3720\u001b[0m \u001b[39mreturn\u001b[39;00m DataFrameRenderer(formatter)\u001b[39m.\u001b[39;49mto_csv(\n\u001b[0;32m   3721\u001b[0m     path_or_buf,\n\u001b[0;32m   3722\u001b[0m     lineterminator\u001b[39m=\u001b[39;49mlineterminator,\n\u001b[0;32m   3723\u001b[0m     sep\u001b[39m=\u001b[39;49msep,\n\u001b[0;32m   3724\u001b[0m     encoding\u001b[39m=\u001b[39;49mencoding,\n\u001b[0;32m   3725\u001b[0m     errors\u001b[39m=\u001b[39;49merrors,\n\u001b[0;32m   3726\u001b[0m     compression\u001b[39m=\u001b[39;49mcompression,\n\u001b[0;32m   3727\u001b[0m     quoting\u001b[39m=\u001b[39;49mquoting,\n\u001b[0;32m   3728\u001b[0m     columns\u001b[39m=\u001b[39;49mcolumns,\n\u001b[0;32m   3729\u001b[0m     index_label\u001b[39m=\u001b[39;49mindex_label,\n\u001b[0;32m   3730\u001b[0m     mode\u001b[39m=\u001b[39;49mmode,\n\u001b[0;32m   3731\u001b[0m     chunksize\u001b[39m=\u001b[39;49mchunksize,\n\u001b[0;32m   3732\u001b[0m     quotechar\u001b[39m=\u001b[39;49mquotechar,\n\u001b[0;32m   3733\u001b[0m     date_format\u001b[39m=\u001b[39;49mdate_format,\n\u001b[0;32m   3734\u001b[0m     doublequote\u001b[39m=\u001b[39;49mdoublequote,\n\u001b[0;32m   3735\u001b[0m     escapechar\u001b[39m=\u001b[39;49mescapechar,\n\u001b[0;32m   3736\u001b[0m     storage_options\u001b[39m=\u001b[39;49mstorage_options,\n\u001b[0;32m   3737\u001b[0m )\n",
      "File \u001b[1;32mc:\\Users\\mior_fa\\.conda\\envs\\vencopy_testing\\Lib\\site-packages\\pandas\\util\\_decorators.py:211\u001b[0m, in \u001b[0;36mdeprecate_kwarg.<locals>._deprecate_kwarg.<locals>.wrapper\u001b[1;34m(*args, **kwargs)\u001b[0m\n\u001b[0;32m    209\u001b[0m     \u001b[39melse\u001b[39;00m:\n\u001b[0;32m    210\u001b[0m         kwargs[new_arg_name] \u001b[39m=\u001b[39m new_arg_value\n\u001b[1;32m--> 211\u001b[0m \u001b[39mreturn\u001b[39;00m func(\u001b[39m*\u001b[39;49margs, \u001b[39m*\u001b[39;49m\u001b[39m*\u001b[39;49mkwargs)\n",
      "File \u001b[1;32mc:\\Users\\mior_fa\\.conda\\envs\\vencopy_testing\\Lib\\site-packages\\pandas\\io\\formats\\format.py:1189\u001b[0m, in \u001b[0;36mDataFrameRenderer.to_csv\u001b[1;34m(self, path_or_buf, encoding, sep, columns, index_label, mode, compression, quoting, quotechar, lineterminator, chunksize, date_format, doublequote, escapechar, errors, storage_options)\u001b[0m\n\u001b[0;32m   1168\u001b[0m     created_buffer \u001b[39m=\u001b[39m \u001b[39mFalse\u001b[39;00m\n\u001b[0;32m   1170\u001b[0m csv_formatter \u001b[39m=\u001b[39m CSVFormatter(\n\u001b[0;32m   1171\u001b[0m     path_or_buf\u001b[39m=\u001b[39mpath_or_buf,\n\u001b[0;32m   1172\u001b[0m     lineterminator\u001b[39m=\u001b[39mlineterminator,\n\u001b[1;32m   (...)\u001b[0m\n\u001b[0;32m   1187\u001b[0m     formatter\u001b[39m=\u001b[39m\u001b[39mself\u001b[39m\u001b[39m.\u001b[39mfmt,\n\u001b[0;32m   1188\u001b[0m )\n\u001b[1;32m-> 1189\u001b[0m csv_formatter\u001b[39m.\u001b[39;49msave()\n\u001b[0;32m   1191\u001b[0m \u001b[39mif\u001b[39;00m created_buffer:\n\u001b[0;32m   1192\u001b[0m     \u001b[39massert\u001b[39;00m \u001b[39misinstance\u001b[39m(path_or_buf, StringIO)\n",
      "File \u001b[1;32mc:\\Users\\mior_fa\\.conda\\envs\\vencopy_testing\\Lib\\site-packages\\pandas\\io\\formats\\csvs.py:241\u001b[0m, in \u001b[0;36mCSVFormatter.save\u001b[1;34m(self)\u001b[0m\n\u001b[0;32m    237\u001b[0m \u001b[39m\u001b[39m\u001b[39m\"\"\"\u001b[39;00m\n\u001b[0;32m    238\u001b[0m \u001b[39mCreate the writer & save.\u001b[39;00m\n\u001b[0;32m    239\u001b[0m \u001b[39m\"\"\"\u001b[39;00m\n\u001b[0;32m    240\u001b[0m \u001b[39m# apply compression and byte/text conversion\u001b[39;00m\n\u001b[1;32m--> 241\u001b[0m \u001b[39mwith\u001b[39;00m get_handle(\n\u001b[0;32m    242\u001b[0m     \u001b[39mself\u001b[39;49m\u001b[39m.\u001b[39;49mfilepath_or_buffer,\n\u001b[0;32m    243\u001b[0m     \u001b[39mself\u001b[39;49m\u001b[39m.\u001b[39;49mmode,\n\u001b[0;32m    244\u001b[0m     encoding\u001b[39m=\u001b[39;49m\u001b[39mself\u001b[39;49m\u001b[39m.\u001b[39;49mencoding,\n\u001b[0;32m    245\u001b[0m     errors\u001b[39m=\u001b[39;49m\u001b[39mself\u001b[39;49m\u001b[39m.\u001b[39;49merrors,\n\u001b[0;32m    246\u001b[0m     compression\u001b[39m=\u001b[39;49m\u001b[39mself\u001b[39;49m\u001b[39m.\u001b[39;49mcompression,\n\u001b[0;32m    247\u001b[0m     storage_options\u001b[39m=\u001b[39;49m\u001b[39mself\u001b[39;49m\u001b[39m.\u001b[39;49mstorage_options,\n\u001b[0;32m    248\u001b[0m ) \u001b[39mas\u001b[39;00m handles:\n\u001b[0;32m    249\u001b[0m \n\u001b[0;32m    250\u001b[0m     \u001b[39m# Note: self.encoding is irrelevant here\u001b[39;00m\n\u001b[0;32m    251\u001b[0m     \u001b[39mself\u001b[39m\u001b[39m.\u001b[39mwriter \u001b[39m=\u001b[39m csvlib\u001b[39m.\u001b[39mwriter(\n\u001b[0;32m    252\u001b[0m         handles\u001b[39m.\u001b[39mhandle,\n\u001b[0;32m    253\u001b[0m         lineterminator\u001b[39m=\u001b[39m\u001b[39mself\u001b[39m\u001b[39m.\u001b[39mlineterminator,\n\u001b[1;32m   (...)\u001b[0m\n\u001b[0;32m    258\u001b[0m         quotechar\u001b[39m=\u001b[39m\u001b[39mself\u001b[39m\u001b[39m.\u001b[39mquotechar,\n\u001b[0;32m    259\u001b[0m     )\n\u001b[0;32m    261\u001b[0m     \u001b[39mself\u001b[39m\u001b[39m.\u001b[39m_save()\n",
      "File \u001b[1;32mc:\\Users\\mior_fa\\.conda\\envs\\vencopy_testing\\Lib\\site-packages\\pandas\\io\\common.py:734\u001b[0m, in \u001b[0;36mget_handle\u001b[1;34m(path_or_buf, mode, encoding, compression, memory_map, is_text, errors, storage_options)\u001b[0m\n\u001b[0;32m    732\u001b[0m \u001b[39m# Only for write methods\u001b[39;00m\n\u001b[0;32m    733\u001b[0m \u001b[39mif\u001b[39;00m \u001b[39m\"\u001b[39m\u001b[39mr\u001b[39m\u001b[39m\"\u001b[39m \u001b[39mnot\u001b[39;00m \u001b[39min\u001b[39;00m mode \u001b[39mand\u001b[39;00m is_path:\n\u001b[1;32m--> 734\u001b[0m     check_parent_directory(\u001b[39mstr\u001b[39;49m(handle))\n\u001b[0;32m    736\u001b[0m \u001b[39mif\u001b[39;00m compression:\n\u001b[0;32m    737\u001b[0m     \u001b[39mif\u001b[39;00m compression \u001b[39m!=\u001b[39m \u001b[39m\"\u001b[39m\u001b[39mzstd\u001b[39m\u001b[39m\"\u001b[39m:\n\u001b[0;32m    738\u001b[0m         \u001b[39m# compression libraries do not like an explicit text-mode\u001b[39;00m\n",
      "File \u001b[1;32mc:\\Users\\mior_fa\\.conda\\envs\\vencopy_testing\\Lib\\site-packages\\pandas\\io\\common.py:597\u001b[0m, in \u001b[0;36mcheck_parent_directory\u001b[1;34m(path)\u001b[0m\n\u001b[0;32m    595\u001b[0m parent \u001b[39m=\u001b[39m Path(path)\u001b[39m.\u001b[39mparent\n\u001b[0;32m    596\u001b[0m \u001b[39mif\u001b[39;00m \u001b[39mnot\u001b[39;00m parent\u001b[39m.\u001b[39mis_dir():\n\u001b[1;32m--> 597\u001b[0m     \u001b[39mraise\u001b[39;00m \u001b[39mOSError\u001b[39;00m(\u001b[39mrf\u001b[39m\u001b[39m\"\u001b[39m\u001b[39mCannot save file into a non-existent directory: \u001b[39m\u001b[39m'\u001b[39m\u001b[39m{\u001b[39;00mparent\u001b[39m}\u001b[39;00m\u001b[39m'\u001b[39m\u001b[39m\"\u001b[39m)\n",
      "\u001b[1;31mOSError\u001b[0m: Cannot save file into a non-existent directory: 'c:\\Users\\mior_fa\\Documents\\7_Work\\vencopy\\vencopy_internal\\vencopy\\output\\dataparser'"
     ]
    }
   ],
   "source": [
    "base_path = Path.cwd() /'vencopy'\n",
    "\n",
    "data = parse_data(configs=configs)\n",
    "data= data.process()\n",
    "\n",
    "grid = GridModeller(configs=configs, activities=data)\n",
    "grid.assign_grid()\n"
   ]
  },
  {
   "cell_type": "markdown",
   "metadata": {},
   "source": [
    "Now we can display results on the distance all the trips have"
   ]
  },
  {
   "cell_type": "code",
   "execution_count": null,
   "metadata": {},
   "outputs": [],
   "source": [
    "# Filter out rows where trip_distance is not NaN\n",
    "filtered_df = data.dropna(subset=['trip_distance'])\n",
    "\n",
    "max_index = filtered_df['index'].max()\n",
    "\n",
    "# Plot trip distances\n",
    "plt.figure(figsize=(10, 6))\n",
    "plt.scatter(filtered_df.index, filtered_df['trip_distance'], color='blue', alpha=0.5)\n",
    "plt.title('Trip Distance Distribution')\n",
    "plt.xlabel('Index')\n",
    "plt.ylabel('Trip Distance')\n",
    "plt.grid(True)\n",
    "plt.xlim(0, max_index)\n",
    "plt.show()"
   ]
  },
  {
   "cell_type": "code",
   "execution_count": null,
   "metadata": {},
   "outputs": [],
   "source": [
    "# Estimate charging flexibility based on driving profiles and charge connection\n",
    "flex = FlexEstimator(configs=configs, activities=grid.activities)\n",
    "flex.estimate_technical_flexibility_through_iteration()\n"
   ]
  },
  {
   "cell_type": "code",
   "execution_count": null,
   "metadata": {},
   "outputs": [],
   "source": [
    "diary = DiaryBuilder(configs=configs, activities=flex.activities)\n",
    "diary.create_diaries()\n",
    "\n",
    "\n",
    "profiles = ProfileAggregator(configs=configs, activities=diary.activities, profiles=diary)\n",
    "profiles.aggregate_profiles()\n",
    "\n",
    "plt.figure(figsize=(10, 6))\n",
    "plt.plot(profiles.uncontrolled_charging_weekly.index, profiles.uncontrolled_charging_weekly.iloc[:])  \n",
    "plt.xlim(profiles.uncontrolled_charging_weekly.index[0], profiles.uncontrolled_charging_weekly.index[-1])\n",
    "plt.title('Uncontrolled Charge Volume')\n",
    "plt.xlabel('Time')\n",
    "plt.ylabel('Charge Volume')\n",
    "plt.grid(True)\n",
    "plt.show()\n"
   ]
  },
  {
   "cell_type": "markdown",
   "metadata": {},
   "source": [
    "To analyse its influence on the demand-side flexibility from EV, we will though charge the assumed size of the battery from 50 kWh to 100 kWh."
   ]
  },
  {
   "cell_type": "code",
   "execution_count": null,
   "metadata": {},
   "outputs": [],
   "source": [
    "configs['user_config']['flexestimators']['battery_capacity'] = 20.0"
   ]
  },
  {
   "cell_type": "code",
   "execution_count": null,
   "metadata": {},
   "outputs": [],
   "source": [
    "# Estimate charging flexibility based on driving profiles and charge connection\n",
    "flex = FlexEstimator(configs=configs, activities=grid.activities)\n",
    "flex.estimate_technical_flexibility_through_iteration()\n",
    "\n",
    "diary = DiaryBuilder(configs=configs, activities=flex.activities)\n",
    "diary.create_diaries()\n",
    "\n",
    "profiles = ProfileAggregator(configs=configs, activities=diary.activities, profiles=diary)\n",
    "profiles.aggregate_profiles()\n",
    "\n",
    "plt.figure(figsize=(10, 6))\n",
    "plt.plot(profiles.uncontrolled_charging_weekly.index, profiles.uncontrolled_charging_weekly.iloc[:])  \n",
    "plt.xlim(profiles.uncontrolled_charging_weekly.index[0], profiles.uncontrolled_charging_weekly.index[-1])\n",
    "plt.title('Uncontrolled Charge Volume')\n",
    "plt.xlabel('Time')\n",
    "plt.ylabel('Charge Volume')\n",
    "plt.grid(True)\n",
    "plt.show()"
   ]
  },
  {
   "cell_type": "markdown",
   "metadata": {},
   "source": [
    "By reducing the battery capacity to 20 kWh we can see from the graphs more flattened out curves, which results from vehicles charging less and reduced range of profiles that can be considered."
   ]
  },
  {
   "cell_type": "markdown",
   "metadata": {},
   "source": [
    "## Next Steps"
   ]
  },
  {
   "cell_type": "markdown",
   "metadata": {},
   "source": [
    "Come back, there will be more upcoming tutorials! :)"
   ]
  }
 ],
 "metadata": {
  "kernelspec": {
   "display_name": "vencopy-env",
   "language": "python",
   "name": "python3"
  },
  "language_info": {
   "codemirror_mode": {
    "name": "ipython",
    "version": 3
   },
   "file_extension": ".py",
   "mimetype": "text/x-python",
   "name": "python",
   "nbconvert_exporter": "python",
   "pygments_lexer": "ipython3",
   "version": "3.11.5"
  }
 },
 "nbformat": 4,
 "nbformat_minor": 4
}
